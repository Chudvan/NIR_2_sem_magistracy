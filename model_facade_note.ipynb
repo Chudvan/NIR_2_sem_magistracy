{
 "cells": [
  {
   "cell_type": "code",
   "execution_count": 81,
   "id": "f022e7a9",
   "metadata": {},
   "outputs": [],
   "source": [
    "type_model_dict = {\n",
    "    '2_7': 'model_va_clear',\n",
    "    '7_2': 'model_clear_va',\n",
    "    '7_42': 'model_clear_facs',\n",
    "    '42_7': 'model_facs_clear',\n",
    "    '2_42': 'model_va_facs',\n",
    "    '42_2': 'model_facs_va'\n",
    "}"
   ]
  },
  {
   "cell_type": "code",
   "execution_count": 91,
   "id": "8bf531f7",
   "metadata": {},
   "outputs": [],
   "source": [
    "class ModelFacade:\n",
    "    def __init__(self):\n",
    "        self.model_va_clear = None\n",
    "        self.model_clear_va = None\n",
    "        self.model_clear_facs = None\n",
    "        self.model_facs_clear = None\n",
    "        self.model_va_facs = None\n",
    "        self.model_facs_va = None\n",
    "    \n",
    "    @property\n",
    "    def model_va_clear(self):\n",
    "        return self._model_va_clear\n",
    "    \n",
    "    @model_va_clear.setter\n",
    "    def model_va_clear(self, model):\n",
    "        self._model_va_clear = model\n",
    "        \n",
    "    @property\n",
    "    def model_clear_va(self):\n",
    "        return self._model_clear_va\n",
    "    \n",
    "    @model_clear_va.setter\n",
    "    def model_clear_va(self, model):\n",
    "        self._model_clear_va = model\n",
    "        \n",
    "    @property\n",
    "    def model_clear_facs(self):\n",
    "        return self._model_clear_facs\n",
    "    \n",
    "    @model_clear_facs.setter\n",
    "    def model_clear_facs(self, model):\n",
    "        self._model_clear_facs = model\n",
    "    \n",
    "    @property\n",
    "    def model_facs_clear(self):\n",
    "        return self._model_facs_clear\n",
    "    \n",
    "    @model_facs_clear.setter\n",
    "    def model_facs_clear(self, model):\n",
    "        self._model_facs_clear = model\n",
    "        \n",
    "    @property\n",
    "    def model_va_facs(self):\n",
    "        return self._model_va_facs\n",
    "    \n",
    "    @model_va_facs.setter\n",
    "    def model_va_facs(self, model):\n",
    "        self._model_va_facs = model\n",
    "        \n",
    "    @property\n",
    "    def model_facs_va(self):\n",
    "        return self._model_facs_va\n",
    "    \n",
    "    @model_facs_va.setter\n",
    "    def model_facs_va(self, model):\n",
    "        self._model_facs_va = model\n",
    "    \n",
    "    def predict(self, type_, input_df):\n",
    "        return getattr(self, type_model_dict[type_]).predict(input_df)"
   ]
  },
  {
   "cell_type": "code",
   "execution_count": 92,
   "id": "969cfdcb",
   "metadata": {},
   "outputs": [],
   "source": [
    "m = ModelFacade()"
   ]
  },
  {
   "cell_type": "code",
   "execution_count": 93,
   "id": "5460e590",
   "metadata": {},
   "outputs": [
    {
     "data": {
      "text/plain": [
       "True"
      ]
     },
     "execution_count": 93,
     "metadata": {},
     "output_type": "execute_result"
    }
   ],
   "source": [
    "m.model_va_clear is None"
   ]
  },
  {
   "cell_type": "code",
   "execution_count": 94,
   "id": "61e565f3",
   "metadata": {},
   "outputs": [],
   "source": [
    "m.model_va_clear = ModelVAClearNeural(path)"
   ]
  },
  {
   "cell_type": "code",
   "execution_count": 95,
   "id": "457dadf8",
   "metadata": {},
   "outputs": [
    {
     "data": {
      "text/plain": [
       "<__main__.ModelVAClearNeural at 0x7fc9444517c0>"
      ]
     },
     "execution_count": 95,
     "metadata": {},
     "output_type": "execute_result"
    }
   ],
   "source": [
    "m.model_va_clear"
   ]
  },
  {
   "cell_type": "code",
   "execution_count": 96,
   "id": "083848bc",
   "metadata": {},
   "outputs": [
    {
     "data": {
      "text/html": [
       "<div>\n",
       "<style scoped>\n",
       "    .dataframe tbody tr th:only-of-type {\n",
       "        vertical-align: middle;\n",
       "    }\n",
       "\n",
       "    .dataframe tbody tr th {\n",
       "        vertical-align: top;\n",
       "    }\n",
       "\n",
       "    .dataframe thead th {\n",
       "        text-align: right;\n",
       "    }\n",
       "</style>\n",
       "<table border=\"1\" class=\"dataframe\">\n",
       "  <thead>\n",
       "    <tr style=\"text-align: right;\">\n",
       "      <th></th>\n",
       "      <th>Neutral</th>\n",
       "      <th>Happy</th>\n",
       "      <th>Sad</th>\n",
       "      <th>Angry</th>\n",
       "      <th>Surprised</th>\n",
       "      <th>Scared</th>\n",
       "      <th>Disgusted</th>\n",
       "    </tr>\n",
       "  </thead>\n",
       "  <tbody>\n",
       "    <tr>\n",
       "      <th>0</th>\n",
       "      <td>0.362294</td>\n",
       "      <td>0.009952</td>\n",
       "      <td>0.01659</td>\n",
       "      <td>0.002694</td>\n",
       "      <td>0.694171</td>\n",
       "      <td>0.011894</td>\n",
       "      <td>0.000502</td>\n",
       "    </tr>\n",
       "  </tbody>\n",
       "</table>\n",
       "</div>"
      ],
      "text/plain": [
       "    Neutral     Happy      Sad     Angry  Surprised    Scared  Disgusted\n",
       "0  0.362294  0.009952  0.01659  0.002694   0.694171  0.011894   0.000502"
      ]
     },
     "execution_count": 96,
     "metadata": {},
     "output_type": "execute_result"
    }
   ],
   "source": [
    "m.predict('2_7', df)"
   ]
  },
  {
   "cell_type": "code",
   "execution_count": 97,
   "id": "41576a5f",
   "metadata": {},
   "outputs": [
    {
     "data": {
      "text/plain": [
       "True"
      ]
     },
     "execution_count": 97,
     "metadata": {},
     "output_type": "execute_result"
    }
   ],
   "source": [
    "m.model_facs_clear is None"
   ]
  },
  {
   "cell_type": "code",
   "execution_count": null,
   "id": "4ec3ca1d",
   "metadata": {},
   "outputs": [],
   "source": []
  },
  {
   "cell_type": "code",
   "execution_count": 1,
   "id": "9853671c",
   "metadata": {},
   "outputs": [],
   "source": [
    "from abc import ABC, abstractmethod"
   ]
  },
  {
   "cell_type": "code",
   "execution_count": 40,
   "id": "cc37f2ef",
   "metadata": {},
   "outputs": [],
   "source": [
    "class AbstractModel(ABC):\n",
    "    _model = None\n",
    "    \n",
    "    @property\n",
    "    @abstractmethod\n",
    "    def type_(self):\n",
    "        pass\n",
    "\n",
    "    @abstractmethod\n",
    "    def loadmodel(self, path):\n",
    "        pass\n",
    "    \n",
    "    @abstractmethod\n",
    "    def predict(self, input_):\n",
    "        pass"
   ]
  },
  {
   "cell_type": "code",
   "execution_count": 41,
   "id": "28984d13",
   "metadata": {},
   "outputs": [],
   "source": [
    "seven_fields = [\n",
    "    'Neutral', \n",
    "    'Happy', \n",
    "    'Sad', \n",
    "    'Angry', \n",
    "    'Surprised', \n",
    "    'Scared', \n",
    "    'Disgusted'\n",
    "]"
   ]
  },
  {
   "cell_type": "code",
   "execution_count": 42,
   "id": "5acf3326",
   "metadata": {},
   "outputs": [],
   "source": [
    "class ModelVAClearNeural(AbstractModel):\n",
    "    def __init__(self, path):\n",
    "        self.loadmodel(path)\n",
    "    \n",
    "    @property\n",
    "    def type_(self):\n",
    "        return '2->7 (Neutral)'\n",
    "    \n",
    "    def loadmodel(self, path):\n",
    "        from tensorflow.keras.models import load_model\n",
    "        self._model = load_model(path)\n",
    "    \n",
    "    def predict(self, df_VA):\n",
    "        neural_vals = self._model.predict(df_VA.values)\n",
    "        df_Neural = pd.DataFrame(neural_vals, columns=seven_fields)\n",
    "        return df_Neural"
   ]
  },
  {
   "cell_type": "code",
   "execution_count": 43,
   "id": "cb38881b",
   "metadata": {},
   "outputs": [
    {
     "data": {
      "text/plain": [
       "'2->7 (Neutral)'"
      ]
     },
     "execution_count": 43,
     "metadata": {},
     "output_type": "execute_result"
    }
   ],
   "source": [
    "path = '/home/ivan/Рабочий стол/Учёба/Git/NIR_1_sem_magistracy/saved_models/third/_2/model_third_7.9.8_2'\n",
    "m = ModelVAClearNeural(path)\n",
    "m.type_"
   ]
  },
  {
   "cell_type": "code",
   "execution_count": 59,
   "id": "bab42e24",
   "metadata": {},
   "outputs": [
    {
     "data": {
      "text/html": [
       "<div>\n",
       "<style scoped>\n",
       "    .dataframe tbody tr th:only-of-type {\n",
       "        vertical-align: middle;\n",
       "    }\n",
       "\n",
       "    .dataframe tbody tr th {\n",
       "        vertical-align: top;\n",
       "    }\n",
       "\n",
       "    .dataframe thead th {\n",
       "        text-align: right;\n",
       "    }\n",
       "</style>\n",
       "<table border=\"1\" class=\"dataframe\">\n",
       "  <thead>\n",
       "    <tr style=\"text-align: right;\">\n",
       "      <th></th>\n",
       "      <th>Neutral</th>\n",
       "      <th>Happy</th>\n",
       "      <th>Sad</th>\n",
       "      <th>Angry</th>\n",
       "      <th>Surprised</th>\n",
       "      <th>Scared</th>\n",
       "      <th>Disgusted</th>\n",
       "    </tr>\n",
       "  </thead>\n",
       "  <tbody>\n",
       "    <tr>\n",
       "      <th>0</th>\n",
       "      <td>0.362294</td>\n",
       "      <td>0.009952</td>\n",
       "      <td>0.01659</td>\n",
       "      <td>0.002694</td>\n",
       "      <td>0.694171</td>\n",
       "      <td>0.011894</td>\n",
       "      <td>0.000502</td>\n",
       "    </tr>\n",
       "  </tbody>\n",
       "</table>\n",
       "</div>"
      ],
      "text/plain": [
       "    Neutral     Happy      Sad     Angry  Surprised    Scared  Disgusted\n",
       "0  0.362294  0.009952  0.01659  0.002694   0.694171  0.011894   0.000502"
      ]
     },
     "execution_count": 59,
     "metadata": {},
     "output_type": "execute_result"
    }
   ],
   "source": [
    "m.predict(df)"
   ]
  },
  {
   "cell_type": "code",
   "execution_count": 18,
   "id": "2a4edf05",
   "metadata": {},
   "outputs": [],
   "source": [
    "import pandas as pd"
   ]
  },
  {
   "cell_type": "code",
   "execution_count": 19,
   "id": "d3e1e0a7",
   "metadata": {},
   "outputs": [],
   "source": [
    "cols = ['Valence', 'Arousal']"
   ]
  },
  {
   "cell_type": "code",
   "execution_count": 55,
   "id": "040585e1",
   "metadata": {},
   "outputs": [],
   "source": [
    "rows = [{cols[0]: 0, cols[1]: 0.75}]"
   ]
  },
  {
   "cell_type": "code",
   "execution_count": 56,
   "id": "5d0086e0",
   "metadata": {},
   "outputs": [
    {
     "data": {
      "text/html": [
       "<div>\n",
       "<style scoped>\n",
       "    .dataframe tbody tr th:only-of-type {\n",
       "        vertical-align: middle;\n",
       "    }\n",
       "\n",
       "    .dataframe tbody tr th {\n",
       "        vertical-align: top;\n",
       "    }\n",
       "\n",
       "    .dataframe thead th {\n",
       "        text-align: right;\n",
       "    }\n",
       "</style>\n",
       "<table border=\"1\" class=\"dataframe\">\n",
       "  <thead>\n",
       "    <tr style=\"text-align: right;\">\n",
       "      <th></th>\n",
       "      <th>Valence</th>\n",
       "      <th>Arousal</th>\n",
       "    </tr>\n",
       "  </thead>\n",
       "  <tbody>\n",
       "    <tr>\n",
       "      <th>0</th>\n",
       "      <td>0</td>\n",
       "      <td>0.75</td>\n",
       "    </tr>\n",
       "  </tbody>\n",
       "</table>\n",
       "</div>"
      ],
      "text/plain": [
       "   Valence  Arousal\n",
       "0        0     0.75"
      ]
     },
     "execution_count": 56,
     "metadata": {},
     "output_type": "execute_result"
    }
   ],
   "source": [
    "df = pd.DataFrame(rows, columns=cols)\n",
    "df"
   ]
  },
  {
   "cell_type": "code",
   "execution_count": 57,
   "id": "312026e6",
   "metadata": {},
   "outputs": [
    {
     "data": {
      "text/plain": [
       "array([[0.  , 0.75]])"
      ]
     },
     "execution_count": 57,
     "metadata": {},
     "output_type": "execute_result"
    }
   ],
   "source": [
    "df.values"
   ]
  },
  {
   "cell_type": "code",
   "execution_count": 58,
   "id": "18e50eb9",
   "metadata": {},
   "outputs": [
    {
     "data": {
      "text/html": [
       "<div>\n",
       "<style scoped>\n",
       "    .dataframe tbody tr th:only-of-type {\n",
       "        vertical-align: middle;\n",
       "    }\n",
       "\n",
       "    .dataframe tbody tr th {\n",
       "        vertical-align: top;\n",
       "    }\n",
       "\n",
       "    .dataframe thead th {\n",
       "        text-align: right;\n",
       "    }\n",
       "</style>\n",
       "<table border=\"1\" class=\"dataframe\">\n",
       "  <thead>\n",
       "    <tr style=\"text-align: right;\">\n",
       "      <th></th>\n",
       "      <th>Valence</th>\n",
       "      <th>Arousal</th>\n",
       "    </tr>\n",
       "  </thead>\n",
       "  <tbody>\n",
       "    <tr>\n",
       "      <th>0</th>\n",
       "      <td>0.0</td>\n",
       "      <td>0.75</td>\n",
       "    </tr>\n",
       "  </tbody>\n",
       "</table>\n",
       "</div>"
      ],
      "text/plain": [
       "   Valence  Arousal\n",
       "0      0.0     0.75"
      ]
     },
     "execution_count": 58,
     "metadata": {},
     "output_type": "execute_result"
    }
   ],
   "source": [
    "df = pd.DataFrame(df.values, columns=cols)\n",
    "df"
   ]
  },
  {
   "cell_type": "code",
   "execution_count": 48,
   "id": "8928a20e",
   "metadata": {},
   "outputs": [],
   "source": [
    "import numpy as np"
   ]
  },
  {
   "cell_type": "code",
   "execution_count": 51,
   "id": "72d02f9b",
   "metadata": {},
   "outputs": [
    {
     "data": {
      "text/plain": [
       "array([[0, 0]])"
      ]
     },
     "execution_count": 51,
     "metadata": {},
     "output_type": "execute_result"
    }
   ],
   "source": [
    "np.array([[0, 0]])"
   ]
  },
  {
   "cell_type": "code",
   "execution_count": null,
   "id": "39b7fb9c",
   "metadata": {},
   "outputs": [],
   "source": [
    "class ModelVAClearStat()"
   ]
  },
  {
   "cell_type": "code",
   "execution_count": null,
   "id": "4779787b",
   "metadata": {},
   "outputs": [],
   "source": []
  },
  {
   "cell_type": "code",
   "execution_count": 1,
   "id": "e13081ee",
   "metadata": {},
   "outputs": [],
   "source": [
    "import os"
   ]
  },
  {
   "cell_type": "code",
   "execution_count": 5,
   "id": "dee165ea",
   "metadata": {},
   "outputs": [],
   "source": [
    "filename, file_extension = os.path.splitext('/path/to/somefile.tar.gz')"
   ]
  },
  {
   "cell_type": "code",
   "execution_count": 6,
   "id": "8f9f4a85",
   "metadata": {},
   "outputs": [
    {
     "data": {
      "text/plain": [
       "'.gz'"
      ]
     },
     "execution_count": 6,
     "metadata": {},
     "output_type": "execute_result"
    }
   ],
   "source": [
    "file_extension"
   ]
  },
  {
   "cell_type": "code",
   "execution_count": 4,
   "id": "deb51429",
   "metadata": {},
   "outputs": [
    {
     "data": {
      "text/plain": [
       "'/home/ivan/Рабочий стол/Учёба/Git/2_sem/NIR_2_sem_magistracy'"
      ]
     },
     "execution_count": 4,
     "metadata": {},
     "output_type": "execute_result"
    }
   ],
   "source": [
    "os.getcwd()"
   ]
  },
  {
   "cell_type": "code",
   "execution_count": 64,
   "id": "7ccb6589",
   "metadata": {},
   "outputs": [],
   "source": [
    "import tarfile"
   ]
  },
  {
   "cell_type": "code",
   "execution_count": 8,
   "id": "efb62365",
   "metadata": {},
   "outputs": [
    {
     "data": {
      "text/plain": [
       "'6.4.9_3'"
      ]
     },
     "execution_count": 8,
     "metadata": {},
     "output_type": "execute_result"
    }
   ],
   "source": [
    "os.path.basename(\"6.4.9_3\")"
   ]
  },
  {
   "cell_type": "code",
   "execution_count": 130,
   "id": "9bd33bb5",
   "metadata": {},
   "outputs": [],
   "source": [
    "with tarfile.open(\"ModelClearVANeural(7.6.9).tar.gz\",'w:gz') as tar:\n",
    "    for file in [\"type\",\"7.6.9_5\"]:\n",
    "        tar.add(file)"
   ]
  },
  {
   "cell_type": "code",
   "execution_count": 16,
   "id": "144a015c",
   "metadata": {},
   "outputs": [],
   "source": [
    "with tarfile.open(\"save.tar.gz\",'w:gz') as tar:\n",
    "    for file in [\"GUI\",\"__pycache__\"]:\n",
    "        tar.add(file)"
   ]
  },
  {
   "cell_type": "code",
   "execution_count": 34,
   "id": "1d2e57f8",
   "metadata": {},
   "outputs": [
    {
     "name": "stdout",
     "output_type": "stream",
     "text": [
      "2\n",
      "6.4.9_3\n",
      "None\n",
      "2->7 (Neural)\n",
      "\n"
     ]
    }
   ],
   "source": [
    "with tarfile.open(\"save.tar.gz\",'r:gz') as tar:\n",
    "    print(len(tar.getnames()))\n",
    "    if len(tar.getnames()) != 2:\n",
    "        raise Exception('Число файлов в архиве должно быть = 2.')\n",
    "    for file in tar:\n",
    "        if file.name != 'type':\n",
    "            print(file.name)\n",
    "            \n",
    "            print(tar.extract(file.name, '/tmp'))\n",
    "            #print(file.tobuf())\n",
    "    print(tar.extractfile('type').read().decode())"
   ]
  },
  {
   "cell_type": "code",
   "execution_count": 46,
   "id": "54a5e78d",
   "metadata": {},
   "outputs": [
    {
     "data": {
      "text/plain": [
       "['6.4.9_3']"
      ]
     },
     "execution_count": 46,
     "metadata": {},
     "output_type": "execute_result"
    }
   ],
   "source": [
    "os.listdir('/tmp/model_va_clear')"
   ]
  },
  {
   "cell_type": "code",
   "execution_count": 36,
   "id": "fdc49768",
   "metadata": {},
   "outputs": [
    {
     "data": {
      "text/plain": [
       "'/tmp/file'"
      ]
     },
     "execution_count": 36,
     "metadata": {},
     "output_type": "execute_result"
    }
   ],
   "source": [
    "import os\n",
    "os.path.join('/tmp', 'file')"
   ]
  },
  {
   "cell_type": "code",
   "execution_count": 52,
   "id": "f6865aca",
   "metadata": {},
   "outputs": [
    {
     "name": "stderr",
     "output_type": "stream",
     "text": [
      "2022-07-29 18:43:16.150072: W tensorflow/stream_executor/platform/default/dso_loader.cc:64] Could not load dynamic library 'libcudart.so.11.0'; dlerror: libcudart.so.11.0: cannot open shared object file: No such file or directory\n",
      "2022-07-29 18:43:16.150119: I tensorflow/stream_executor/cuda/cudart_stub.cc:29] Ignore above cudart dlerror if you do not have a GPU set up on your machine.\n"
     ]
    }
   ],
   "source": [
    "from tensorflow.keras.models import load_model"
   ]
  },
  {
   "cell_type": "code",
   "execution_count": 54,
   "id": "d393d4fd",
   "metadata": {},
   "outputs": [
    {
     "data": {
      "text/plain": [
       "array([[9.7643673e-01, 2.7388334e-04, 1.9906193e-02, 1.5045404e-02,\n",
       "        4.5951903e-03, 6.2279184e-08, 4.5043166e-06]], dtype=float32)"
      ]
     },
     "execution_count": 54,
     "metadata": {},
     "output_type": "execute_result"
    }
   ],
   "source": [
    "load_model('/tmp/model_va_clear/6.4.9_3').predict([[0, 0]])"
   ]
  },
  {
   "cell_type": "code",
   "execution_count": 44,
   "id": "949165ec",
   "metadata": {},
   "outputs": [
    {
     "data": {
      "text/plain": [
       "True"
      ]
     },
     "execution_count": 44,
     "metadata": {},
     "output_type": "execute_result"
    }
   ],
   "source": [
    "os.path.exists('/tmp/file')"
   ]
  },
  {
   "cell_type": "code",
   "execution_count": null,
   "id": "e7dd1457",
   "metadata": {},
   "outputs": [],
   "source": [
    "with tarfile.open(\"save.tar.gz\",'r:gz') as tar:\n",
    "    for file in tar:\n",
    "        if file.name == 'type':\n",
    "            f = file\n",
    "            #print(file.tobuf())\n",
    "    print(tar.extractfile('type').read().decode())"
   ]
  },
  {
   "cell_type": "code",
   "execution_count": 37,
   "id": "6f704b21",
   "metadata": {},
   "outputs": [],
   "source": [
    "type_model_interface_dict = {\n",
    "    '2->7 (Neural)': 'ModelVAClearNeural',\n",
    "    '2->7 (Stat)': 'ModelVAClearStat',\n",
    "    '7->2 (Neural)': 'ModelClearVANeural',\n",
    "    '7->2 (Stat)': 'ModelClearVAStat',\n",
    "    '7->42 (Stat)': 'ModelClearFACSStat',\n",
    "    '42->7 (Stat)': 'ModelFACSClearStat',\n",
    "    '2->42 (Stat)': 'ModelVAFACSStat',\n",
    "    '42->2 (Stat)': 'ModelFACSVAStat'\n",
    "}"
   ]
  },
  {
   "cell_type": "code",
   "execution_count": 38,
   "id": "c6acbbf2",
   "metadata": {},
   "outputs": [
    {
     "ename": "IndentationError",
     "evalue": "expected an indented block (588957787.py, line 6)",
     "output_type": "error",
     "traceback": [
      "\u001b[0;36m  Input \u001b[0;32mIn [38]\u001b[0;36m\u001b[0m\n\u001b[0;31m    with tarfile.open(path, 'r:gz') as tar:\u001b[0m\n\u001b[0m    ^\u001b[0m\n\u001b[0;31mIndentationError\u001b[0m\u001b[0;31m:\u001b[0m expected an indented block\n"
     ]
    }
   ],
   "source": [
    "def check_model_format(path):\n",
    "    filename, file_extension = os.path.splitext(path)\n",
    "    if file_extension != '.gz':\n",
    "        return False\n",
    "    try:\n",
    "        with tarfile.open(path, 'r:gz') as tar:\n",
    "            type_filename = 'type'\n",
    "            model_type = tar.extractfile(type_filename).read().decode()\n",
    "            if model_type not in type_model_interface_dict:\n",
    "                return False\n",
    "    except :\n",
    "        return False\n",
    "    return True"
   ]
  },
  {
   "cell_type": "code",
   "execution_count": 73,
   "id": "a5267ce0",
   "metadata": {},
   "outputs": [],
   "source": [
    "def check_model_format(path):\n",
    "    filename, file_extension = os.path.splitext(path)\n",
    "    if file_extension != '.gz':\n",
    "        return False\n",
    "    with tarfile.open(path, 'r:gz') as tar:\n",
    "        type_filename = 'type'\n",
    "        model_type = tar.extractfile(type_filename).read().decode().strip()\n",
    "        if model_type not in type_model_interface_dict:\n",
    "            return False\n",
    "        print(tar.fileobj)\n",
    "    return True"
   ]
  },
  {
   "cell_type": "code",
   "execution_count": 74,
   "id": "b34e4247",
   "metadata": {
    "scrolled": true
   },
   "outputs": [
    {
     "name": "stdout",
     "output_type": "stream",
     "text": [
      "<gzip _io.BufferedReader name='/home/ivan/Рабочий стол/Учёба/Git/2_sem/NIR_2_sem_magistracy/save.tar.gz' 0x7f3971d02e80>\n"
     ]
    },
    {
     "data": {
      "text/plain": [
       "True"
      ]
     },
     "execution_count": 74,
     "metadata": {},
     "output_type": "execute_result"
    }
   ],
   "source": [
    "path = '/home/ivan/Рабочий стол/Учёба/Git/2_sem/NIR_2_sem_magistracy/save.tar.gz'\n",
    "\n",
    "check_model_format(path)"
   ]
  },
  {
   "cell_type": "code",
   "execution_count": 53,
   "id": "2a23f170",
   "metadata": {},
   "outputs": [],
   "source": [
    "class MyClass:\n",
    "    pass"
   ]
  },
  {
   "cell_type": "code",
   "execution_count": 55,
   "id": "70bb3443",
   "metadata": {},
   "outputs": [
    {
     "data": {
      "text/plain": [
       "str"
      ]
     },
     "execution_count": 55,
     "metadata": {},
     "output_type": "execute_result"
    }
   ],
   "source": [
    "type('MyClass')"
   ]
  },
  {
   "cell_type": "code",
   "execution_count": 62,
   "id": "b62c25c0",
   "metadata": {},
   "outputs": [
    {
     "data": {
      "text/plain": [
       "'__main__'"
      ]
     },
     "execution_count": 62,
     "metadata": {},
     "output_type": "execute_result"
    }
   ],
   "source": [
    "__name__"
   ]
  },
  {
   "cell_type": "code",
   "execution_count": 61,
   "id": "a040fb0f",
   "metadata": {},
   "outputs": [
    {
     "data": {
      "text/plain": [
       "<module '__main__'>"
      ]
     },
     "execution_count": 61,
     "metadata": {},
     "output_type": "execute_result"
    }
   ],
   "source": [
    "sys.modules[__name__]"
   ]
  },
  {
   "cell_type": "code",
   "execution_count": 63,
   "id": "53f80116",
   "metadata": {},
   "outputs": [
    {
     "data": {
      "text/plain": [
       "['In',\n",
       " 'MyClass',\n",
       " 'Out',\n",
       " '_',\n",
       " '_3',\n",
       " '_34',\n",
       " '_4',\n",
       " '_40',\n",
       " '_41',\n",
       " '_43',\n",
       " '_44',\n",
       " '_46',\n",
       " '_48',\n",
       " '_52',\n",
       " '_55',\n",
       " '_56',\n",
       " '_57',\n",
       " '_58',\n",
       " '_6',\n",
       " '_60',\n",
       " '_61',\n",
       " '_62',\n",
       " '_8',\n",
       " '__',\n",
       " '___',\n",
       " '__builtin__',\n",
       " '__builtins__',\n",
       " '__doc__',\n",
       " '__loader__',\n",
       " '__name__',\n",
       " '__package__',\n",
       " '__spec__',\n",
       " '_dh',\n",
       " '_i',\n",
       " '_i1',\n",
       " '_i10',\n",
       " '_i11',\n",
       " '_i12',\n",
       " '_i13',\n",
       " '_i14',\n",
       " '_i15',\n",
       " '_i16',\n",
       " '_i17',\n",
       " '_i18',\n",
       " '_i19',\n",
       " '_i2',\n",
       " '_i20',\n",
       " '_i21',\n",
       " '_i22',\n",
       " '_i23',\n",
       " '_i24',\n",
       " '_i25',\n",
       " '_i26',\n",
       " '_i27',\n",
       " '_i28',\n",
       " '_i29',\n",
       " '_i3',\n",
       " '_i30',\n",
       " '_i31',\n",
       " '_i32',\n",
       " '_i33',\n",
       " '_i34',\n",
       " '_i35',\n",
       " '_i36',\n",
       " '_i37',\n",
       " '_i38',\n",
       " '_i39',\n",
       " '_i4',\n",
       " '_i40',\n",
       " '_i41',\n",
       " '_i42',\n",
       " '_i43',\n",
       " '_i44',\n",
       " '_i45',\n",
       " '_i46',\n",
       " '_i47',\n",
       " '_i48',\n",
       " '_i49',\n",
       " '_i5',\n",
       " '_i50',\n",
       " '_i51',\n",
       " '_i52',\n",
       " '_i53',\n",
       " '_i54',\n",
       " '_i55',\n",
       " '_i56',\n",
       " '_i57',\n",
       " '_i58',\n",
       " '_i59',\n",
       " '_i6',\n",
       " '_i60',\n",
       " '_i61',\n",
       " '_i62',\n",
       " '_i63',\n",
       " '_i7',\n",
       " '_i8',\n",
       " '_i9',\n",
       " '_ih',\n",
       " '_ii',\n",
       " '_iii',\n",
       " '_oh',\n",
       " 'check_model_format',\n",
       " 'exit',\n",
       " 'f',\n",
       " 'file',\n",
       " 'file_extension',\n",
       " 'filename',\n",
       " 'get_ipython',\n",
       " 'os',\n",
       " 'path',\n",
       " 'quit',\n",
       " 'sys',\n",
       " 'tar',\n",
       " 'tarfile',\n",
       " 'type_model_interface_dict']"
      ]
     },
     "execution_count": 63,
     "metadata": {},
     "output_type": "execute_result"
    }
   ],
   "source": [
    "dir(sys.modules[__name__])"
   ]
  },
  {
   "cell_type": "code",
   "execution_count": 16,
   "id": "578dd3fb",
   "metadata": {},
   "outputs": [
    {
     "ename": "AttributeError",
     "evalue": "module '__main__' has no attribute 'MyClass'",
     "output_type": "error",
     "traceback": [
      "\u001b[0;31m---------------------------------------------------------------------------\u001b[0m",
      "\u001b[0;31mAttributeError\u001b[0m                            Traceback (most recent call last)",
      "Input \u001b[0;32mIn [16]\u001b[0m, in \u001b[0;36m<cell line: 3>\u001b[0;34m()\u001b[0m\n\u001b[1;32m      1\u001b[0m \u001b[38;5;28;01mimport\u001b[39;00m \u001b[38;5;21;01msys\u001b[39;00m\n\u001b[0;32m----> 3\u001b[0m \u001b[38;5;28;43mgetattr\u001b[39;49m\u001b[43m(\u001b[49m\u001b[43msys\u001b[49m\u001b[38;5;241;43m.\u001b[39;49m\u001b[43mmodules\u001b[49m\u001b[43m[\u001b[49m\u001b[38;5;18;43m__name__\u001b[39;49m\u001b[43m]\u001b[49m\u001b[43m,\u001b[49m\u001b[43m \u001b[49m\u001b[38;5;124;43m'\u001b[39;49m\u001b[38;5;124;43mMyClass\u001b[39;49m\u001b[38;5;124;43m'\u001b[39;49m\u001b[43m)\u001b[49m()\n",
      "\u001b[0;31mAttributeError\u001b[0m: module '__main__' has no attribute 'MyClass'"
     ]
    }
   ],
   "source": [
    "import sys\n",
    "\n",
    "getattr(sys.modules[__name__], 'MyClass')()"
   ]
  },
  {
   "cell_type": "code",
   "execution_count": 84,
   "id": "e4844f4a",
   "metadata": {},
   "outputs": [],
   "source": [
    "data = b'H4sICJu64WIC/3NhdmUudGFyAO3VsQrCMBQF0Mx+RUYdTF/SJK2D4ugk/oEEzFCwIrWV+ve2dFAoVRxakNyzvJAE3nS5IhLR9uDqnXcnX7BRUGdoEin7Orf3kpSMGa/ZBKpb6YpmPQuTUjwvs9yvpTWpSXWsSdCMQSDKx9WPvaMNtbW6nTIx9D47spd/HVvGacr8Z3d3+fTv2/u/5n+5Sfh876vCnRfIfXAE+h/93/V/0/3KUGrQ/wGxQovVMY7G7v/EmOH+J+r3f5N/g/4HAAAAAAAAAAAAAAAA+MkTIcIR/AAoAAA='"
   ]
  },
  {
   "cell_type": "code",
   "execution_count": 75,
   "id": "77985430",
   "metadata": {},
   "outputs": [
    {
     "ename": "AttributeError",
     "evalue": "'bytes' object has no attribute 'readable'",
     "output_type": "error",
     "traceback": [
      "\u001b[0;31m---------------------------------------------------------------------------\u001b[0m",
      "\u001b[0;31mAttributeError\u001b[0m                            Traceback (most recent call last)",
      "Input \u001b[0;32mIn [75]\u001b[0m, in \u001b[0;36m<cell line: 2>\u001b[0;34m()\u001b[0m\n\u001b[1;32m      1\u001b[0m \u001b[38;5;28;01mimport\u001b[39;00m \u001b[38;5;21;01mio\u001b[39;00m\n\u001b[0;32m----> 2\u001b[0m \u001b[43mio\u001b[49m\u001b[38;5;241;43m.\u001b[39;49m\u001b[43mBufferedReader\u001b[49m\u001b[43m(\u001b[49m\u001b[43mdata\u001b[49m\u001b[43m)\u001b[49m\n",
      "\u001b[0;31mAttributeError\u001b[0m: 'bytes' object has no attribute 'readable'"
     ]
    }
   ],
   "source": [
    "import io\n",
    "io.BufferedReader(data)"
   ]
  },
  {
   "cell_type": "code",
   "execution_count": 65,
   "id": "f745cf05",
   "metadata": {},
   "outputs": [],
   "source": [
    "path = '/home/ivan/Рабочий стол/Учёба/Магистратура/2 семестр/НИР/Прогресс/Practice/July/23.07.22/format/Neuro/f.tar.gz'"
   ]
  },
  {
   "cell_type": "code",
   "execution_count": 68,
   "id": "200a4f55",
   "metadata": {},
   "outputs": [
    {
     "ename": "AttributeError",
     "evalue": "'str' object has no attribute 'tell'",
     "output_type": "error",
     "traceback": [
      "\u001b[0;31m---------------------------------------------------------------------------\u001b[0m",
      "\u001b[0;31mAttributeError\u001b[0m                            Traceback (most recent call last)",
      "Input \u001b[0;32mIn [68]\u001b[0m, in \u001b[0;36m<cell line: 1>\u001b[0;34m()\u001b[0m\n\u001b[1;32m      1\u001b[0m \u001b[38;5;28;01mwith\u001b[39;00m \u001b[38;5;28mopen\u001b[39m(path, \u001b[38;5;124m'\u001b[39m\u001b[38;5;124mr\u001b[39m\u001b[38;5;124m'\u001b[39m) \u001b[38;5;28;01mas\u001b[39;00m f:\n\u001b[0;32m----> 2\u001b[0m     \u001b[43mtarfile\u001b[49m\u001b[38;5;241;43m.\u001b[39;49m\u001b[43mTarFile\u001b[49m\u001b[43m(\u001b[49m\u001b[43mfileobj\u001b[49m\u001b[38;5;241;43m=\u001b[39;49m\u001b[43mpath\u001b[49m\u001b[43m)\u001b[49m\n",
      "File \u001b[0;32m~/.pyenv/versions/3.9.1/lib/python3.9/tarfile.py:1514\u001b[0m, in \u001b[0;36mTarFile.__init__\u001b[0;34m(self, name, mode, fileobj, format, tarinfo, dereference, ignore_zeros, encoding, errors, pax_headers, debug, errorlevel, copybufsize)\u001b[0m\n\u001b[1;32m   1512\u001b[0m \u001b[38;5;28mself\u001b[39m\u001b[38;5;241m.\u001b[39mmembers \u001b[38;5;241m=\u001b[39m []       \u001b[38;5;66;03m# list of members as TarInfo objects\u001b[39;00m\n\u001b[1;32m   1513\u001b[0m \u001b[38;5;28mself\u001b[39m\u001b[38;5;241m.\u001b[39m_loaded \u001b[38;5;241m=\u001b[39m \u001b[38;5;28;01mFalse\u001b[39;00m    \u001b[38;5;66;03m# flag if all members have been read\u001b[39;00m\n\u001b[0;32m-> 1514\u001b[0m \u001b[38;5;28mself\u001b[39m\u001b[38;5;241m.\u001b[39moffset \u001b[38;5;241m=\u001b[39m \u001b[38;5;28;43mself\u001b[39;49m\u001b[38;5;241;43m.\u001b[39;49m\u001b[43mfileobj\u001b[49m\u001b[38;5;241;43m.\u001b[39;49m\u001b[43mtell\u001b[49m()\n\u001b[1;32m   1515\u001b[0m                         \u001b[38;5;66;03m# current position in the archive file\u001b[39;00m\n\u001b[1;32m   1516\u001b[0m \u001b[38;5;28mself\u001b[39m\u001b[38;5;241m.\u001b[39minodes \u001b[38;5;241m=\u001b[39m {}        \u001b[38;5;66;03m# dictionary caching the inodes of\u001b[39;00m\n",
      "\u001b[0;31mAttributeError\u001b[0m: 'str' object has no attribute 'tell'"
     ]
    }
   ],
   "source": [
    "with open(path, 'r') as f:\n",
    "    tarfile.TarFile(fileobj=path)"
   ]
  },
  {
   "cell_type": "code",
   "execution_count": null,
   "id": "f65e3594",
   "metadata": {},
   "outputs": [],
   "source": []
  },
  {
   "cell_type": "code",
   "execution_count": 93,
   "id": "61558aa3",
   "metadata": {},
   "outputs": [
    {
     "name": "stdout",
     "output_type": "stream",
     "text": [
      "/tmp/tmpav797e44\n"
     ]
    }
   ],
   "source": [
    "import tempfile\n",
    "import base64\n",
    "\n",
    "with tempfile.NamedTemporaryFile(delete=False) as f:\n",
    "    f.write(base64.decodebytes(data))\n",
    "    print(f.name)"
   ]
  },
  {
   "cell_type": "code",
   "execution_count": 94,
   "id": "6287292b",
   "metadata": {
    "scrolled": true
   },
   "outputs": [
    {
     "name": "stdout",
     "output_type": "stream",
     "text": [
      "2->7 (Neural)\n",
      "<gzip _io.BufferedReader name='/tmp/tmpav797e44' 0x7f3970cc2f40>\n"
     ]
    }
   ],
   "source": [
    "path = '/tmp/tmpav797e44'\n",
    "\n",
    "with tarfile.open(path, 'r:gz') as tar:\n",
    "    type_filename = 'type'\n",
    "    model_type = tar.extractfile(type_filename).read().decode().strip()\n",
    "    print(model_type)\n",
    "    print(tar.fileobj)"
   ]
  },
  {
   "cell_type": "code",
   "execution_count": 90,
   "id": "02ca52c7",
   "metadata": {},
   "outputs": [
    {
     "data": {
      "text/plain": [
       "'/tmp/tmpw2a_u6_9'"
      ]
     },
     "execution_count": 90,
     "metadata": {},
     "output_type": "execute_result"
    }
   ],
   "source": [
    "path"
   ]
  },
  {
   "cell_type": "code",
   "execution_count": 91,
   "id": "7fa3cab6",
   "metadata": {},
   "outputs": [],
   "source": [
    "os.remove(path)"
   ]
  },
  {
   "cell_type": "code",
   "execution_count": null,
   "id": "8fab0664",
   "metadata": {},
   "outputs": [],
   "source": []
  },
  {
   "cell_type": "code",
   "execution_count": 87,
   "id": "7c49e631",
   "metadata": {},
   "outputs": [],
   "source": [
    "path = '/home/ivan/Рабочий стол/Учёба/Git/2_sem/NIR_2_sem_magistracy/save.tar.gz'"
   ]
  },
  {
   "cell_type": "code",
   "execution_count": 88,
   "id": "bce364b9",
   "metadata": {},
   "outputs": [
    {
     "name": "stdout",
     "output_type": "stream",
     "text": [
      "2->7 (Neural)\n",
      "<gzip _io.BufferedReader name='/home/ivan/Рабочий стол/Учёба/Git/2_sem/NIR_2_sem_magistracy/save.tar.gz' 0x7f39713820a0>\n"
     ]
    }
   ],
   "source": [
    "with tarfile.open(path, 'r:gz') as tar:\n",
    "    type_filename = 'type'\n",
    "    model_type = tar.extractfile(type_filename).read().decode().strip()\n",
    "    print(model_type)\n",
    "    print(tar.fileobj)"
   ]
  },
  {
   "cell_type": "code",
   "execution_count": null,
   "id": "a7feabc6",
   "metadata": {},
   "outputs": [],
   "source": []
  },
  {
   "cell_type": "code",
   "execution_count": null,
   "id": "3b473687",
   "metadata": {},
   "outputs": [],
   "source": [
    "print(uploaded_file_contents)\n",
    "data = uploaded_file_contents[0].encode(\"utf8\").split(b\";base64,\")[1]\n",
    "print(data)"
   ]
  },
  {
   "cell_type": "code",
   "execution_count": null,
   "id": "00c6d14e",
   "metadata": {},
   "outputs": [],
   "source": []
  },
  {
   "cell_type": "code",
   "execution_count": 96,
   "id": "14507417",
   "metadata": {},
   "outputs": [],
   "source": [
    "l = [(1, '2'), (2, '3')]"
   ]
  },
  {
   "cell_type": "code",
   "execution_count": 97,
   "id": "7d89660e",
   "metadata": {},
   "outputs": [
    {
     "data": {
      "text/plain": [
       "['2', '3']"
      ]
     },
     "execution_count": 97,
     "metadata": {},
     "output_type": "execute_result"
    }
   ],
   "source": [
    "list(map(lambda x: x[1], l))"
   ]
  },
  {
   "cell_type": "code",
   "execution_count": 99,
   "id": "9c6cb5f3",
   "metadata": {},
   "outputs": [
    {
     "data": {
      "text/plain": [
       "3"
      ]
     },
     "execution_count": 99,
     "metadata": {},
     "output_type": "execute_result"
    }
   ],
   "source": [
    "len({1, 2, 3})"
   ]
  },
  {
   "cell_type": "code",
   "execution_count": 113,
   "id": "635cdbc3",
   "metadata": {},
   "outputs": [],
   "source": [
    "l = [(1, '2', 3), (1, '1', 3), (1, '3', 3), (1, '1', 3), (1, '1', 3), (1, '2', 3)]"
   ]
  },
  {
   "cell_type": "code",
   "execution_count": 114,
   "id": "98a14d54",
   "metadata": {},
   "outputs": [],
   "source": [
    "d = {}"
   ]
  },
  {
   "cell_type": "code",
   "execution_count": 115,
   "id": "9725a1b9",
   "metadata": {},
   "outputs": [],
   "source": [
    "for t in l:\n",
    "    if t[1] not in d:\n",
    "        d[t[1]] = 0\n",
    "    d[t[1]] += 1"
   ]
  },
  {
   "cell_type": "code",
   "execution_count": 116,
   "id": "7f5c1ced",
   "metadata": {},
   "outputs": [
    {
     "data": {
      "text/plain": [
       "{'2': 2, '1': 3, '3': 1}"
      ]
     },
     "execution_count": 116,
     "metadata": {},
     "output_type": "execute_result"
    }
   ],
   "source": [
    "d"
   ]
  },
  {
   "cell_type": "code",
   "execution_count": 118,
   "id": "8f789e3f",
   "metadata": {},
   "outputs": [
    {
     "data": {
      "text/plain": [
       "('1', 3)"
      ]
     },
     "execution_count": 118,
     "metadata": {},
     "output_type": "execute_result"
    }
   ],
   "source": [
    "sorted(list(d.items()), key=lambda x: x[1])[-1]"
   ]
  },
  {
   "cell_type": "code",
   "execution_count": 119,
   "id": "efcac3a2",
   "metadata": {},
   "outputs": [],
   "source": [
    "a = 1\n",
    "b = 2"
   ]
  },
  {
   "cell_type": "code",
   "execution_count": 122,
   "id": "831a7b57",
   "metadata": {},
   "outputs": [
    {
     "data": {
      "text/plain": [
       "'Вы выбрали несколько моделей одинакового типа. Модель типа 1 встречается 2 раз.'"
      ]
     },
     "execution_count": 122,
     "metadata": {},
     "output_type": "execute_result"
    }
   ],
   "source": [
    "f'Вы выбрали несколько моделей одинакового типа. \\\n",
    "Модель типа {a} встречается {b} раз.'"
   ]
  },
  {
   "cell_type": "code",
   "execution_count": null,
   "id": "ed477082",
   "metadata": {},
   "outputs": [],
   "source": []
  },
  {
   "cell_type": "code",
   "execution_count": 1,
   "id": "ac6b9132",
   "metadata": {},
   "outputs": [],
   "source": [
    "type_model_dict = {\n",
    "    '2_7': 'model_va_clear',\n",
    "    '7_2': 'model_clear_va',\n",
    "    '7_42': 'model_clear_facs',\n",
    "    '42_7': 'model_facs_clear',\n",
    "    '2_42': 'model_va_facs',\n",
    "    '42_2': 'model_facs_va'\n",
    "}"
   ]
  },
  {
   "cell_type": "code",
   "execution_count": 5,
   "id": "436e7bd5",
   "metadata": {},
   "outputs": [],
   "source": [
    "cur_values_from_model_facade = {}"
   ]
  },
  {
   "cell_type": "code",
   "execution_count": 4,
   "id": "55634c2d",
   "metadata": {},
   "outputs": [
    {
     "name": "stdout",
     "output_type": "stream",
     "text": [
      "model_va_clear\n",
      "model_clear_va\n",
      "model_clear_facs\n",
      "model_facs_clear\n",
      "model_va_facs\n",
      "model_facs_va\n"
     ]
    }
   ],
   "source": [
    "for model_attr in type_model_dict.values():\n",
    "    cur_values_from_model_facade[model_attr] = getattr(model_facade, model_attr)"
   ]
  },
  {
   "cell_type": "code",
   "execution_count": null,
   "id": "13e81fbe",
   "metadata": {},
   "outputs": [],
   "source": [
    "getattr(model_facade, )"
   ]
  },
  {
   "cell_type": "code",
   "execution_count": null,
   "id": "9833bd49",
   "metadata": {},
   "outputs": [],
   "source": [
    "getattr(model_facade, type_model_dict[model_type])"
   ]
  },
  {
   "cell_type": "code",
   "execution_count": null,
   "id": "d8b829ec",
   "metadata": {},
   "outputs": [],
   "source": []
  },
  {
   "cell_type": "code",
   "execution_count": 6,
   "id": "81c5e550",
   "metadata": {},
   "outputs": [],
   "source": [
    "type_model_interface_dict = {\n",
    "    '2->7 (Neural)': 'ModelVAClearNeural',\n",
    "    '2->7 (Stat)': 'ModelVAClearStat',\n",
    "    '7->2 (Neural)': 'ModelClearVANeural',\n",
    "    '7->2 (Stat)': 'ModelClearVAStat',\n",
    "    '7->42 (Stat)': 'ModelClearFACSStat',\n",
    "    '42->7 (Stat)': 'ModelFACSClearStat',\n",
    "    '2->42 (Stat)': 'ModelVAFACSStat',\n",
    "    '42->2 (Stat)': 'ModelFACSVAStat'\n",
    "}"
   ]
  },
  {
   "cell_type": "code",
   "execution_count": 13,
   "id": "93f680ff",
   "metadata": {},
   "outputs": [
    {
     "data": {
      "text/plain": [
       "dict_items([('2->7 (Neural)', 'ModelVAClearNeural'), ('2->7 (Stat)', 'ModelVAClearStat'), ('7->2 (Neural)', 'ModelClearVANeural'), ('7->2 (Stat)', 'ModelClearVAStat'), ('7->42 (Stat)', 'ModelClearFACSStat'), ('42->7 (Stat)', 'ModelFACSClearStat'), ('2->42 (Stat)', 'ModelVAFACSStat'), ('42->2 (Stat)', 'ModelFACSVAStat')])"
      ]
     },
     "execution_count": 13,
     "metadata": {},
     "output_type": "execute_result"
    }
   ],
   "source": [
    "type_model_interface_dict.items()"
   ]
  },
  {
   "cell_type": "code",
   "execution_count": 12,
   "id": "48a9df8b",
   "metadata": {},
   "outputs": [
    {
     "name": "stdout",
     "output_type": "stream",
     "text": [
      "2_7\n",
      "2_7\n",
      "7_2\n",
      "7_2\n",
      "7_42\n",
      "42_7\n",
      "2_42\n",
      "42_2\n"
     ]
    }
   ],
   "source": [
    "for key in type_model_interface_dict.keys():\n",
    "    print('_'.join(key.split(' ')[0].split('->')))"
   ]
  },
  {
   "cell_type": "code",
   "execution_count": null,
   "id": "ea0e2369",
   "metadata": {},
   "outputs": [],
   "source": [
    "type_model_interface_key_to_type_model_key"
   ]
  },
  {
   "cell_type": "code",
   "execution_count": null,
   "id": "81ebc01f",
   "metadata": {},
   "outputs": [],
   "source": []
  },
  {
   "cell_type": "code",
   "execution_count": 12,
   "id": "9b019f37",
   "metadata": {},
   "outputs": [],
   "source": [
    "class ModelVAClearNeural:\n",
    "    def __init__(self, path):\n",
    "        self.loadmodel(path)\n",
    "\n",
    "    @classmethod\n",
    "    @property\n",
    "    def type_(cls):\n",
    "        return '2->7 (Neutral)'\n",
    "\n",
    "    def loadmodel(self, path):\n",
    "        print('loadmodel')"
   ]
  },
  {
   "cell_type": "code",
   "execution_count": 11,
   "id": "272f0787",
   "metadata": {},
   "outputs": [
    {
     "data": {
      "text/plain": [
       "'2->7 (Neutral)'"
      ]
     },
     "execution_count": 11,
     "metadata": {},
     "output_type": "execute_result"
    }
   ],
   "source": [
    "ModelVAClearNeural.type_"
   ]
  },
  {
   "cell_type": "code",
   "execution_count": null,
   "id": "a17704a4",
   "metadata": {},
   "outputs": [],
   "source": []
  },
  {
   "cell_type": "code",
   "execution_count": 13,
   "id": "5fbee3b8",
   "metadata": {},
   "outputs": [],
   "source": [
    "class ModelVAClearStat:\n",
    "    @classmethod\n",
    "    @property\n",
    "    def type_(cls):\n",
    "        return '2->7 (Stat)'\n",
    "\n",
    "\n",
    "class ModelClearVANeural:\n",
    "    @classmethod\n",
    "    @property\n",
    "    def type_(cls):\n",
    "        return '7->2 (Neural)'\n",
    "\n",
    "\n",
    "class ModelClearVAStat:\n",
    "    @classmethod\n",
    "    @property\n",
    "    def type_(cls):\n",
    "        return '7->2 (Stat)'\n",
    "\n",
    "\n",
    "class ModelClearFACSStat:\n",
    "    @classmethod\n",
    "    @property\n",
    "    def type_(cls):\n",
    "        return '7->42 (Stat)'\n",
    "\n",
    "\n",
    "class ModelFACSClearStat:\n",
    "    @classmethod\n",
    "    @property\n",
    "    def type_(cls):\n",
    "        return '42->7 (Stat)'\n",
    "\n",
    "\n",
    "class ModelVAFACSStat:\n",
    "    @classmethod\n",
    "    @property\n",
    "    def type_(cls):\n",
    "        return '2->42 (Stat)'\n",
    "\n",
    "\n",
    "class ModelFACSVAStat:\n",
    "    @classmethod\n",
    "    @property\n",
    "    def type_(cls):\n",
    "        return '42->2 (Stat)'\n"
   ]
  },
  {
   "cell_type": "code",
   "execution_count": null,
   "id": "ea53c1e6",
   "metadata": {},
   "outputs": [],
   "source": [
    "type_model_interface_dict = {\n",
    "    '2->7 (Neural)': 'ModelVAClearNeural',\n",
    "    '2->7 (Stat)': 'ModelVAClearStat',\n",
    "    '7->2 (Neural)': 'ModelClearVANeural',\n",
    "    '7->2 (Stat)': 'ModelClearVAStat',\n",
    "    '7->42 (Stat)': 'ModelClearFACSStat',\n",
    "    '42->7 (Stat)': 'ModelFACSClearStat',\n",
    "    '2->42 (Stat)': 'ModelVAFACSStat',\n",
    "    '42->2 (Stat)': 'ModelFACSVAStat'\n",
    "}"
   ]
  },
  {
   "cell_type": "code",
   "execution_count": 14,
   "id": "22e08bae",
   "metadata": {},
   "outputs": [
    {
     "data": {
      "text/plain": [
       "['ModelVAClearNeural',\n",
       " 'ModelVAClearStat',\n",
       " 'ModelClearVANeural',\n",
       " 'ModelClearVAStat',\n",
       " 'ModelClearFACSStat',\n",
       " 'ModelFACSClearStat',\n",
       " 'ModelVAFACSStat',\n",
       " 'ModelFACSVAStat']"
      ]
     },
     "execution_count": 14,
     "metadata": {},
     "output_type": "execute_result"
    }
   ],
   "source": [
    "abstract_model_inheritors_list = ['ModelVAClearNeural', 'ModelVAClearStat', 'ModelClearVANeural', 'ModelClearVAStat', 'ModelClearFACSStat', 'ModelFACSClearStat', 'ModelVAFACSStat', 'ModelFACSVAStat']\n",
    "abstract_model_inheritors_list"
   ]
  },
  {
   "cell_type": "code",
   "execution_count": 18,
   "id": "c1a88638",
   "metadata": {},
   "outputs": [
    {
     "data": {
      "text/plain": [
       "{'2->7 (Neutral)': 'ModelVAClearNeural',\n",
       " '2->7 (Stat)': 'ModelVAClearStat',\n",
       " '7->2 (Neural)': 'ModelClearVANeural',\n",
       " '7->2 (Stat)': 'ModelClearVAStat',\n",
       " '7->42 (Stat)': 'ModelClearFACSStat',\n",
       " '42->7 (Stat)': 'ModelFACSClearStat',\n",
       " '2->42 (Stat)': 'ModelVAFACSStat',\n",
       " '42->2 (Stat)': 'ModelFACSVAStat'}"
      ]
     },
     "execution_count": 18,
     "metadata": {},
     "output_type": "execute_result"
    }
   ],
   "source": [
    "{getattr(sys.modules[__name__], model).type_ : model for model in abstract_model_inheritors_list}"
   ]
  },
  {
   "cell_type": "code",
   "execution_count": null,
   "id": "5395472c",
   "metadata": {},
   "outputs": [],
   "source": []
  },
  {
   "cell_type": "code",
   "execution_count": 1,
   "id": "0ab7883f",
   "metadata": {},
   "outputs": [],
   "source": [
    "import pandas as pd"
   ]
  },
  {
   "cell_type": "code",
   "execution_count": 13,
   "id": "9777bb7d",
   "metadata": {},
   "outputs": [],
   "source": [
    "rows = [{'Valence': '0.3243', 'Arousal': '0.5234'}]\n",
    "cols = ['Valence', 'Arousal']"
   ]
  },
  {
   "cell_type": "code",
   "execution_count": 14,
   "id": "daf4f5bc",
   "metadata": {},
   "outputs": [
    {
     "data": {
      "text/html": [
       "<div>\n",
       "<style scoped>\n",
       "    .dataframe tbody tr th:only-of-type {\n",
       "        vertical-align: middle;\n",
       "    }\n",
       "\n",
       "    .dataframe tbody tr th {\n",
       "        vertical-align: top;\n",
       "    }\n",
       "\n",
       "    .dataframe thead th {\n",
       "        text-align: right;\n",
       "    }\n",
       "</style>\n",
       "<table border=\"1\" class=\"dataframe\">\n",
       "  <thead>\n",
       "    <tr style=\"text-align: right;\">\n",
       "      <th></th>\n",
       "      <th>Valence</th>\n",
       "      <th>Arousal</th>\n",
       "    </tr>\n",
       "  </thead>\n",
       "  <tbody>\n",
       "    <tr>\n",
       "      <th>0</th>\n",
       "      <td>0.3243</td>\n",
       "      <td>0.5234</td>\n",
       "    </tr>\n",
       "  </tbody>\n",
       "</table>\n",
       "</div>"
      ],
      "text/plain": [
       "  Valence Arousal\n",
       "0  0.3243  0.5234"
      ]
     },
     "execution_count": 14,
     "metadata": {},
     "output_type": "execute_result"
    }
   ],
   "source": [
    "df = pd.DataFrame(rows, columns=cols)\n",
    "df"
   ]
  },
  {
   "cell_type": "code",
   "execution_count": 30,
   "id": "4c877a21",
   "metadata": {},
   "outputs": [
    {
     "data": {
      "text/plain": [
       "'-0.00'"
      ]
     },
     "execution_count": 30,
     "metadata": {},
     "output_type": "execute_result"
    }
   ],
   "source": [
    "v = -0.003242\n",
    "f\"{v:.2f}\""
   ]
  },
  {
   "cell_type": "code",
   "execution_count": 26,
   "id": "7aa416ca",
   "metadata": {},
   "outputs": [],
   "source": [
    "for c in cols:\n",
    "    df[c] = df[c].apply(lambda x: f\"{float(x):.2f}\")"
   ]
  },
  {
   "cell_type": "code",
   "execution_count": 27,
   "id": "e6a01fc8",
   "metadata": {},
   "outputs": [
    {
     "data": {
      "text/html": [
       "<div>\n",
       "<style scoped>\n",
       "    .dataframe tbody tr th:only-of-type {\n",
       "        vertical-align: middle;\n",
       "    }\n",
       "\n",
       "    .dataframe tbody tr th {\n",
       "        vertical-align: top;\n",
       "    }\n",
       "\n",
       "    .dataframe thead th {\n",
       "        text-align: right;\n",
       "    }\n",
       "</style>\n",
       "<table border=\"1\" class=\"dataframe\">\n",
       "  <thead>\n",
       "    <tr style=\"text-align: right;\">\n",
       "      <th></th>\n",
       "      <th>Valence</th>\n",
       "      <th>Arousal</th>\n",
       "    </tr>\n",
       "  </thead>\n",
       "  <tbody>\n",
       "    <tr>\n",
       "      <th>0</th>\n",
       "      <td>0.32</td>\n",
       "      <td>0.52</td>\n",
       "    </tr>\n",
       "  </tbody>\n",
       "</table>\n",
       "</div>"
      ],
      "text/plain": [
       "  Valence Arousal\n",
       "0    0.32    0.52"
      ]
     },
     "execution_count": 27,
     "metadata": {},
     "output_type": "execute_result"
    }
   ],
   "source": [
    "df"
   ]
  },
  {
   "cell_type": "code",
   "execution_count": 11,
   "id": "0afc85d6",
   "metadata": {},
   "outputs": [],
   "source": [
    "l = []\n",
    "for row in df.iterrows():\n",
    "    l.append(dict(row[1]))"
   ]
  },
  {
   "cell_type": "code",
   "execution_count": 12,
   "id": "2d07483a",
   "metadata": {},
   "outputs": [
    {
     "data": {
      "text/plain": [
       "[{'Valence': '0.32', 'Arousal': '0.54'}]"
      ]
     },
     "execution_count": 12,
     "metadata": {},
     "output_type": "execute_result"
    }
   ],
   "source": [
    "l"
   ]
  },
  {
   "cell_type": "code",
   "execution_count": null,
   "id": "43fd6dfa",
   "metadata": {},
   "outputs": [],
   "source": []
  },
  {
   "cell_type": "code",
   "execution_count": 1,
   "id": "19bb20ae",
   "metadata": {},
   "outputs": [
    {
     "name": "stderr",
     "output_type": "stream",
     "text": [
      "2022-08-02 19:49:59.270107: W tensorflow/stream_executor/platform/default/dso_loader.cc:64] Could not load dynamic library 'libcudart.so.11.0'; dlerror: libcudart.so.11.0: cannot open shared object file: No such file or directory\n",
      "2022-08-02 19:49:59.270140: I tensorflow/stream_executor/cuda/cudart_stub.cc:29] Ignore above cudart dlerror if you do not have a GPU set up on your machine.\n"
     ]
    }
   ],
   "source": [
    "from tensorflow.keras.models import load_model"
   ]
  },
  {
   "cell_type": "code",
   "execution_count": 3,
   "id": "7f42faba",
   "metadata": {},
   "outputs": [
    {
     "data": {
      "text/plain": [
       "'/home/ivan/Рабочий стол/Учёба/Git/NIR_1_sem_magistracy/saved_models/third/_5'"
      ]
     },
     "execution_count": 3,
     "metadata": {},
     "output_type": "execute_result"
    }
   ],
   "source": [
    "path = '/home/ivan/Рабочий стол/Учёба/Git/NIR_1_sem_magistracy/saved_models/third/_5'\n",
    "path"
   ]
  },
  {
   "cell_type": "code",
   "execution_count": 4,
   "id": "3fbcf428",
   "metadata": {},
   "outputs": [],
   "source": []
  },
  {
   "cell_type": "code",
   "execution_count": 5,
   "id": "3a7238d1",
   "metadata": {
    "scrolled": true
   },
   "outputs": [
    {
     "data": {
      "text/plain": [
       "['7.4.9_5',\n",
       " '8.9.4_5',\n",
       " '9.5.6_5',\n",
       " '7.4.7_5',\n",
       " '7.6.8_5',\n",
       " '6.8.7_5',\n",
       " '9.6.8_5',\n",
       " '7.9.8_5',\n",
       " '6.10.2_5',\n",
       " '9.5.8_5',\n",
       " '6.5.6_5',\n",
       " '6.8.3_5',\n",
       " '9.6.7_5',\n",
       " '8.7.9_5',\n",
       " '9.10.8_5',\n",
       " '6.9.4_5',\n",
       " '9.7.9_5',\n",
       " '8.10.7_5',\n",
       " '6.8.8_5',\n",
       " '8.7.5_5',\n",
       " '9.7.7_5',\n",
       " '7.6.9_5',\n",
       " '6.4.9_5',\n",
       " '6.8.9_5',\n",
       " '8.6.9_5',\n",
       " '8.10.8_5',\n",
       " '9.4.7_5',\n",
       " '6.9.3_5',\n",
       " '9.6.9_5',\n",
       " '9.10.6_5',\n",
       " '7.7.9_5',\n",
       " '9.9.8_5',\n",
       " '9.3.8_5',\n",
       " '7.5.8_5',\n",
       " '8.9.6_5',\n",
       " '6.10.8_5',\n",
       " '6.7.9_5',\n",
       " '6.10.9_5',\n",
       " '8.10.9_5',\n",
       " '6.6.7_5',\n",
       " '7.3.2_5',\n",
       " '6.10.3_5',\n",
       " '7.6.7_5',\n",
       " '7.10.7_5',\n",
       " '7.5.7_5',\n",
       " '9.10.9_5',\n",
       " '7.10.9_5',\n",
       " '7.4.2_5',\n",
       " '7.10.8_5',\n",
       " '7.3.8_5',\n",
       " '7.9.7_5',\n",
       " '6.8.6_5',\n",
       " '8.9.8_5',\n",
       " '7.5.2_5',\n",
       " '6.9.7_5',\n",
       " '6.5.7_5']"
      ]
     },
     "execution_count": 5,
     "metadata": {},
     "output_type": "execute_result"
    }
   ],
   "source": [
    "os.listdir(path)"
   ]
  },
  {
   "cell_type": "code",
   "execution_count": 62,
   "id": "18075b93",
   "metadata": {},
   "outputs": [
    {
     "data": {
      "text/plain": [
       "'/home/ivan/Рабочий стол/Учёба/Git/NIR_1_sem_magistracy/saved_models/third/_5/8.9.6_5'"
      ]
     },
     "execution_count": 62,
     "metadata": {},
     "output_type": "execute_result"
    }
   ],
   "source": [
    "model_path = os.path.join(path, os.listdir(path)[34])\n",
    "model_path"
   ]
  },
  {
   "cell_type": "code",
   "execution_count": 63,
   "id": "9c4944dc",
   "metadata": {},
   "outputs": [
    {
     "data": {
      "text/plain": [
       "<keras.engine.functional.Functional at 0x7f7bc821b8b0>"
      ]
     },
     "execution_count": 63,
     "metadata": {},
     "output_type": "execute_result"
    }
   ],
   "source": [
    "m = load_model(model_path)\n",
    "m"
   ]
  },
  {
   "cell_type": "code",
   "execution_count": 13,
   "id": "5eb16e63",
   "metadata": {},
   "outputs": [
    {
     "data": {
      "text/plain": [
       "array([[9.8037881e-01, 4.7586620e-02, 8.0185831e-03, 1.5336245e-02,\n",
       "        1.8647939e-02, 2.9974580e-03, 1.4162637e-08]], dtype=float32)"
      ]
     },
     "execution_count": 13,
     "metadata": {},
     "output_type": "execute_result"
    }
   ],
   "source": [
    "m.predict([[0, 0]])"
   ]
  },
  {
   "cell_type": "code",
   "execution_count": 2,
   "id": "b3616071",
   "metadata": {},
   "outputs": [],
   "source": [
    "import pickle"
   ]
  },
  {
   "cell_type": "code",
   "execution_count": 4,
   "id": "c59c7357",
   "metadata": {},
   "outputs": [],
   "source": [
    "dir_ = 'models/'\n",
    "attrs = ['model_arousal',\n",
    "         'model_valence',\n",
    "'type']"
   ]
  },
  {
   "cell_type": "code",
   "execution_count": 65,
   "id": "ecc6e8c9",
   "metadata": {},
   "outputs": [
    {
     "name": "stdout",
     "output_type": "stream",
     "text": [
      "INFO:tensorflow:Assets written to: ram://c62b1fc1-e303-49dc-95d2-67b5367bdf8d/assets\n"
     ]
    }
   ],
   "source": [
    "pkl_filename = f\"{attr}.pkl\"\n",
    "pkl_path = os.path.join(dir_, pkl_filename)\n",
    "with open(pkl_path, 'wb') as file:\n",
    "    pickle.dump(m, file)"
   ]
  },
  {
   "cell_type": "code",
   "execution_count": 19,
   "id": "bfd1bc22",
   "metadata": {},
   "outputs": [],
   "source": [
    "with open(pkl_path, 'rb') as file:\n",
    "    pickle_model = pickle.load(file)"
   ]
  },
  {
   "cell_type": "code",
   "execution_count": 20,
   "id": "816fef27",
   "metadata": {},
   "outputs": [
    {
     "data": {
      "text/plain": [
       "<keras.engine.functional.Functional at 0x7f7bc9f319d0>"
      ]
     },
     "execution_count": 20,
     "metadata": {},
     "output_type": "execute_result"
    }
   ],
   "source": [
    "pickle_model"
   ]
  },
  {
   "cell_type": "code",
   "execution_count": 26,
   "id": "1611285b",
   "metadata": {},
   "outputs": [
    {
     "data": {
      "text/plain": [
       "array([[9.8037881e-01, 4.7586620e-02, 8.0185831e-03, 1.5336245e-02,\n",
       "        1.8647939e-02, 2.9974580e-03, 1.4162637e-08]], dtype=float32)"
      ]
     },
     "execution_count": 26,
     "metadata": {},
     "output_type": "execute_result"
    }
   ],
   "source": [
    "pickle_model.predict([[0, 0]])"
   ]
  },
  {
   "cell_type": "code",
   "execution_count": 37,
   "id": "a18028e6",
   "metadata": {},
   "outputs": [],
   "source": [
    "import tarfile"
   ]
  },
  {
   "cell_type": "code",
   "execution_count": 87,
   "id": "0a7383e5",
   "metadata": {},
   "outputs": [],
   "source": [
    "filename = 'ModelFACSVANeural.tar.gz'"
   ]
  },
  {
   "cell_type": "code",
   "execution_count": 109,
   "id": "8051f9b2",
   "metadata": {},
   "outputs": [
    {
     "data": {
      "text/plain": [
       "'model_happy'"
      ]
     },
     "execution_count": 109,
     "metadata": {},
     "output_type": "execute_result"
    }
   ],
   "source": [
    "attrs.pop(1)"
   ]
  },
  {
   "cell_type": "code",
   "execution_count": 110,
   "id": "cd09e0cd",
   "metadata": {},
   "outputs": [
    {
     "data": {
      "text/plain": [
       "['model_neutral',\n",
       " 'model_sad',\n",
       " 'model_angry',\n",
       " 'model_surprised',\n",
       " 'model_scared',\n",
       " 'model_disgusted',\n",
       " 'type']"
      ]
     },
     "execution_count": 110,
     "metadata": {},
     "output_type": "execute_result"
    }
   ],
   "source": [
    "attrs"
   ]
  },
  {
   "cell_type": "code",
   "execution_count": 126,
   "id": "58960a7d",
   "metadata": {},
   "outputs": [],
   "source": [
    "attrs.append('model_happy')"
   ]
  },
  {
   "cell_type": "code",
   "execution_count": 88,
   "id": "c6da8dd2",
   "metadata": {},
   "outputs": [],
   "source": [
    "attrs = ['model_clear_va.tar.gz',\n",
    "         'model_facs_clear.tar.gz',\n",
    "'type']"
   ]
  },
  {
   "cell_type": "code",
   "execution_count": 89,
   "id": "e2612cca",
   "metadata": {},
   "outputs": [
    {
     "data": {
      "text/plain": [
       "['model_clear_va.tar.gz', 'model_facs_clear.tar.gz', 'type']"
      ]
     },
     "execution_count": 89,
     "metadata": {},
     "output_type": "execute_result"
    }
   ],
   "source": [
    "attrs"
   ]
  },
  {
   "cell_type": "code",
   "execution_count": 90,
   "id": "f3cd8c1b",
   "metadata": {},
   "outputs": [
    {
     "name": "stdout",
     "output_type": "stream",
     "text": [
      "model_clear_va.tar.gz\n",
      "model_facs_clear.tar.gz\n",
      "type\n"
     ]
    }
   ],
   "source": [
    "with tarfile.open(filename,'w:gz') as tar:\n",
    "    for pkl_filename in attrs:\n",
    "        pkl_path = pkl_filename\n",
    "#         if pkl_filename != 'type':\n",
    "#             pkl_path += '.tar.gz'\n",
    "        print(pkl_path)\n",
    "        tar.add(pkl_path)"
   ]
  },
  {
   "cell_type": "code",
   "execution_count": 79,
   "id": "bf4d0f63",
   "metadata": {},
   "outputs": [
    {
     "name": "stdout",
     "output_type": "stream",
     "text": [
      "2->7 (Stat)\n",
      "<gzip _io.BufferedReader name='ModelVAClearStat.tar.gz' 0x7f7bc821ba90>\n"
     ]
    }
   ],
   "source": [
    "with tarfile.open(filename, 'r:gz') as tar:\n",
    "    type_filename = 'type'\n",
    "    model_type = tar.extractfile(type_filename).read().decode().strip()\n",
    "    print(model_type)\n",
    "    print(tar.fileobj)"
   ]
  },
  {
   "cell_type": "code",
   "execution_count": null,
   "id": "af18a987",
   "metadata": {},
   "outputs": [],
   "source": []
  },
  {
   "cell_type": "code",
   "execution_count": 87,
   "id": "c1f17085",
   "metadata": {},
   "outputs": [],
   "source": [
    "class ModelVAClearStat:\n",
    "    _model_neutral = None\n",
    "    _model_happy = None\n",
    "    _model_sad = None\n",
    "    _model_angry = None\n",
    "    _model_surprised = None\n",
    "    _model_scared = None\n",
    "    _model_disgusted = None\n",
    "    \n",
    "    def foo(self):\n",
    "        for attr in dir(self):\n",
    "            if attr.startswith('_model_'):\n",
    "                print(attr)\n",
    "#         print(dir(self))"
   ]
  },
  {
   "cell_type": "code",
   "execution_count": 88,
   "id": "1fa5803c",
   "metadata": {},
   "outputs": [],
   "source": [
    "m = ModelVAClearStat()"
   ]
  },
  {
   "cell_type": "code",
   "execution_count": 89,
   "id": "516e6e28",
   "metadata": {},
   "outputs": [
    {
     "name": "stdout",
     "output_type": "stream",
     "text": [
      "_model_angry\n",
      "_model_disgusted\n",
      "_model_happy\n",
      "_model_neutral\n",
      "_model_sad\n",
      "_model_scared\n",
      "_model_surprised\n"
     ]
    }
   ],
   "source": [
    "m.foo()"
   ]
  },
  {
   "cell_type": "code",
   "execution_count": null,
   "id": "f28248b4",
   "metadata": {},
   "outputs": [],
   "source": []
  },
  {
   "cell_type": "code",
   "execution_count": 90,
   "id": "0d907d18",
   "metadata": {},
   "outputs": [],
   "source": [
    "class MyClass:\n",
    "    def __init__(self, val):\n",
    "        self.foo(val)\n",
    "        \n",
    "    def foo(self, val):\n",
    "        raise Exception"
   ]
  },
  {
   "cell_type": "code",
   "execution_count": 94,
   "id": "0e5cf832",
   "metadata": {},
   "outputs": [],
   "source": [
    "a = 1"
   ]
  },
  {
   "cell_type": "code",
   "execution_count": 95,
   "id": "2e1e68d4",
   "metadata": {},
   "outputs": [
    {
     "data": {
      "text/plain": [
       "1"
      ]
     },
     "execution_count": 95,
     "metadata": {},
     "output_type": "execute_result"
    }
   ],
   "source": [
    "a"
   ]
  },
  {
   "cell_type": "code",
   "execution_count": 96,
   "id": "fd412d3b",
   "metadata": {},
   "outputs": [],
   "source": [
    "import sys"
   ]
  },
  {
   "cell_type": "code",
   "execution_count": 97,
   "id": "ef553276",
   "metadata": {},
   "outputs": [
    {
     "data": {
      "text/plain": [
       "'__main__'"
      ]
     },
     "execution_count": 97,
     "metadata": {},
     "output_type": "execute_result"
    }
   ],
   "source": [
    "__name__"
   ]
  },
  {
   "cell_type": "code",
   "execution_count": 101,
   "id": "efdfe466",
   "metadata": {},
   "outputs": [],
   "source": [
    "setattr(sys.modules[__name__], 'a', 2)"
   ]
  },
  {
   "cell_type": "code",
   "execution_count": 102,
   "id": "c3f9b2f6",
   "metadata": {},
   "outputs": [
    {
     "data": {
      "text/plain": [
       "2"
      ]
     },
     "execution_count": 102,
     "metadata": {},
     "output_type": "execute_result"
    }
   ],
   "source": [
    "a"
   ]
  },
  {
   "cell_type": "code",
   "execution_count": 104,
   "id": "765bc69a",
   "metadata": {},
   "outputs": [
    {
     "ename": "Exception",
     "evalue": "",
     "output_type": "error",
     "traceback": [
      "\u001b[0;31m---------------------------------------------------------------------------\u001b[0m",
      "\u001b[0;31mException\u001b[0m                                 Traceback (most recent call last)",
      "Input \u001b[0;32mIn [104]\u001b[0m, in \u001b[0;36m<cell line: 1>\u001b[0;34m()\u001b[0m\n\u001b[0;32m----> 1\u001b[0m \u001b[38;5;28msetattr\u001b[39m(sys\u001b[38;5;241m.\u001b[39mmodules[\u001b[38;5;18m__name__\u001b[39m], \u001b[38;5;124m'\u001b[39m\u001b[38;5;124ma\u001b[39m\u001b[38;5;124m'\u001b[39m, \u001b[43mMyClass\u001b[49m\u001b[43m(\u001b[49m\u001b[38;5;241;43m1\u001b[39;49m\u001b[43m)\u001b[49m)\n",
      "Input \u001b[0;32mIn [90]\u001b[0m, in \u001b[0;36mMyClass.__init__\u001b[0;34m(self, val)\u001b[0m\n\u001b[1;32m      2\u001b[0m \u001b[38;5;28;01mdef\u001b[39;00m \u001b[38;5;21m__init__\u001b[39m(\u001b[38;5;28mself\u001b[39m, val):\n\u001b[0;32m----> 3\u001b[0m     \u001b[38;5;28;43mself\u001b[39;49m\u001b[38;5;241;43m.\u001b[39;49m\u001b[43mfoo\u001b[49m\u001b[43m(\u001b[49m\u001b[43mval\u001b[49m\u001b[43m)\u001b[49m\n",
      "Input \u001b[0;32mIn [90]\u001b[0m, in \u001b[0;36mMyClass.foo\u001b[0;34m(self, val)\u001b[0m\n\u001b[1;32m      5\u001b[0m \u001b[38;5;28;01mdef\u001b[39;00m \u001b[38;5;21mfoo\u001b[39m(\u001b[38;5;28mself\u001b[39m, val):\n\u001b[0;32m----> 6\u001b[0m     \u001b[38;5;28;01mraise\u001b[39;00m \u001b[38;5;167;01mException\u001b[39;00m\n",
      "\u001b[0;31mException\u001b[0m: "
     ]
    }
   ],
   "source": [
    "setattr(sys.modules[__name__], 'a', MyClass(1))"
   ]
  },
  {
   "cell_type": "code",
   "execution_count": 105,
   "id": "8e7f19a9",
   "metadata": {},
   "outputs": [
    {
     "data": {
      "text/plain": [
       "2"
      ]
     },
     "execution_count": 105,
     "metadata": {},
     "output_type": "execute_result"
    }
   ],
   "source": [
    "a"
   ]
  },
  {
   "cell_type": "code",
   "execution_count": null,
   "id": "0c34baeb",
   "metadata": {},
   "outputs": [],
   "source": []
  },
  {
   "cell_type": "code",
   "execution_count": 119,
   "id": "40888ff4",
   "metadata": {},
   "outputs": [
    {
     "data": {
      "text/plain": [
       "['Neutral', 'Happy', 'Sad', 'Angry', 'Surprised', 'Scared', 'Disgusted']"
      ]
     },
     "execution_count": 119,
     "metadata": {},
     "output_type": "execute_result"
    }
   ],
   "source": [
    "seven_fields = ['Neutral', 'Happy', 'Sad', 'Angry', 'Surprised', 'Scared', 'Disgusted']\n",
    "seven_fields"
   ]
  },
  {
   "cell_type": "code",
   "execution_count": 117,
   "id": "a8a8ed8c",
   "metadata": {},
   "outputs": [],
   "source": [
    "d = {}\n",
    "d['Angry'] = 12\n",
    "d['Neutral'] = 10\n",
    "d['Happy'] = 11\n",
    "d['Sad'] = 9\n",
    "d['Surprised'] = 13\n",
    "d['Scared'] = 5\n",
    "d['Disgusted'] = 4"
   ]
  },
  {
   "cell_type": "code",
   "execution_count": 118,
   "id": "45f316c9",
   "metadata": {},
   "outputs": [
    {
     "data": {
      "text/plain": [
       "{'Angry': 12,\n",
       " 'Neutral': 10,\n",
       " 'Happy': 11,\n",
       " 'Sad': 9,\n",
       " 'Surprised': 13,\n",
       " 'Scared': 5,\n",
       " 'Disgusted': 4}"
      ]
     },
     "execution_count": 118,
     "metadata": {},
     "output_type": "execute_result"
    }
   ],
   "source": [
    "d"
   ]
  },
  {
   "cell_type": "code",
   "execution_count": 120,
   "id": "93a4c1d6",
   "metadata": {},
   "outputs": [
    {
     "data": {
      "text/plain": [
       "[10, 11, 9, 12, 13, 5, 4]"
      ]
     },
     "execution_count": 120,
     "metadata": {},
     "output_type": "execute_result"
    }
   ],
   "source": [
    "[d[field] for field in seven_fields]"
   ]
  },
  {
   "cell_type": "code",
   "execution_count": 121,
   "id": "c2076535",
   "metadata": {},
   "outputs": [],
   "source": [
    "model_attr = '_model_angry'"
   ]
  },
  {
   "cell_type": "code",
   "execution_count": 122,
   "id": "3bdf4f90",
   "metadata": {},
   "outputs": [],
   "source": [
    "_MODEL_ATTR_PREFIX = '_model_'"
   ]
  },
  {
   "cell_type": "code",
   "execution_count": 124,
   "id": "e9b74f7f",
   "metadata": {},
   "outputs": [
    {
     "data": {
      "text/plain": [
       "'Angry'"
      ]
     },
     "execution_count": 124,
     "metadata": {},
     "output_type": "execute_result"
    }
   ],
   "source": [
    "model_attr[len(_MODEL_ATTR_PREFIX):].capitalize()"
   ]
  },
  {
   "cell_type": "code",
   "execution_count": null,
   "id": "e188cb6d",
   "metadata": {},
   "outputs": [],
   "source": []
  },
  {
   "cell_type": "code",
   "execution_count": 132,
   "id": "e0596a2a",
   "metadata": {},
   "outputs": [],
   "source": [
    "l = ['Action_Unit_01___Inner_Brow_Raiser', 0]"
   ]
  },
  {
   "cell_type": "code",
   "execution_count": 140,
   "id": "7d4171aa",
   "metadata": {},
   "outputs": [
    {
     "data": {
      "text/plain": [
       "[False, True]"
      ]
     },
     "execution_count": 140,
     "metadata": {},
     "output_type": "execute_result"
    }
   ],
   "source": [
    "[(type(key) == float) or (type(key) == int) for key in rows[0].values]"
   ]
  },
  {
   "cell_type": "code",
   "execution_count": 137,
   "id": "d8de3fb7",
   "metadata": {},
   "outputs": [
    {
     "data": {
      "text/plain": [
       "False"
      ]
     },
     "execution_count": 137,
     "metadata": {},
     "output_type": "execute_result"
    }
   ],
   "source": [
    "all([True, False])"
   ]
  },
  {
   "cell_type": "code",
   "execution_count": null,
   "id": "7c8b2428",
   "metadata": {},
   "outputs": [],
   "source": [
    "all([(type(key) == float) or (type(key) == int) for key in rows[0].values()])"
   ]
  },
  {
   "cell_type": "code",
   "execution_count": 142,
   "id": "70cd261a",
   "metadata": {},
   "outputs": [],
   "source": [
    "d = {\n",
    "  \"data\": [\n",
    "    {\n",
    "      \"alignmentgroup\": \"TRUE\",\n",
    "      \"hovertemplate\": \"Emotion=%{x}<br>Value=%{y}<extra></extra>\",\n",
    "      \"legendgroup\": \"\",\n",
    "      \"marker\": {\n",
    "        \"color\": \"#636efa\",\n",
    "        \"pattern\": {\n",
    "          \"shape\": \"\"\n",
    "        }\n",
    "      },\n",
    "      \"name\": \"\",\n",
    "      \"offsetgroup\": \"\",\n",
    "      \"orientation\": \"v\",\n",
    "      \"showlegend\": \"FALSE\",\n",
    "      \"textposition\": \"auto\",\n",
    "      \"x\": [\n",
    "        \"Neutral\",\n",
    "        \"Happy\",\n",
    "        \"Sad\",\n",
    "        \"Angry\",\n",
    "        \"Surprised\",\n",
    "        \"Scared\",\n",
    "        \"Disgusted\"\n",
    "      ],\n",
    "      \"xaxis\": \"x\",\n",
    "      \"y\": [\n",
    "        0,\n",
    "        0,\n",
    "        0,\n",
    "        0,\n",
    "        0,\n",
    "        0,\n",
    "        0\n",
    "      ],\n",
    "      \"yaxis\": \"y\",\n",
    "      \"type\": \"bar\"\n",
    "    }\n",
    "  ],\n",
    "  \"layout\": {\n",
    "    \"template\": {\n",
    "      \"data\": {\n",
    "        \"histogram2dcontour\": [\n",
    "          {\n",
    "            \"type\": \"histogram2dcontour\",\n",
    "            \"colorbar\": {\n",
    "              \"outlinewidth\": 0,\n",
    "              \"ticks\": \"\"\n",
    "            },\n",
    "            \"colorscale\": [\n",
    "              [\n",
    "                0,\n",
    "                \"#0d0887\"\n",
    "              ],\n",
    "              [\n",
    "                0.1111111111111111,\n",
    "                \"#46039f\"\n",
    "              ],\n",
    "              [\n",
    "                0.2222222222222222,\n",
    "                \"#7201a8\"\n",
    "              ],\n",
    "              [\n",
    "                0.3333333333333333,\n",
    "                \"#9c179e\"\n",
    "              ],\n",
    "              [\n",
    "                0.4444444444444444,\n",
    "                \"#bd3786\"\n",
    "              ],\n",
    "              [\n",
    "                0.5555555555555556,\n",
    "                \"#d8576b\"\n",
    "              ],\n",
    "              [\n",
    "                0.6666666666666666,\n",
    "                \"#ed7953\"\n",
    "              ],\n",
    "              [\n",
    "                0.7777777777777778,\n",
    "                \"#fb9f3a\"\n",
    "              ],\n",
    "              [\n",
    "                0.8888888888888888,\n",
    "                \"#fdca26\"\n",
    "              ],\n",
    "              [\n",
    "                1,\n",
    "                \"#f0f921\"\n",
    "              ]\n",
    "            ]\n",
    "          }\n",
    "        ],\n",
    "        \"choropleth\": [\n",
    "          {\n",
    "            \"type\": \"choropleth\",\n",
    "            \"colorbar\": {\n",
    "              \"outlinewidth\": 0,\n",
    "              \"ticks\": \"\"\n",
    "            }\n",
    "          }\n",
    "        ],\n",
    "        \"histogram2d\": [\n",
    "          {\n",
    "            \"type\": \"histogram2d\",\n",
    "            \"colorbar\": {\n",
    "              \"outlinewidth\": 0,\n",
    "              \"ticks\": \"\"\n",
    "            },\n",
    "            \"colorscale\": [\n",
    "              [\n",
    "                0,\n",
    "                \"#0d0887\"\n",
    "              ],\n",
    "              [\n",
    "                0.1111111111111111,\n",
    "                \"#46039f\"\n",
    "              ],\n",
    "              [\n",
    "                0.2222222222222222,\n",
    "                \"#7201a8\"\n",
    "              ],\n",
    "              [\n",
    "                0.3333333333333333,\n",
    "                \"#9c179e\"\n",
    "              ],\n",
    "              [\n",
    "                0.4444444444444444,\n",
    "                \"#bd3786\"\n",
    "              ],\n",
    "              [\n",
    "                0.5555555555555556,\n",
    "                \"#d8576b\"\n",
    "              ],\n",
    "              [\n",
    "                0.6666666666666666,\n",
    "                \"#ed7953\"\n",
    "              ],\n",
    "              [\n",
    "                0.7777777777777778,\n",
    "                \"#fb9f3a\"\n",
    "              ],\n",
    "              [\n",
    "                0.8888888888888888,\n",
    "                \"#fdca26\"\n",
    "              ],\n",
    "              [\n",
    "                1,\n",
    "                \"#f0f921\"\n",
    "              ]\n",
    "            ]\n",
    "          }\n",
    "        ],\n",
    "        \"heatmap\": [\n",
    "          {\n",
    "            \"type\": \"heatmap\",\n",
    "            \"colorbar\": {\n",
    "              \"outlinewidth\": 0,\n",
    "              \"ticks\": \"\"\n",
    "            },\n",
    "            \"colorscale\": [\n",
    "              [\n",
    "                0,\n",
    "                \"#0d0887\"\n",
    "              ],\n",
    "              [\n",
    "                0.1111111111111111,\n",
    "                \"#46039f\"\n",
    "              ],\n",
    "              [\n",
    "                0.2222222222222222,\n",
    "                \"#7201a8\"\n",
    "              ],\n",
    "              [\n",
    "                0.3333333333333333,\n",
    "                \"#9c179e\"\n",
    "              ],\n",
    "              [\n",
    "                0.4444444444444444,\n",
    "                \"#bd3786\"\n",
    "              ],\n",
    "              [\n",
    "                0.5555555555555556,\n",
    "                \"#d8576b\"\n",
    "              ],\n",
    "              [\n",
    "                0.6666666666666666,\n",
    "                \"#ed7953\"\n",
    "              ],\n",
    "              [\n",
    "                0.7777777777777778,\n",
    "                \"#fb9f3a\"\n",
    "              ],\n",
    "              [\n",
    "                0.8888888888888888,\n",
    "                \"#fdca26\"\n",
    "              ],\n",
    "              [\n",
    "                1,\n",
    "                \"#f0f921\"\n",
    "              ]\n",
    "            ]\n",
    "          }\n",
    "        ],\n",
    "        \"heatmapgl\": [\n",
    "          {\n",
    "            \"type\": \"heatmapgl\",\n",
    "            \"colorbar\": {\n",
    "              \"outlinewidth\": 0,\n",
    "              \"ticks\": \"\"\n",
    "            },\n",
    "            \"colorscale\": [\n",
    "              [\n",
    "                0,\n",
    "                \"#0d0887\"\n",
    "              ],\n",
    "              [\n",
    "                0.1111111111111111,\n",
    "                \"#46039f\"\n",
    "              ],\n",
    "              [\n",
    "                0.2222222222222222,\n",
    "                \"#7201a8\"\n",
    "              ],\n",
    "              [\n",
    "                0.3333333333333333,\n",
    "                \"#9c179e\"\n",
    "              ],\n",
    "              [\n",
    "                0.4444444444444444,\n",
    "                \"#bd3786\"\n",
    "              ],\n",
    "              [\n",
    "                0.5555555555555556,\n",
    "                \"#d8576b\"\n",
    "              ],\n",
    "              [\n",
    "                0.6666666666666666,\n",
    "                \"#ed7953\"\n",
    "              ],\n",
    "              [\n",
    "                0.7777777777777778,\n",
    "                \"#fb9f3a\"\n",
    "              ],\n",
    "              [\n",
    "                0.8888888888888888,\n",
    "                \"#fdca26\"\n",
    "              ],\n",
    "              [\n",
    "                1,\n",
    "                \"#f0f921\"\n",
    "              ]\n",
    "            ]\n",
    "          }\n",
    "        ],\n",
    "        \"contourcarpet\": [\n",
    "          {\n",
    "            \"type\": \"contourcarpet\",\n",
    "            \"colorbar\": {\n",
    "              \"outlinewidth\": 0,\n",
    "              \"ticks\": \"\"\n",
    "            }\n",
    "          }\n",
    "        ],\n",
    "        \"contour\": [\n",
    "          {\n",
    "            \"type\": \"contour\",\n",
    "            \"colorbar\": {\n",
    "              \"outlinewidth\": 0,\n",
    "              \"ticks\": \"\"\n",
    "            },\n",
    "            \"colorscale\": [\n",
    "              [\n",
    "                0,\n",
    "                \"#0d0887\"\n",
    "              ],\n",
    "              [\n",
    "                0.1111111111111111,\n",
    "                \"#46039f\"\n",
    "              ],\n",
    "              [\n",
    "                0.2222222222222222,\n",
    "                \"#7201a8\"\n",
    "              ],\n",
    "              [\n",
    "                0.3333333333333333,\n",
    "                \"#9c179e\"\n",
    "              ],\n",
    "              [\n",
    "                0.4444444444444444,\n",
    "                \"#bd3786\"\n",
    "              ],\n",
    "              [\n",
    "                0.5555555555555556,\n",
    "                \"#d8576b\"\n",
    "              ],\n",
    "              [\n",
    "                0.6666666666666666,\n",
    "                \"#ed7953\"\n",
    "              ],\n",
    "              [\n",
    "                0.7777777777777778,\n",
    "                \"#fb9f3a\"\n",
    "              ],\n",
    "              [\n",
    "                0.8888888888888888,\n",
    "                \"#fdca26\"\n",
    "              ],\n",
    "              [\n",
    "                1,\n",
    "                \"#f0f921\"\n",
    "              ]\n",
    "            ]\n",
    "          }\n",
    "        ],\n",
    "        \"surface\": [\n",
    "          {\n",
    "            \"type\": \"surface\",\n",
    "            \"colorbar\": {\n",
    "              \"outlinewidth\": 0,\n",
    "              \"ticks\": \"\"\n",
    "            },\n",
    "            \"colorscale\": [\n",
    "              [\n",
    "                0,\n",
    "                \"#0d0887\"\n",
    "              ],\n",
    "              [\n",
    "                0.1111111111111111,\n",
    "                \"#46039f\"\n",
    "              ],\n",
    "              [\n",
    "                0.2222222222222222,\n",
    "                \"#7201a8\"\n",
    "              ],\n",
    "              [\n",
    "                0.3333333333333333,\n",
    "                \"#9c179e\"\n",
    "              ],\n",
    "              [\n",
    "                0.4444444444444444,\n",
    "                \"#bd3786\"\n",
    "              ],\n",
    "              [\n",
    "                0.5555555555555556,\n",
    "                \"#d8576b\"\n",
    "              ],\n",
    "              [\n",
    "                0.6666666666666666,\n",
    "                \"#ed7953\"\n",
    "              ],\n",
    "              [\n",
    "                0.7777777777777778,\n",
    "                \"#fb9f3a\"\n",
    "              ],\n",
    "              [\n",
    "                0.8888888888888888,\n",
    "                \"#fdca26\"\n",
    "              ],\n",
    "              [\n",
    "                1,\n",
    "                \"#f0f921\"\n",
    "              ]\n",
    "            ]\n",
    "          }\n",
    "        ],\n",
    "        \"mesh3d\": [\n",
    "          {\n",
    "            \"type\": \"mesh3d\",\n",
    "            \"colorbar\": {\n",
    "              \"outlinewidth\": 0,\n",
    "              \"ticks\": \"\"\n",
    "            }\n",
    "          }\n",
    "        ],\n",
    "        \"scatter\": [\n",
    "          {\n",
    "            \"fillpattern\": {\n",
    "              \"fillmode\": \"overlay\",\n",
    "              \"size\": 10,\n",
    "              \"solidity\": 0.2\n",
    "            },\n",
    "            \"type\": \"scatter\"\n",
    "          }\n",
    "        ],\n",
    "        \"parcoords\": [\n",
    "          {\n",
    "            \"type\": \"parcoords\",\n",
    "            \"line\": {\n",
    "              \"colorbar\": {\n",
    "                \"outlinewidth\": 0,\n",
    "                \"ticks\": \"\"\n",
    "              }\n",
    "            }\n",
    "          }\n",
    "        ],\n",
    "        \"scatterpolargl\": [\n",
    "          {\n",
    "            \"type\": \"scatterpolargl\",\n",
    "            \"marker\": {\n",
    "              \"colorbar\": {\n",
    "                \"outlinewidth\": 0,\n",
    "                \"ticks\": \"\"\n",
    "              }\n",
    "            }\n",
    "          }\n",
    "        ],\n",
    "        \"bar\": [\n",
    "          {\n",
    "            \"error_x\": {\n",
    "              \"color\": \"#2a3f5f\"\n",
    "            },\n",
    "            \"error_y\": {\n",
    "              \"color\": \"#2a3f5f\"\n",
    "            },\n",
    "            \"marker\": {\n",
    "              \"line\": {\n",
    "                \"color\": \"#E5ECF6\",\n",
    "                \"width\": 0.5\n",
    "              },\n",
    "              \"pattern\": {\n",
    "                \"fillmode\": \"overlay\",\n",
    "                \"size\": 10,\n",
    "                \"solidity\": 0.2\n",
    "              }\n",
    "            },\n",
    "            \"type\": \"bar\"\n",
    "          }\n",
    "        ],\n",
    "        \"scattergeo\": [\n",
    "          {\n",
    "            \"type\": \"scattergeo\",\n",
    "            \"marker\": {\n",
    "              \"colorbar\": {\n",
    "                \"outlinewidth\": 0,\n",
    "                \"ticks\": \"\"\n",
    "              }\n",
    "            }\n",
    "          }\n",
    "        ],\n",
    "        \"scatterpolar\": [\n",
    "          {\n",
    "            \"type\": \"scatterpolar\",\n",
    "            \"marker\": {\n",
    "              \"colorbar\": {\n",
    "                \"outlinewidth\": 0,\n",
    "                \"ticks\": \"\"\n",
    "              }\n",
    "            }\n",
    "          }\n",
    "        ],\n",
    "        \"histogram\": [\n",
    "          {\n",
    "            \"marker\": {\n",
    "              \"pattern\": {\n",
    "                \"fillmode\": \"overlay\",\n",
    "                \"size\": 10,\n",
    "                \"solidity\": 0.2\n",
    "              }\n",
    "            },\n",
    "            \"type\": \"histogram\"\n",
    "          }\n",
    "        ],\n",
    "        \"scattergl\": [\n",
    "          {\n",
    "            \"type\": \"scattergl\",\n",
    "            \"marker\": {\n",
    "              \"colorbar\": {\n",
    "                \"outlinewidth\": 0,\n",
    "                \"ticks\": \"\"\n",
    "              }\n",
    "            }\n",
    "          }\n",
    "        ],\n",
    "        \"scatter3d\": [\n",
    "          {\n",
    "            \"type\": \"scatter3d\",\n",
    "            \"line\": {\n",
    "              \"colorbar\": {\n",
    "                \"outlinewidth\": 0,\n",
    "                \"ticks\": \"\"\n",
    "              }\n",
    "            },\n",
    "            \"marker\": {\n",
    "              \"colorbar\": {\n",
    "                \"outlinewidth\": 0,\n",
    "                \"ticks\": \"\"\n",
    "              }\n",
    "            }\n",
    "          }\n",
    "        ],\n",
    "        \"scattermapbox\": [\n",
    "          {\n",
    "            \"type\": \"scattermapbox\",\n",
    "            \"marker\": {\n",
    "              \"colorbar\": {\n",
    "                \"outlinewidth\": 0,\n",
    "                \"ticks\": \"\"\n",
    "              }\n",
    "            }\n",
    "          }\n",
    "        ],\n",
    "        \"scatterternary\": [\n",
    "          {\n",
    "            \"type\": \"scatterternary\",\n",
    "            \"marker\": {\n",
    "              \"colorbar\": {\n",
    "                \"outlinewidth\": 0,\n",
    "                \"ticks\": \"\"\n",
    "              }\n",
    "            }\n",
    "          }\n",
    "        ],\n",
    "        \"scattercarpet\": [\n",
    "          {\n",
    "            \"type\": \"scattercarpet\",\n",
    "            \"marker\": {\n",
    "              \"colorbar\": {\n",
    "                \"outlinewidth\": 0,\n",
    "                \"ticks\": \"\"\n",
    "              }\n",
    "            }\n",
    "          }\n",
    "        ],\n",
    "        \"carpet\": [\n",
    "          {\n",
    "            \"aaxis\": {\n",
    "              \"endlinecolor\": \"#2a3f5f\",\n",
    "              \"gridcolor\": \"white\",\n",
    "              \"linecolor\": \"white\",\n",
    "              \"minorgridcolor\": \"white\",\n",
    "              \"startlinecolor\": \"#2a3f5f\"\n",
    "            },\n",
    "            \"baxis\": {\n",
    "              \"endlinecolor\": \"#2a3f5f\",\n",
    "              \"gridcolor\": \"white\",\n",
    "              \"linecolor\": \"white\",\n",
    "              \"minorgridcolor\": \"white\",\n",
    "              \"startlinecolor\": \"#2a3f5f\"\n",
    "            },\n",
    "            \"type\": \"carpet\"\n",
    "          }\n",
    "        ],\n",
    "        \"table\": [\n",
    "          {\n",
    "            \"cells\": {\n",
    "              \"fill\": {\n",
    "                \"color\": \"#EBF0F8\"\n",
    "              },\n",
    "              \"line\": {\n",
    "                \"color\": \"white\"\n",
    "              }\n",
    "            },\n",
    "            \"header\": {\n",
    "              \"fill\": {\n",
    "                \"color\": \"#C8D4E3\"\n",
    "              },\n",
    "              \"line\": {\n",
    "                \"color\": \"white\"\n",
    "              }\n",
    "            },\n",
    "            \"type\": \"table\"\n",
    "          }\n",
    "        ],\n",
    "        \"barpolar\": [\n",
    "          {\n",
    "            \"marker\": {\n",
    "              \"line\": {\n",
    "                \"color\": \"#E5ECF6\",\n",
    "                \"width\": 0.5\n",
    "              },\n",
    "              \"pattern\": {\n",
    "                \"fillmode\": \"overlay\",\n",
    "                \"size\": 10,\n",
    "                \"solidity\": 0.2\n",
    "              }\n",
    "            },\n",
    "            \"type\": \"barpolar\"\n",
    "          }\n",
    "        ],\n",
    "        \"pie\": [\n",
    "          {\n",
    "            \"automargin\": \"TRUE\",\n",
    "            \"type\": \"pie\"\n",
    "          }\n",
    "        ]\n",
    "      },\n",
    "      \"layout\": {\n",
    "        \"autotypenumbers\": \"strict\",\n",
    "        \"colorway\": [\n",
    "          \"#636efa\",\n",
    "          \"#EF553B\",\n",
    "          \"#00cc96\",\n",
    "          \"#ab63fa\",\n",
    "          \"#FFA15A\",\n",
    "          \"#19d3f3\",\n",
    "          \"#FF6692\",\n",
    "          \"#B6E880\",\n",
    "          \"#FF97FF\",\n",
    "          \"#FECB52\"\n",
    "        ],\n",
    "        \"font\": {\n",
    "          \"color\": \"#2a3f5f\"\n",
    "        },\n",
    "        \"hovermode\": \"closest\",\n",
    "        \"hoverlabel\": {\n",
    "          \"align\": \"left\"\n",
    "        },\n",
    "        \"paper_bgcolor\": \"white\",\n",
    "        \"plot_bgcolor\": \"#E5ECF6\",\n",
    "        \"polar\": {\n",
    "          \"bgcolor\": \"#E5ECF6\",\n",
    "          \"angularaxis\": {\n",
    "            \"gridcolor\": \"white\",\n",
    "            \"linecolor\": \"white\",\n",
    "            \"ticks\": \"\"\n",
    "          },\n",
    "          \"radialaxis\": {\n",
    "            \"gridcolor\": \"white\",\n",
    "            \"linecolor\": \"white\",\n",
    "            \"ticks\": \"\"\n",
    "          }\n",
    "        },\n",
    "        \"ternary\": {\n",
    "          \"bgcolor\": \"#E5ECF6\",\n",
    "          \"aaxis\": {\n",
    "            \"gridcolor\": \"white\",\n",
    "            \"linecolor\": \"white\",\n",
    "            \"ticks\": \"\"\n",
    "          },\n",
    "          \"baxis\": {\n",
    "            \"gridcolor\": \"white\",\n",
    "            \"linecolor\": \"white\",\n",
    "            \"ticks\": \"\"\n",
    "          },\n",
    "          \"caxis\": {\n",
    "            \"gridcolor\": \"white\",\n",
    "            \"linecolor\": \"white\",\n",
    "            \"ticks\": \"\"\n",
    "          }\n",
    "        },\n",
    "        \"coloraxis\": {\n",
    "          \"colorbar\": {\n",
    "            \"outlinewidth\": 0,\n",
    "            \"ticks\": \"\"\n",
    "          }\n",
    "        },\n",
    "        \"colorscale\": {\n",
    "          \"sequential\": [\n",
    "            [\n",
    "              0,\n",
    "              \"#0d0887\"\n",
    "            ],\n",
    "            [\n",
    "              0.1111111111111111,\n",
    "              \"#46039f\"\n",
    "            ],\n",
    "            [\n",
    "              0.2222222222222222,\n",
    "              \"#7201a8\"\n",
    "            ],\n",
    "            [\n",
    "              0.3333333333333333,\n",
    "              \"#9c179e\"\n",
    "            ],\n",
    "            [\n",
    "              0.4444444444444444,\n",
    "              \"#bd3786\"\n",
    "            ],\n",
    "            [\n",
    "              0.5555555555555556,\n",
    "              \"#d8576b\"\n",
    "            ],\n",
    "            [\n",
    "              0.6666666666666666,\n",
    "              \"#ed7953\"\n",
    "            ],\n",
    "            [\n",
    "              0.7777777777777778,\n",
    "              \"#fb9f3a\"\n",
    "            ],\n",
    "            [\n",
    "              0.8888888888888888,\n",
    "              \"#fdca26\"\n",
    "            ],\n",
    "            [\n",
    "              1,\n",
    "              \"#f0f921\"\n",
    "            ]\n",
    "          ],\n",
    "          \"sequentialminus\": [\n",
    "            [\n",
    "              0,\n",
    "              \"#0d0887\"\n",
    "            ],\n",
    "            [\n",
    "              0.1111111111111111,\n",
    "              \"#46039f\"\n",
    "            ],\n",
    "            [\n",
    "              0.2222222222222222,\n",
    "              \"#7201a8\"\n",
    "            ],\n",
    "            [\n",
    "              0.3333333333333333,\n",
    "              \"#9c179e\"\n",
    "            ],\n",
    "            [\n",
    "              0.4444444444444444,\n",
    "              \"#bd3786\"\n",
    "            ],\n",
    "            [\n",
    "              0.5555555555555556,\n",
    "              \"#d8576b\"\n",
    "            ],\n",
    "            [\n",
    "              0.6666666666666666,\n",
    "              \"#ed7953\"\n",
    "            ],\n",
    "            [\n",
    "              0.7777777777777778,\n",
    "              \"#fb9f3a\"\n",
    "            ],\n",
    "            [\n",
    "              0.8888888888888888,\n",
    "              \"#fdca26\"\n",
    "            ],\n",
    "            [\n",
    "              1,\n",
    "              \"#f0f921\"\n",
    "            ]\n",
    "          ],\n",
    "          \"diverging\": [\n",
    "            [\n",
    "              0,\n",
    "              \"#8e0152\"\n",
    "            ],\n",
    "            [\n",
    "              0.1,\n",
    "              \"#c51b7d\"\n",
    "            ],\n",
    "            [\n",
    "              0.2,\n",
    "              \"#de77ae\"\n",
    "            ],\n",
    "            [\n",
    "              0.3,\n",
    "              \"#f1b6da\"\n",
    "            ],\n",
    "            [\n",
    "              0.4,\n",
    "              \"#fde0ef\"\n",
    "            ],\n",
    "            [\n",
    "              0.5,\n",
    "              \"#f7f7f7\"\n",
    "            ],\n",
    "            [\n",
    "              0.6,\n",
    "              \"#e6f5d0\"\n",
    "            ],\n",
    "            [\n",
    "              0.7,\n",
    "              \"#b8e186\"\n",
    "            ],\n",
    "            [\n",
    "              0.8,\n",
    "              \"#7fbc41\"\n",
    "            ],\n",
    "            [\n",
    "              0.9,\n",
    "              \"#4d9221\"\n",
    "            ],\n",
    "            [\n",
    "              1,\n",
    "              \"#276419\"\n",
    "            ]\n",
    "          ]\n",
    "        },\n",
    "        \"xaxis\": {\n",
    "          \"gridcolor\": \"white\",\n",
    "          \"linecolor\": \"white\",\n",
    "          \"ticks\": \"\",\n",
    "          \"title\": {\n",
    "            \"standoff\": 15\n",
    "          },\n",
    "          \"zerolinecolor\": \"white\",\n",
    "          \"automargin\": \"TRUE\",\n",
    "          \"zerolinewidth\": 2\n",
    "        },\n",
    "        \"yaxis\": {\n",
    "          \"gridcolor\": \"white\",\n",
    "          \"linecolor\": \"white\",\n",
    "          \"ticks\": \"\",\n",
    "          \"title\": {\n",
    "            \"standoff\": 15\n",
    "          },\n",
    "          \"zerolinecolor\": \"white\",\n",
    "          \"automargin\": \"TRUE\",\n",
    "          \"zerolinewidth\": 2\n",
    "        },\n",
    "        \"scene\": {\n",
    "          \"xaxis\": {\n",
    "            \"backgroundcolor\": \"#E5ECF6\",\n",
    "            \"gridcolor\": \"white\",\n",
    "            \"linecolor\": \"white\",\n",
    "            \"showbackground\": \"TRUE\",\n",
    "            \"ticks\": \"\",\n",
    "            \"zerolinecolor\": \"white\",\n",
    "            \"gridwidth\": 2\n",
    "          },\n",
    "          \"yaxis\": {\n",
    "            \"backgroundcolor\": \"#E5ECF6\",\n",
    "            \"gridcolor\": \"white\",\n",
    "            \"linecolor\": \"white\",\n",
    "            \"showbackground\": \"TRUE\",\n",
    "            \"ticks\": \"\",\n",
    "            \"zerolinecolor\": \"white\",\n",
    "            \"gridwidth\": 2\n",
    "          },\n",
    "          \"zaxis\": {\n",
    "            \"backgroundcolor\": \"#E5ECF6\",\n",
    "            \"gridcolor\": \"white\",\n",
    "            \"linecolor\": \"white\",\n",
    "            \"showbackground\": \"TRUE\",\n",
    "            \"ticks\": \"\",\n",
    "            \"zerolinecolor\": \"white\",\n",
    "            \"gridwidth\": 2\n",
    "          }\n",
    "        },\n",
    "        \"shapedefaults\": {\n",
    "          \"line\": {\n",
    "            \"color\": \"#2a3f5f\"\n",
    "          }\n",
    "        },\n",
    "        \"annotationdefaults\": {\n",
    "          \"arrowcolor\": \"#2a3f5f\",\n",
    "          \"arrowhead\": 0,\n",
    "          \"arrowwidth\": 1\n",
    "        },\n",
    "        \"geo\": {\n",
    "          \"bgcolor\": \"white\",\n",
    "          \"landcolor\": \"#E5ECF6\",\n",
    "          \"subunitcolor\": \"white\",\n",
    "          \"showland\": \"TRUE\",\n",
    "          \"showlakes\": \"TRUE\",\n",
    "          \"lakecolor\": \"white\"\n",
    "        },\n",
    "        \"title\": {\n",
    "          \"x\": 0.05\n",
    "        },\n",
    "        \"mapbox\": {\n",
    "          \"style\": \"light\"\n",
    "        }\n",
    "      }\n",
    "    },\n",
    "    \"xaxis\": {\n",
    "      \"anchor\": \"y\",\n",
    "      \"domain\": [\n",
    "        0,\n",
    "        1\n",
    "      ],\n",
    "      \"title\": {\n",
    "        \"text\": \"Emotion\"\n",
    "      },\n",
    "      \"type\": \"category\",\n",
    "      \"range\": [\n",
    "        -0.5,\n",
    "        6.5\n",
    "      ],\n",
    "      \"autorange\": \"TRUE\"\n",
    "    },\n",
    "    \"yaxis\": {\n",
    "      \"anchor\": \"x\",\n",
    "      \"domain\": [\n",
    "        0,\n",
    "        1\n",
    "      ],\n",
    "      \"title\": {\n",
    "        \"text\": \"Value\"\n",
    "      },\n",
    "      \"range\": [\n",
    "        0,\n",
    "        1\n",
    "      ],\n",
    "      \"type\": \"linear\"\n",
    "    },\n",
    "    \"legend\": {\n",
    "      \"tracegroupgap\": 0\n",
    "    },\n",
    "    \"margin\": {\n",
    "      \"t\": 60\n",
    "    },\n",
    "    \"barmode\": \"relative\"\n",
    "  }\n",
    "}"
   ]
  },
  {
   "cell_type": "code",
   "execution_count": 143,
   "id": "c90ff915",
   "metadata": {},
   "outputs": [
    {
     "data": {
      "text/plain": [
       "dict_keys(['data', 'layout'])"
      ]
     },
     "execution_count": 143,
     "metadata": {},
     "output_type": "execute_result"
    }
   ],
   "source": [
    "d.keys()"
   ]
  },
  {
   "cell_type": "code",
   "execution_count": null,
   "id": "76640e17",
   "metadata": {},
   "outputs": [],
   "source": []
  },
  {
   "cell_type": "code",
   "execution_count": 11,
   "id": "70b37247",
   "metadata": {},
   "outputs": [],
   "source": [
    "my_list = ['A', 'B', 'C']"
   ]
  },
  {
   "cell_type": "code",
   "execution_count": 24,
   "id": "abd32155",
   "metadata": {},
   "outputs": [],
   "source": [
    "my_var = 1"
   ]
  },
  {
   "cell_type": "code",
   "execution_count": 35,
   "id": "206d1da7",
   "metadata": {},
   "outputs": [],
   "source": [
    "class A:\n",
    "    _01_02_l = None\n",
    "    global my_var\n",
    "    my_var = '__class__'\n",
    "    \n",
    "    def __init__(self):\n",
    "        print('Hi')\n",
    "\n",
    "class B:\n",
    "    pass"
   ]
  },
  {
   "cell_type": "code",
   "execution_count": 28,
   "id": "eed151a8",
   "metadata": {},
   "outputs": [
    {
     "data": {
      "text/plain": [
       "'__main__'"
      ]
     },
     "execution_count": 28,
     "metadata": {},
     "output_type": "execute_result"
    }
   ],
   "source": [
    "my_var"
   ]
  },
  {
   "cell_type": "code",
   "execution_count": 14,
   "id": "153314ca",
   "metadata": {},
   "outputs": [],
   "source": [
    "import sys"
   ]
  },
  {
   "cell_type": "code",
   "execution_count": 20,
   "id": "f3c43ba4",
   "metadata": {},
   "outputs": [
    {
     "data": {
      "text/plain": [
       "['',\n",
       " \"dir_ = 'models/'\\nattrs = ['model_arousal'\\n         'model_valence',\\n'type']\",\n",
       " 'import pickle',\n",
       " 'attrs',\n",
       " \"dir_ = 'models/'\\nattrs = ['model_arousal',\\n         'model_valence',\\n'type']\",\n",
       " 'attrs',\n",
       " 'attrs',\n",
       " \"with tarfile.open(filename,'w:gz') as tar:\\n    for pkl_filename in attrs:\\n        pkl_path = pkl_filename\\n        if pkl_filename != 'type':\\n            pkl_path += '.pkl'\\n        print(pkl_path)\\n        tar.add(pkl_path)\",\n",
       " 'import tarfile',\n",
       " \"filename = 'ModelClearVAStat.tar.gz'\",\n",
       " \"with tarfile.open(filename,'w:gz') as tar:\\n    for pkl_filename in attrs:\\n        pkl_path = pkl_filename\\n        if pkl_filename != 'type':\\n            pkl_path += '.pkl'\\n        print(pkl_path)\\n        tar.add(pkl_path)\",\n",
       " \"my_list = ['A', 'B', 'C']\",\n",
       " 'class A:\\n    pass\\n\\nclass B:\\n    pass',\n",
       " 'sys',\n",
       " 'import sys',\n",
       " 'sys.modules[__name__]',\n",
       " 'sys.modules[__name__].',\n",
       " 'dir(sys.modules[__name__])',\n",
       " 'sys.modules[__name__].In',\n",
       " \"'hi!'\",\n",
       " 'sys.modules[__name__].In']"
      ]
     },
     "execution_count": 20,
     "metadata": {},
     "output_type": "execute_result"
    }
   ],
   "source": [
    "sys.modules[__name__].In"
   ]
  },
  {
   "cell_type": "code",
   "execution_count": 19,
   "id": "ca0bf79c",
   "metadata": {},
   "outputs": [
    {
     "data": {
      "text/plain": [
       "'hi!'"
      ]
     },
     "execution_count": 19,
     "metadata": {},
     "output_type": "execute_result"
    }
   ],
   "source": [
    "'hi!'"
   ]
  },
  {
   "cell_type": "code",
   "execution_count": 22,
   "id": "a81d688e",
   "metadata": {},
   "outputs": [
    {
     "data": {
      "text/plain": [
       "2"
      ]
     },
     "execution_count": 22,
     "metadata": {},
     "output_type": "execute_result"
    }
   ],
   "source": [
    "my_list.index('C')"
   ]
  },
  {
   "cell_type": "code",
   "execution_count": null,
   "id": "5f01cb89",
   "metadata": {},
   "outputs": [],
   "source": []
  },
  {
   "cell_type": "code",
   "execution_count": 1,
   "id": "fdba5b90",
   "metadata": {},
   "outputs": [],
   "source": [
    "facs_fields = [\n",
    "    'Action_Unit_01___Inner_Brow_Raiser',\n",
    "    'Action_Unit_02___Outer_Brow_Raiser',\n",
    "    'Action_Unit_04___Brow_Lowerer',\n",
    "    'Action_Unit_05___Upper_Lid_Raiser',\n",
    "    'Action_Unit_06___Cheek_Raiser',\n",
    "    'Action_Unit_07___Lid_Tightener',\n",
    "    'Action_Unit_09___Nose_Wrinkler',\n",
    "    'Action_Unit_10___Upper_Lip_Raiser',\n",
    "    'Action_Unit_12___Lip_Corner_Puller',\n",
    "    'Action_Unit_14___Dimpler',\n",
    "    'Action_Unit_15___Lip_Corner_Depressor',\n",
    "    'Action_Unit_17___Chin_Raiser',\n",
    "    'Action_Unit_18___Lip_Pucker',\n",
    "    'Action_Unit_20___Lip_Stretcher',\n",
    "    'Action_Unit_23___Lip_Tightener',\n",
    "    'Action_Unit_24___Lip_Pressor',\n",
    "    'Action_Unit_25___Lips_Part',\n",
    "    'Action_Unit_26___Jaw_Drop',\n",
    "    'Action_Unit_27___Mouth_Stretch',\n",
    "    'Action_Unit_43___Eyes_Closed',\n",
    "    'Action_Unit_01___Left___Inner_Brow_Raiser',\n",
    "    'Action_Unit_02___Left___Outer_Brow_Raiser',\n",
    "    'Action_Unit_04___Left___Brow_Lowerer',\n",
    "    'Action_Unit_05___Left___Upper_Lid_Raiser',\n",
    "    'Action_Unit_06___Left___Cheek_Raiser',\n",
    "    'Action_Unit_07___Left___Lid_Tightener',\n",
    "    'Action_Unit_12___Left___Lip_Corner_Puller',\n",
    "    'Action_Unit_14___Left___Dimpler',\n",
    "    'Action_Unit_15___Left___Lip_Corner_Depressor',\n",
    "    'Action_Unit_20___Left___Lip_Stretcher',\n",
    "    'Action_Unit_43___Left___Eyes_Closed',\n",
    "    'Action_Unit_01___Right___Inner_Brow_Raiser',\n",
    "    'Action_Unit_02___Right___Outer_Brow_Raiser',\n",
    "    'Action_Unit_04___Right___Brow_Lowerer',\n",
    "    'Action_Unit_05___Right___Upper_Lid_Raiser',\n",
    "    'Action_Unit_06___Right___Cheek_Raiser',\n",
    "    'Action_Unit_07___Right___Lid_Tightener',\n",
    "    'Action_Unit_12___Right___Lip_Corner_Puller',\n",
    "    'Action_Unit_14___Right___Dimpler',\n",
    "    'Action_Unit_15___Right___Lip_Corner_Depressor',\n",
    "    'Action_Unit_20___Right___Lip_Stretcher',\n",
    "    'Action_Unit_43___Right___Eyes_Closed'\n",
    "]"
   ]
  },
  {
   "cell_type": "code",
   "execution_count": 2,
   "id": "bd2a7eec",
   "metadata": {},
   "outputs": [],
   "source": [
    "happy_fields = ['Action_Unit_06___Cheek_Raiser',\n",
    "                        'Action_Unit_06___Left___Cheek_Raiser',\n",
    "                        'Action_Unit_06___Right___Cheek_Raiser',\n",
    "                        'Action_Unit_12___Lip_Corner_Puller',\n",
    "                        'Action_Unit_12___Left___Lip_Corner_Puller',\n",
    "                        'Action_Unit_12___Right___Lip_Corner_Puller']"
   ]
  },
  {
   "cell_type": "code",
   "execution_count": 9,
   "id": "bb5bbdab",
   "metadata": {},
   "outputs": [],
   "source": [
    "sad_fields = ['Action_Unit_01___Inner_Brow_Raiser',\n",
    "'Action_Unit_01___Left___Inner_Brow_Raiser',\n",
    "'Action_Unit_01___Right___Inner_Brow_Raiser',\n",
    "'Action_Unit_04___Brow_Lowerer',\n",
    "'Action_Unit_04___Left___Brow_Lowerer',\n",
    "'Action_Unit_04___Right___Brow_Lowerer',\n",
    "'Action_Unit_15___Lip_Corner_Depressor',\n",
    "'Action_Unit_15___Left___Lip_Corner_Depressor',\n",
    "'Action_Unit_15___Right___Lip_Corner_Depressor']"
   ]
  },
  {
   "cell_type": "code",
   "execution_count": 11,
   "id": "90ff610c",
   "metadata": {},
   "outputs": [],
   "source": [
    "surprised_fields = ['Action_Unit_01___Inner_Brow_Raiser',\n",
    "'Action_Unit_01___Left___Inner_Brow_Raiser',\n",
    "'Action_Unit_01___Right___Inner_Brow_Raiser',\n",
    "'Action_Unit_02___Outer_Brow_Raiser',\n",
    "'Action_Unit_02___Left___Outer_Brow_Raiser',\n",
    "'Action_Unit_02___Right___Outer_Brow_Raiser',\n",
    "'Action_Unit_05___Upper_Lid_Raiser',\n",
    "'Action_Unit_05___Left___Upper_Lid_Raiser',\n",
    "'Action_Unit_05___Right___Upper_Lid_Raiser',\n",
    "'Action_Unit_26___Jaw_Drop']"
   ]
  },
  {
   "cell_type": "code",
   "execution_count": 14,
   "id": "abb04092",
   "metadata": {},
   "outputs": [],
   "source": [
    "scared_fields = ['Action_Unit_01___Inner_Brow_Raiser',\n",
    "'Action_Unit_01___Left___Inner_Brow_Raiser',\n",
    "'Action_Unit_01___Right___Inner_Brow_Raiser',\n",
    "'Action_Unit_02___Outer_Brow_Raiser',\n",
    "'Action_Unit_02___Left___Outer_Brow_Raiser',\n",
    "'Action_Unit_02___Right___Outer_Brow_Raiser',\n",
    "'Action_Unit_04___Brow_Lowerer',\n",
    "'Action_Unit_04___Left___Brow_Lowerer',\n",
    "'Action_Unit_04___Right___Brow_Lowerer',\n",
    "'Action_Unit_05___Upper_Lid_Raiser',\n",
    "'Action_Unit_05___Left___Upper_Lid_Raiser',\n",
    "'Action_Unit_05___Right___Upper_Lid_Raiser',\n",
    "'Action_Unit_07___Lid_Tightener',\n",
    "'Action_Unit_07___Left___Lid_Tightener',\n",
    "'Action_Unit_07___Right___Lid_Tightener',\n",
    "'Action_Unit_20___Lip_Stretcher',\n",
    "'Action_Unit_20___Left___Lip_Stretcher',\n",
    "'Action_Unit_20___Right___Lip_Stretcher',\n",
    "'Action_Unit_26___Jaw_Drop']"
   ]
  },
  {
   "cell_type": "code",
   "execution_count": 17,
   "id": "fdae6841",
   "metadata": {},
   "outputs": [],
   "source": [
    "angry_fields = ['Action_Unit_04___Brow_Lowerer',\n",
    "'Action_Unit_04___Left___Brow_Lowerer',\n",
    "'Action_Unit_04___Right___Brow_Lowerer',\n",
    "'Action_Unit_05___Upper_Lid_Raiser',\n",
    "'Action_Unit_05___Left___Upper_Lid_Raiser',\n",
    "'Action_Unit_05___Right___Upper_Lid_Raiser',\n",
    "'Action_Unit_07___Lid_Tightener',\n",
    "'Action_Unit_07___Left___Lid_Tightener',\n",
    "'Action_Unit_07___Right___Lid_Tightener',\n",
    "'Action_Unit_23___Lip_Tightener']"
   ]
  },
  {
   "cell_type": "code",
   "execution_count": 20,
   "id": "42eed23d",
   "metadata": {},
   "outputs": [],
   "source": [
    "disgusted_fields = ['Action_Unit_09___Nose_Wrinkler',\n",
    "'Action_Unit_15___Lip_Corner_Depressor',\n",
    "'Action_Unit_15___Left___Lip_Corner_Depressor',\n",
    "'Action_Unit_15___Right___Lip_Corner_Depressor']"
   ]
  },
  {
   "cell_type": "code",
   "execution_count": 25,
   "id": "92ddf361",
   "metadata": {},
   "outputs": [],
   "source": [
    "contempt_fields = ['Action_Unit_12___Lip_Corner_Puller',\n",
    "'Action_Unit_12___Left___Lip_Corner_Puller',\n",
    "'Action_Unit_12___Right___Lip_Corner_Puller',\n",
    "'Action_Unit_14___Dimpler',\n",
    "'Action_Unit_14___Left___Dimpler',\n",
    "'Action_Unit_14___Right___Dimpler']"
   ]
  },
  {
   "cell_type": "code",
   "execution_count": 28,
   "id": "81d6d01b",
   "metadata": {},
   "outputs": [],
   "source": [
    "other_facs_fields = ['Action_Unit_10___Upper_Lip_Raiser',\n",
    "'Action_Unit_17___Chin_Raiser',\n",
    "'Action_Unit_18___Lip_Pucker',\n",
    "'Action_Unit_24___Lip_Pressor',\n",
    "'Action_Unit_25___Lips_Part',\n",
    "'Action_Unit_27___Mouth_Stretch',\n",
    "'Action_Unit_43___Eyes_Closed',\n",
    "'Action_Unit_43___Left___Eyes_Closed',\n",
    "'Action_Unit_43___Right___Eyes_Closed']"
   ]
  },
  {
   "cell_type": "code",
   "execution_count": 31,
   "id": "c6c0ab79",
   "metadata": {},
   "outputs": [],
   "source": [
    "all_unique_fileds =['Action_Unit_01___Inner_Brow_Raiser',\n",
    "    'Action_Unit_02___Outer_Brow_Raiser',\n",
    "    'Action_Unit_04___Brow_Lowerer',\n",
    "    'Action_Unit_05___Upper_Lid_Raiser',\n",
    "    'Action_Unit_06___Cheek_Raiser',\n",
    "    'Action_Unit_07___Lid_Tightener',\n",
    "    'Action_Unit_09___Nose_Wrinkler',\n",
    "    'Action_Unit_10___Upper_Lip_Raiser',\n",
    "    'Action_Unit_12___Lip_Corner_Puller',\n",
    "    'Action_Unit_14___Dimpler',\n",
    "    'Action_Unit_15___Lip_Corner_Depressor',\n",
    "    'Action_Unit_17___Chin_Raiser',\n",
    "    'Action_Unit_18___Lip_Pucker',\n",
    "    'Action_Unit_20___Lip_Stretcher',\n",
    "    'Action_Unit_23___Lip_Tightener',\n",
    "    'Action_Unit_24___Lip_Pressor',\n",
    "    'Action_Unit_25___Lips_Part',\n",
    "    'Action_Unit_26___Jaw_Drop',\n",
    "    'Action_Unit_27___Mouth_Stretch',\n",
    "    'Action_Unit_43___Eyes_Closed']"
   ]
  },
  {
   "cell_type": "code",
   "execution_count": 32,
   "id": "acf8d1fe",
   "metadata": {},
   "outputs": [
    {
     "data": {
      "text/plain": [
       "[0, 1, 2, 3, 4, 5, 6, 7, 8, 9, 10, 11, 12, 13, 14, 15, 16, 17, 18, 19]"
      ]
     },
     "execution_count": 32,
     "metadata": {},
     "output_type": "execute_result"
    }
   ],
   "source": [
    "indexes = [facs_fields.index(field) for field in all_unique_fileds]\n",
    "indexes"
   ]
  },
  {
   "cell_type": "code",
   "execution_count": 33,
   "id": "3a208d0f",
   "metadata": {},
   "outputs": [
    {
     "data": {
      "text/plain": [
       "['Action_Unit_01___Inner_Brow_Raiser',\n",
       " 'Action_Unit_02___Outer_Brow_Raiser',\n",
       " 'Action_Unit_04___Brow_Lowerer',\n",
       " 'Action_Unit_05___Upper_Lid_Raiser',\n",
       " 'Action_Unit_06___Cheek_Raiser',\n",
       " 'Action_Unit_07___Lid_Tightener',\n",
       " 'Action_Unit_09___Nose_Wrinkler',\n",
       " 'Action_Unit_10___Upper_Lip_Raiser',\n",
       " 'Action_Unit_12___Lip_Corner_Puller',\n",
       " 'Action_Unit_14___Dimpler',\n",
       " 'Action_Unit_15___Lip_Corner_Depressor',\n",
       " 'Action_Unit_17___Chin_Raiser',\n",
       " 'Action_Unit_18___Lip_Pucker',\n",
       " 'Action_Unit_20___Lip_Stretcher',\n",
       " 'Action_Unit_23___Lip_Tightener',\n",
       " 'Action_Unit_24___Lip_Pressor',\n",
       " 'Action_Unit_25___Lips_Part',\n",
       " 'Action_Unit_26___Jaw_Drop',\n",
       " 'Action_Unit_27___Mouth_Stretch',\n",
       " 'Action_Unit_43___Eyes_Closed']"
      ]
     },
     "execution_count": 33,
     "metadata": {},
     "output_type": "execute_result"
    }
   ],
   "source": [
    "[facs_fields[i] for i in range(20)]"
   ]
  },
  {
   "cell_type": "code",
   "execution_count": null,
   "id": "4e0d7f79",
   "metadata": {},
   "outputs": [],
   "source": []
  },
  {
   "cell_type": "code",
   "execution_count": 34,
   "id": "2e01ebc0",
   "metadata": {},
   "outputs": [],
   "source": [
    "l = [1, 2, 3]"
   ]
  },
  {
   "cell_type": "code",
   "execution_count": 35,
   "id": "881a6a4e",
   "metadata": {},
   "outputs": [],
   "source": [
    "l += l[-2:]"
   ]
  },
  {
   "cell_type": "code",
   "execution_count": 36,
   "id": "fdd7860b",
   "metadata": {},
   "outputs": [
    {
     "data": {
      "text/plain": [
       "[1, 2, 3, 2, 3]"
      ]
     },
     "execution_count": 36,
     "metadata": {},
     "output_type": "execute_result"
    }
   ],
   "source": [
    "l"
   ]
  },
  {
   "cell_type": "code",
   "execution_count": 38,
   "id": "b92670b3",
   "metadata": {},
   "outputs": [],
   "source": [
    "res_42_vals = [0] * 42"
   ]
  },
  {
   "cell_type": "code",
   "execution_count": 40,
   "id": "c0fdaeb4",
   "metadata": {
    "scrolled": true
   },
   "outputs": [
    {
     "data": {
      "text/plain": [
       "42"
      ]
     },
     "execution_count": 40,
     "metadata": {},
     "output_type": "execute_result"
    }
   ],
   "source": [
    "len(res_42_vals)"
   ]
  },
  {
   "cell_type": "code",
   "execution_count": null,
   "id": "3c44b2da",
   "metadata": {},
   "outputs": [],
   "source": []
  },
  {
   "cell_type": "code",
   "execution_count": 42,
   "id": "016170f0",
   "metadata": {},
   "outputs": [],
   "source": [
    "import sys"
   ]
  },
  {
   "cell_type": "code",
   "execution_count": 44,
   "id": "f3ad6338",
   "metadata": {},
   "outputs": [],
   "source": [
    "setattr(sys.modules[__name__], 'a', 1)"
   ]
  },
  {
   "cell_type": "code",
   "execution_count": 45,
   "id": "0324c755",
   "metadata": {},
   "outputs": [
    {
     "data": {
      "text/plain": [
       "1"
      ]
     },
     "execution_count": 45,
     "metadata": {},
     "output_type": "execute_result"
    }
   ],
   "source": [
    "a"
   ]
  },
  {
   "cell_type": "code",
   "execution_count": 47,
   "id": "fe6dfaba",
   "metadata": {},
   "outputs": [],
   "source": [
    "a = 2"
   ]
  },
  {
   "cell_type": "code",
   "execution_count": 48,
   "id": "04962809",
   "metadata": {},
   "outputs": [
    {
     "data": {
      "text/plain": [
       "2"
      ]
     },
     "execution_count": 48,
     "metadata": {},
     "output_type": "execute_result"
    }
   ],
   "source": [
    "getattr(sys.modules[__name__], 'a')"
   ]
  },
  {
   "cell_type": "code",
   "execution_count": 49,
   "id": "3e752da7",
   "metadata": {},
   "outputs": [
    {
     "data": {
      "text/plain": [
       "[1, 2, 3, 2, 3]"
      ]
     },
     "execution_count": 49,
     "metadata": {},
     "output_type": "execute_result"
    }
   ],
   "source": [
    "l"
   ]
  },
  {
   "cell_type": "code",
   "execution_count": 50,
   "id": "74c1d3e4",
   "metadata": {},
   "outputs": [
    {
     "data": {
      "text/plain": [
       "[2, 3]"
      ]
     },
     "execution_count": 50,
     "metadata": {},
     "output_type": "execute_result"
    }
   ],
   "source": [
    "l[1:3]"
   ]
  },
  {
   "cell_type": "code",
   "execution_count": 51,
   "id": "7f185566",
   "metadata": {},
   "outputs": [],
   "source": [
    "sad_index = [0, 20, 31, 2, 22, 33, 10, 28, 39]\n",
    "surprised_index = [0, 20, 31, 1, 21, 32, 3, 23, 34, 17]\n",
    "scared_index = [0, 20, 31, 1, 21, 32, 2, 22, 33, 3, 23, 34, 5, 25, 36, 13, 29, 40, 17]"
   ]
  },
  {
   "cell_type": "code",
   "execution_count": 52,
   "id": "98fa7329",
   "metadata": {},
   "outputs": [],
   "source": [
    "_01_02_26_input = sad_index[:3] + surprised_index[:3] + scared_index[:3] + \\\n",
    "                          surprised_index[3:6] + scared_index[3:6] + surprised_index[-1:] + scared_index[-1:]"
   ]
  },
  {
   "cell_type": "code",
   "execution_count": 54,
   "id": "a950bc6d",
   "metadata": {},
   "outputs": [
    {
     "data": {
      "text/plain": [
       "17"
      ]
     },
     "execution_count": 54,
     "metadata": {},
     "output_type": "execute_result"
    }
   ],
   "source": [
    "len(_01_02_26_input)"
   ]
  },
  {
   "cell_type": "code",
   "execution_count": 58,
   "id": "dda5fae6",
   "metadata": {},
   "outputs": [
    {
     "data": {
      "text/plain": [
       "[0, 20, 31, 0, 20, 31, 0, 20, 31, 1, 21, 32, 1, 21, 32, 17, 17]"
      ]
     },
     "execution_count": 58,
     "metadata": {},
     "output_type": "execute_result"
    }
   ],
   "source": [
    "_01_02_26_input"
   ]
  },
  {
   "cell_type": "code",
   "execution_count": 55,
   "id": "4f5581e2",
   "metadata": {
    "scrolled": true
   },
   "outputs": [
    {
     "data": {
      "text/plain": [
       "[2,\n",
       " 22,\n",
       " 33,\n",
       " 2,\n",
       " 22,\n",
       " 33,\n",
       " 2,\n",
       " 22,\n",
       " 33,\n",
       " 3,\n",
       " 23,\n",
       " 34,\n",
       " 3,\n",
       " 23,\n",
       " 34,\n",
       " 3,\n",
       " 23,\n",
       " 34,\n",
       " 5,\n",
       " 25,\n",
       " 36,\n",
       " 5,\n",
       " 25,\n",
       " 36]"
      ]
     },
     "execution_count": 55,
     "metadata": {},
     "output_type": "execute_result"
    }
   ],
   "source": [
    "sad_index = [0, 20, 31, 2, 22, 33, 10, 28, 39]\n",
    "surprised_index = [0, 20, 31, 1, 21, 32, 3, 23, 34, 17]\n",
    "scared_index = [0, 20, 31, 1, 21, 32, 2, 22, 33, 3, 23, 34, 5, 25, 36, 13, 29, 40, 17]\n",
    "angry_index = [2, 22, 33, 3, 23, 34, 5, 25, 36, 14]\n",
    "\n",
    "_04_05_07_input = sad_index[3:6] + scared_index[6:9] + angry_index[:3] + \\\n",
    "                  surprised_index[6:9] + scared_index[9:12] + angry_index[3:6] + \\\n",
    "                  scared_index[12:15] + angry_index[6:9]\n",
    "_04_05_07_input"
   ]
  },
  {
   "cell_type": "code",
   "execution_count": 56,
   "id": "2a40d4a1",
   "metadata": {},
   "outputs": [
    {
     "data": {
      "text/plain": [
       "[8, 26, 37, 8, 26, 37, 10, 28, 39, 10, 28, 39]"
      ]
     },
     "execution_count": 56,
     "metadata": {},
     "output_type": "execute_result"
    }
   ],
   "source": [
    "sad_index = [0, 20, 31, 2, 22, 33, 10, 28, 39]\n",
    "happy_index = [4, 24, 35, 8, 26, 37]\n",
    "disgusted_index = [6, 10, 28, 39]\n",
    "contempt_index = [8, 26, 37, 9, 27, 38]\n",
    "\n",
    "_12_15_input = happy_index[3:6] + contempt_index[:3] + sad_index[6:9] + disgusted_index[1:]\n",
    "_12_15_input"
   ]
  },
  {
   "cell_type": "code",
   "execution_count": 57,
   "id": "e402f09d",
   "metadata": {},
   "outputs": [],
   "source": [
    "happy_index = [4, 24, 35, 8, 26, 37]\n",
    "sad_index = [0, 20, 31, 2, 22, 33, 10, 28, 39]\n",
    "surprised_index = [0, 20, 31, 1, 21, 32, 3, 23, 34, 17]\n",
    "scared_index = [0, 20, 31, 1, 21, 32, 2, 22, 33, 3, 23, 34, 5, 25, 36, 13, 29, 40, 17]\n",
    "angry_index = [2, 22, 33, 3, 23, 34, 5, 25, 36, 14]\n",
    "disgusted_index = [6, 10, 28, 39]\n",
    "contempt_index = [8, 26, 37, 9, 27, 38]\n",
    "other_facs_index = [7, 11, 12, 15, 16, 18, 19, 30, 41]"
   ]
  },
  {
   "cell_type": "code",
   "execution_count": 59,
   "id": "14f81e37",
   "metadata": {},
   "outputs": [],
   "source": [
    "_01_02_26_output = [0, 20, 31, 1, 21, 32, 17]\n",
    "_04_05_07_output = [2, 22, 33, 3, 23, 34, 5, 25, 36]\n",
    "_12_15_output = [8, 26, 37, 10, 28, 39]"
   ]
  },
  {
   "cell_type": "code",
   "execution_count": 62,
   "id": "1cce7590",
   "metadata": {},
   "outputs": [
    {
     "data": {
      "text/plain": [
       "['Action_Unit_12___Lip_Corner_Puller',\n",
       " 'Action_Unit_12___Left___Lip_Corner_Puller',\n",
       " 'Action_Unit_12___Right___Lip_Corner_Puller',\n",
       " 'Action_Unit_15___Lip_Corner_Depressor',\n",
       " 'Action_Unit_15___Left___Lip_Corner_Depressor',\n",
       " 'Action_Unit_15___Right___Lip_Corner_Depressor']"
      ]
     },
     "execution_count": 62,
     "metadata": {},
     "output_type": "execute_result"
    }
   ],
   "source": [
    "[facs_fields[i] for i in _12_15_output]"
   ]
  },
  {
   "cell_type": "code",
   "execution_count": 65,
   "id": "2270bd2b",
   "metadata": {},
   "outputs": [],
   "source": [
    "res_42_vals = _01_02_26_output[:1] + _01_02_26_output[3:4] + _04_05_07_output[:1] + \\\n",
    "              _04_05_07_output[3:4] + happy_index[:1] + _04_05_07_output[6:7] + \\\n",
    "              disgusted_index[:1] + other_facs_index[:1] + contempt_index[:1] + \\\n",
    "              contempt_index[3:4] + _12_15_output[3:4] + other_facs_index[1:3] + \\\n",
    "              scared_index[-4:-3] + angry_index[-1:] + other_facs_index[3:5] + \\\n",
    "              _01_02_26_output[-1:] + other_facs_index[5:7] + _01_02_26_output[1:2] + \\\n",
    "              _01_02_26_output[4:5] + _04_05_07_output[1:2] + _04_05_07_output[4:5] + \\\n",
    "              happy_index[1:2] + _04_05_07_output[-2:-1] + _12_15_output[1:2] + \\\n",
    "              contempt_index[-2:-1] + _12_15_output[-2:-1] + scared_index[-3:-2] + \\\n",
    "              other_facs_index[-2:-1] + _01_02_26_output[2:3] + _01_02_26_output[-2:-1] + \\\n",
    "              _04_05_07_output[2:3] + _04_05_07_output[5:6] + happy_index[2:3] + \\\n",
    "              _04_05_07_output[-1:] + _12_15_output[2:3] + contempt_index[-1:] + \\\n",
    "              _12_15_output[-1:] + scared_index[-2:-1] + other_facs_index[-1:]"
   ]
  },
  {
   "cell_type": "code",
   "execution_count": 66,
   "id": "30e8d6d4",
   "metadata": {
    "scrolled": true
   },
   "outputs": [
    {
     "data": {
      "text/plain": [
       "[0,\n",
       " 1,\n",
       " 2,\n",
       " 3,\n",
       " 4,\n",
       " 5,\n",
       " 6,\n",
       " 7,\n",
       " 8,\n",
       " 9,\n",
       " 10,\n",
       " 11,\n",
       " 12,\n",
       " 13,\n",
       " 14,\n",
       " 15,\n",
       " 16,\n",
       " 17,\n",
       " 18,\n",
       " 19,\n",
       " 20,\n",
       " 21,\n",
       " 22,\n",
       " 23,\n",
       " 24,\n",
       " 25,\n",
       " 26,\n",
       " 27,\n",
       " 28,\n",
       " 29,\n",
       " 30,\n",
       " 31,\n",
       " 32,\n",
       " 33,\n",
       " 34,\n",
       " 35,\n",
       " 36,\n",
       " 37,\n",
       " 38,\n",
       " 39,\n",
       " 40,\n",
       " 41]"
      ]
     },
     "execution_count": 66,
     "metadata": {},
     "output_type": "execute_result"
    }
   ],
   "source": [
    "res_42_vals"
   ]
  },
  {
   "cell_type": "code",
   "execution_count": 68,
   "id": "df14a654",
   "metadata": {
    "scrolled": true
   },
   "outputs": [
    {
     "data": {
      "text/plain": [
       "True"
      ]
     },
     "execution_count": 68,
     "metadata": {},
     "output_type": "execute_result"
    }
   ],
   "source": [
    "[facs_fields[i] for i in res_42_vals] == facs_fields"
   ]
  },
  {
   "cell_type": "code",
   "execution_count": 69,
   "id": "d9a888ce",
   "metadata": {},
   "outputs": [
    {
     "data": {
      "text/plain": [
       "[1, 2, 3, 2, 3]"
      ]
     },
     "execution_count": 69,
     "metadata": {},
     "output_type": "execute_result"
    }
   ],
   "source": [
    "l"
   ]
  },
  {
   "cell_type": "code",
   "execution_count": 70,
   "id": "48de8503",
   "metadata": {},
   "outputs": [
    {
     "data": {
      "text/plain": [
       "list"
      ]
     },
     "execution_count": 70,
     "metadata": {},
     "output_type": "execute_result"
    }
   ],
   "source": [
    "type(l)"
   ]
  },
  {
   "cell_type": "code",
   "execution_count": null,
   "id": "4a7adac3",
   "metadata": {},
   "outputs": [],
   "source": []
  },
  {
   "cell_type": "code",
   "execution_count": 71,
   "id": "7f2dcd15",
   "metadata": {
    "scrolled": true
   },
   "outputs": [
    {
     "data": {
      "text/plain": [
       "[{'Action name': 'Action_Unit_01___Inner_Brow_Raiser', 'Value': 0},\n",
       " {'Action name': 'Action_Unit_02___Outer_Brow_Raiser', 'Value': 0},\n",
       " {'Action name': 'Action_Unit_04___Brow_Lowerer', 'Value': 0},\n",
       " {'Action name': 'Action_Unit_05___Upper_Lid_Raiser', 'Value': 0},\n",
       " {'Action name': 'Action_Unit_06___Cheek_Raiser', 'Value': 0},\n",
       " {'Action name': 'Action_Unit_07___Lid_Tightener', 'Value': 0},\n",
       " {'Action name': 'Action_Unit_09___Nose_Wrinkler', 'Value': 0},\n",
       " {'Action name': 'Action_Unit_10___Upper_Lip_Raiser', 'Value': 0},\n",
       " {'Action name': 'Action_Unit_12___Lip_Corner_Puller', 'Value': 0},\n",
       " {'Action name': 'Action_Unit_14___Dimpler', 'Value': 0},\n",
       " {'Action name': 'Action_Unit_15___Lip_Corner_Depressor', 'Value': 0},\n",
       " {'Action name': 'Action_Unit_17___Chin_Raiser', 'Value': 0},\n",
       " {'Action name': 'Action_Unit_18___Lip_Pucker', 'Value': 0},\n",
       " {'Action name': 'Action_Unit_20___Lip_Stretcher', 'Value': 0},\n",
       " {'Action name': 'Action_Unit_23___Lip_Tightener', 'Value': 0},\n",
       " {'Action name': 'Action_Unit_24___Lip_Pressor', 'Value': 0},\n",
       " {'Action name': 'Action_Unit_25___Lips_Part', 'Value': 0},\n",
       " {'Action name': 'Action_Unit_26___Jaw_Drop', 'Value': 0},\n",
       " {'Action name': 'Action_Unit_27___Mouth_Stretch', 'Value': 0},\n",
       " {'Action name': 'Action_Unit_43___Eyes_Closed', 'Value': 0},\n",
       " {'Action name': 'Action_Unit_01___Left___Inner_Brow_Raiser', 'Value': 0},\n",
       " {'Action name': 'Action_Unit_02___Left___Outer_Brow_Raiser', 'Value': 0},\n",
       " {'Action name': 'Action_Unit_04___Left___Brow_Lowerer', 'Value': 0},\n",
       " {'Action name': 'Action_Unit_05___Left___Upper_Lid_Raiser', 'Value': 0},\n",
       " {'Action name': 'Action_Unit_06___Left___Cheek_Raiser', 'Value': 0},\n",
       " {'Action name': 'Action_Unit_07___Left___Lid_Tightener', 'Value': 0},\n",
       " {'Action name': 'Action_Unit_12___Left___Lip_Corner_Puller', 'Value': 0},\n",
       " {'Action name': 'Action_Unit_14___Left___Dimpler', 'Value': 0},\n",
       " {'Action name': 'Action_Unit_15___Left___Lip_Corner_Depressor', 'Value': 0},\n",
       " {'Action name': 'Action_Unit_20___Left___Lip_Stretcher', 'Value': 0},\n",
       " {'Action name': 'Action_Unit_43___Left___Eyes_Closed', 'Value': 0},\n",
       " {'Action name': 'Action_Unit_01___Right___Inner_Brow_Raiser', 'Value': 0},\n",
       " {'Action name': 'Action_Unit_02___Right___Outer_Brow_Raiser', 'Value': 0},\n",
       " {'Action name': 'Action_Unit_04___Right___Brow_Lowerer', 'Value': 0},\n",
       " {'Action name': 'Action_Unit_05___Right___Upper_Lid_Raiser', 'Value': 0},\n",
       " {'Action name': 'Action_Unit_06___Right___Cheek_Raiser', 'Value': 0},\n",
       " {'Action name': 'Action_Unit_07___Right___Lid_Tightener', 'Value': 0},\n",
       " {'Action name': 'Action_Unit_12___Right___Lip_Corner_Puller', 'Value': 0},\n",
       " {'Action name': 'Action_Unit_14___Right___Dimpler', 'Value': 0},\n",
       " {'Action name': 'Action_Unit_15___Right___Lip_Corner_Depressor', 'Value': 0},\n",
       " {'Action name': 'Action_Unit_20___Right___Lip_Stretcher', 'Value': 0},\n",
       " {'Action name': 'Action_Unit_43___Right___Eyes_Closed', 'Value': 0}]"
      ]
     },
     "execution_count": 71,
     "metadata": {},
     "output_type": "execute_result"
    }
   ],
   "source": [
    "[{'Action name': 'Action_Unit_01___Inner_Brow_Raiser', 'Value': 0}, {'Action name': 'Action_Unit_02___Outer_Brow_Raiser', 'Value': 0}, {'Action name': 'Action_Unit_04___Brow_Lowerer', 'Value': 0}, {'Action name': 'Action_Unit_05___Upper_Lid_Raiser', 'Value': 0}, {'Action name': 'Action_Unit_06___Cheek_Raiser', 'Value': 0}, {'Action name': 'Action_Unit_07___Lid_Tightener', 'Value': 0}, {'Action name': 'Action_Unit_09___Nose_Wrinkler', 'Value': 0}, {'Action name': 'Action_Unit_10___Upper_Lip_Raiser', 'Value': 0}, {'Action name': 'Action_Unit_12___Lip_Corner_Puller', 'Value': 0}, {'Action name': 'Action_Unit_14___Dimpler', 'Value': 0}, {'Action name': 'Action_Unit_15___Lip_Corner_Depressor', 'Value': 0}, {'Action name': 'Action_Unit_17___Chin_Raiser', 'Value': 0}, {'Action name': 'Action_Unit_18___Lip_Pucker', 'Value': 0}, {'Action name': 'Action_Unit_20___Lip_Stretcher', 'Value': 0}, {'Action name': 'Action_Unit_23___Lip_Tightener', 'Value': 0}, {'Action name': 'Action_Unit_24___Lip_Pressor', 'Value': 0}, {'Action name': 'Action_Unit_25___Lips_Part', 'Value': 0}, {'Action name': 'Action_Unit_26___Jaw_Drop', 'Value': 0}, {'Action name': 'Action_Unit_27___Mouth_Stretch', 'Value': 0}, {'Action name': 'Action_Unit_43___Eyes_Closed', 'Value': 0}, {'Action name': 'Action_Unit_01___Left___Inner_Brow_Raiser', 'Value': 0}, {'Action name': 'Action_Unit_02___Left___Outer_Brow_Raiser', 'Value': 0}, {'Action name': 'Action_Unit_04___Left___Brow_Lowerer', 'Value': 0}, {'Action name': 'Action_Unit_05___Left___Upper_Lid_Raiser', 'Value': 0}, {'Action name': 'Action_Unit_06___Left___Cheek_Raiser', 'Value': 0}, {'Action name': 'Action_Unit_07___Left___Lid_Tightener', 'Value': 0}, {'Action name': 'Action_Unit_12___Left___Lip_Corner_Puller', 'Value': 0}, {'Action name': 'Action_Unit_14___Left___Dimpler', 'Value': 0}, {'Action name': 'Action_Unit_15___Left___Lip_Corner_Depressor', 'Value': 0}, {'Action name': 'Action_Unit_20___Left___Lip_Stretcher', 'Value': 0}, {'Action name': 'Action_Unit_43___Left___Eyes_Closed', 'Value': 0}, {'Action name': 'Action_Unit_01___Right___Inner_Brow_Raiser', 'Value': 0}, {'Action name': 'Action_Unit_02___Right___Outer_Brow_Raiser', 'Value': 0}, {'Action name': 'Action_Unit_04___Right___Brow_Lowerer', 'Value': 0}, {'Action name': 'Action_Unit_05___Right___Upper_Lid_Raiser', 'Value': 0}, {'Action name': 'Action_Unit_06___Right___Cheek_Raiser', 'Value': 0}, {'Action name': 'Action_Unit_07___Right___Lid_Tightener', 'Value': 0}, {'Action name': 'Action_Unit_12___Right___Lip_Corner_Puller', 'Value': 0}, {'Action name': 'Action_Unit_14___Right___Dimpler', 'Value': 0}, {'Action name': 'Action_Unit_15___Right___Lip_Corner_Depressor', 'Value': 0}, {'Action name': 'Action_Unit_20___Right___Lip_Stretcher', 'Value': 0}, {'Action name': 'Action_Unit_43___Right___Eyes_Closed', 'Value': 0}]\n"
   ]
  },
  {
   "cell_type": "code",
   "execution_count": null,
   "id": "85fd7b11",
   "metadata": {},
   "outputs": [],
   "source": []
  },
  {
   "cell_type": "code",
   "execution_count": 72,
   "id": "618e0790",
   "metadata": {},
   "outputs": [
    {
     "data": {
      "text/plain": [
       "{1, 2, 3}"
      ]
     },
     "execution_count": 72,
     "metadata": {},
     "output_type": "execute_result"
    }
   ],
   "source": [
    "{m for m in [1, 2, 3, 1]}"
   ]
  },
  {
   "cell_type": "code",
   "execution_count": 76,
   "id": "f7754617",
   "metadata": {},
   "outputs": [
    {
     "data": {
      "text/plain": [
       "'->7'"
      ]
     },
     "execution_count": 76,
     "metadata": {},
     "output_type": "execute_result"
    }
   ],
   "source": [
    "'->7'.split(' ')[0]"
   ]
  },
  {
   "cell_type": "code",
   "execution_count": null,
   "id": "460b446e",
   "metadata": {},
   "outputs": [],
   "source": []
  }
 ],
 "metadata": {
  "kernelspec": {
   "display_name": "Python 3 (ipykernel)",
   "language": "python",
   "name": "python3"
  },
  "language_info": {
   "codemirror_mode": {
    "name": "ipython",
    "version": 3
   },
   "file_extension": ".py",
   "mimetype": "text/x-python",
   "name": "python",
   "nbconvert_exporter": "python",
   "pygments_lexer": "ipython3",
   "version": "3.9.1"
  }
 },
 "nbformat": 4,
 "nbformat_minor": 5
}
