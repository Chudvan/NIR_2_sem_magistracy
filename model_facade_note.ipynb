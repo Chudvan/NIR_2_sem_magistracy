{
 "cells": [
  {
   "cell_type": "code",
   "execution_count": 81,
   "id": "f022e7a9",
   "metadata": {},
   "outputs": [],
   "source": [
    "type_model_dict = {\n",
    "    '2_7': 'model_va_clear',\n",
    "    '7_2': 'model_clear_va',\n",
    "    '7_42': 'model_clear_facs',\n",
    "    '42_7': 'model_facs_clear',\n",
    "    '2_42': 'model_va_facs',\n",
    "    '42_2': 'model_facs_va'\n",
    "}"
   ]
  },
  {
   "cell_type": "code",
   "execution_count": 91,
   "id": "8bf531f7",
   "metadata": {},
   "outputs": [],
   "source": [
    "class ModelFacade:\n",
    "    def __init__(self):\n",
    "        self.model_va_clear = None\n",
    "        self.model_clear_va = None\n",
    "        self.model_clear_facs = None\n",
    "        self.model_facs_clear = None\n",
    "        self.model_va_facs = None\n",
    "        self.model_facs_va = None\n",
    "    \n",
    "    @property\n",
    "    def model_va_clear(self):\n",
    "        return self._model_va_clear\n",
    "    \n",
    "    @model_va_clear.setter\n",
    "    def model_va_clear(self, model):\n",
    "        self._model_va_clear = model\n",
    "        \n",
    "    @property\n",
    "    def model_clear_va(self):\n",
    "        return self._model_clear_va\n",
    "    \n",
    "    @model_clear_va.setter\n",
    "    def model_clear_va(self, model):\n",
    "        self._model_clear_va = model\n",
    "        \n",
    "    @property\n",
    "    def model_clear_facs(self):\n",
    "        return self._model_clear_facs\n",
    "    \n",
    "    @model_clear_facs.setter\n",
    "    def model_clear_facs(self, model):\n",
    "        self._model_clear_facs = model\n",
    "    \n",
    "    @property\n",
    "    def model_facs_clear(self):\n",
    "        return self._model_facs_clear\n",
    "    \n",
    "    @model_facs_clear.setter\n",
    "    def model_facs_clear(self, model):\n",
    "        self._model_facs_clear = model\n",
    "        \n",
    "    @property\n",
    "    def model_va_facs(self):\n",
    "        return self._model_va_facs\n",
    "    \n",
    "    @model_va_facs.setter\n",
    "    def model_va_facs(self, model):\n",
    "        self._model_va_facs = model\n",
    "        \n",
    "    @property\n",
    "    def model_facs_va(self):\n",
    "        return self._model_facs_va\n",
    "    \n",
    "    @model_facs_va.setter\n",
    "    def model_facs_va(self, model):\n",
    "        self._model_facs_va = model\n",
    "    \n",
    "    def predict(self, type_, input_df):\n",
    "        return getattr(self, type_model_dict[type_]).predict(input_df)"
   ]
  },
  {
   "cell_type": "code",
   "execution_count": 92,
   "id": "969cfdcb",
   "metadata": {},
   "outputs": [],
   "source": [
    "m = ModelFacade()"
   ]
  },
  {
   "cell_type": "code",
   "execution_count": 93,
   "id": "5460e590",
   "metadata": {},
   "outputs": [
    {
     "data": {
      "text/plain": [
       "True"
      ]
     },
     "execution_count": 93,
     "metadata": {},
     "output_type": "execute_result"
    }
   ],
   "source": [
    "m.model_va_clear is None"
   ]
  },
  {
   "cell_type": "code",
   "execution_count": 94,
   "id": "61e565f3",
   "metadata": {},
   "outputs": [],
   "source": [
    "m.model_va_clear = ModelVAClearNeural(path)"
   ]
  },
  {
   "cell_type": "code",
   "execution_count": 95,
   "id": "457dadf8",
   "metadata": {},
   "outputs": [
    {
     "data": {
      "text/plain": [
       "<__main__.ModelVAClearNeural at 0x7fc9444517c0>"
      ]
     },
     "execution_count": 95,
     "metadata": {},
     "output_type": "execute_result"
    }
   ],
   "source": [
    "m.model_va_clear"
   ]
  },
  {
   "cell_type": "code",
   "execution_count": 96,
   "id": "083848bc",
   "metadata": {},
   "outputs": [
    {
     "data": {
      "text/html": [
       "<div>\n",
       "<style scoped>\n",
       "    .dataframe tbody tr th:only-of-type {\n",
       "        vertical-align: middle;\n",
       "    }\n",
       "\n",
       "    .dataframe tbody tr th {\n",
       "        vertical-align: top;\n",
       "    }\n",
       "\n",
       "    .dataframe thead th {\n",
       "        text-align: right;\n",
       "    }\n",
       "</style>\n",
       "<table border=\"1\" class=\"dataframe\">\n",
       "  <thead>\n",
       "    <tr style=\"text-align: right;\">\n",
       "      <th></th>\n",
       "      <th>Neutral</th>\n",
       "      <th>Happy</th>\n",
       "      <th>Sad</th>\n",
       "      <th>Angry</th>\n",
       "      <th>Surprised</th>\n",
       "      <th>Scared</th>\n",
       "      <th>Disgusted</th>\n",
       "    </tr>\n",
       "  </thead>\n",
       "  <tbody>\n",
       "    <tr>\n",
       "      <th>0</th>\n",
       "      <td>0.362294</td>\n",
       "      <td>0.009952</td>\n",
       "      <td>0.01659</td>\n",
       "      <td>0.002694</td>\n",
       "      <td>0.694171</td>\n",
       "      <td>0.011894</td>\n",
       "      <td>0.000502</td>\n",
       "    </tr>\n",
       "  </tbody>\n",
       "</table>\n",
       "</div>"
      ],
      "text/plain": [
       "    Neutral     Happy      Sad     Angry  Surprised    Scared  Disgusted\n",
       "0  0.362294  0.009952  0.01659  0.002694   0.694171  0.011894   0.000502"
      ]
     },
     "execution_count": 96,
     "metadata": {},
     "output_type": "execute_result"
    }
   ],
   "source": [
    "m.predict('2_7', df)"
   ]
  },
  {
   "cell_type": "code",
   "execution_count": 97,
   "id": "41576a5f",
   "metadata": {},
   "outputs": [
    {
     "data": {
      "text/plain": [
       "True"
      ]
     },
     "execution_count": 97,
     "metadata": {},
     "output_type": "execute_result"
    }
   ],
   "source": [
    "m.model_facs_clear is None"
   ]
  },
  {
   "cell_type": "code",
   "execution_count": null,
   "id": "4ec3ca1d",
   "metadata": {},
   "outputs": [],
   "source": []
  },
  {
   "cell_type": "code",
   "execution_count": 1,
   "id": "9853671c",
   "metadata": {},
   "outputs": [],
   "source": [
    "from abc import ABC, abstractmethod"
   ]
  },
  {
   "cell_type": "code",
   "execution_count": 40,
   "id": "cc37f2ef",
   "metadata": {},
   "outputs": [],
   "source": [
    "class AbstractModel(ABC):\n",
    "    _model = None\n",
    "    \n",
    "    @property\n",
    "    @abstractmethod\n",
    "    def type_(self):\n",
    "        pass\n",
    "\n",
    "    @abstractmethod\n",
    "    def loadmodel(self, path):\n",
    "        pass\n",
    "    \n",
    "    @abstractmethod\n",
    "    def predict(self, input_):\n",
    "        pass"
   ]
  },
  {
   "cell_type": "code",
   "execution_count": 41,
   "id": "28984d13",
   "metadata": {},
   "outputs": [],
   "source": [
    "seven_fields = [\n",
    "    'Neutral', \n",
    "    'Happy', \n",
    "    'Sad', \n",
    "    'Angry', \n",
    "    'Surprised', \n",
    "    'Scared', \n",
    "    'Disgusted'\n",
    "]"
   ]
  },
  {
   "cell_type": "code",
   "execution_count": 42,
   "id": "5acf3326",
   "metadata": {},
   "outputs": [],
   "source": [
    "class ModelVAClearNeural(AbstractModel):\n",
    "    def __init__(self, path):\n",
    "        self.loadmodel(path)\n",
    "    \n",
    "    @property\n",
    "    def type_(self):\n",
    "        return '2->7 (Neutral)'\n",
    "    \n",
    "    def loadmodel(self, path):\n",
    "        from tensorflow.keras.models import load_model\n",
    "        self._model = load_model(path)\n",
    "    \n",
    "    def predict(self, df_VA):\n",
    "        neural_vals = self._model.predict(df_VA.values)\n",
    "        df_Neural = pd.DataFrame(neural_vals, columns=seven_fields)\n",
    "        return df_Neural"
   ]
  },
  {
   "cell_type": "code",
   "execution_count": 43,
   "id": "cb38881b",
   "metadata": {},
   "outputs": [
    {
     "data": {
      "text/plain": [
       "'2->7 (Neutral)'"
      ]
     },
     "execution_count": 43,
     "metadata": {},
     "output_type": "execute_result"
    }
   ],
   "source": [
    "path = '/home/ivan/Рабочий стол/Учёба/Git/NIR_1_sem_magistracy/saved_models/third/_2/model_third_7.9.8_2'\n",
    "m = ModelVAClearNeural(path)\n",
    "m.type_"
   ]
  },
  {
   "cell_type": "code",
   "execution_count": 59,
   "id": "bab42e24",
   "metadata": {},
   "outputs": [
    {
     "data": {
      "text/html": [
       "<div>\n",
       "<style scoped>\n",
       "    .dataframe tbody tr th:only-of-type {\n",
       "        vertical-align: middle;\n",
       "    }\n",
       "\n",
       "    .dataframe tbody tr th {\n",
       "        vertical-align: top;\n",
       "    }\n",
       "\n",
       "    .dataframe thead th {\n",
       "        text-align: right;\n",
       "    }\n",
       "</style>\n",
       "<table border=\"1\" class=\"dataframe\">\n",
       "  <thead>\n",
       "    <tr style=\"text-align: right;\">\n",
       "      <th></th>\n",
       "      <th>Neutral</th>\n",
       "      <th>Happy</th>\n",
       "      <th>Sad</th>\n",
       "      <th>Angry</th>\n",
       "      <th>Surprised</th>\n",
       "      <th>Scared</th>\n",
       "      <th>Disgusted</th>\n",
       "    </tr>\n",
       "  </thead>\n",
       "  <tbody>\n",
       "    <tr>\n",
       "      <th>0</th>\n",
       "      <td>0.362294</td>\n",
       "      <td>0.009952</td>\n",
       "      <td>0.01659</td>\n",
       "      <td>0.002694</td>\n",
       "      <td>0.694171</td>\n",
       "      <td>0.011894</td>\n",
       "      <td>0.000502</td>\n",
       "    </tr>\n",
       "  </tbody>\n",
       "</table>\n",
       "</div>"
      ],
      "text/plain": [
       "    Neutral     Happy      Sad     Angry  Surprised    Scared  Disgusted\n",
       "0  0.362294  0.009952  0.01659  0.002694   0.694171  0.011894   0.000502"
      ]
     },
     "execution_count": 59,
     "metadata": {},
     "output_type": "execute_result"
    }
   ],
   "source": [
    "m.predict(df)"
   ]
  },
  {
   "cell_type": "code",
   "execution_count": 18,
   "id": "2a4edf05",
   "metadata": {},
   "outputs": [],
   "source": [
    "import pandas as pd"
   ]
  },
  {
   "cell_type": "code",
   "execution_count": 19,
   "id": "d3e1e0a7",
   "metadata": {},
   "outputs": [],
   "source": [
    "cols = ['Valence', 'Arousal']"
   ]
  },
  {
   "cell_type": "code",
   "execution_count": 55,
   "id": "040585e1",
   "metadata": {},
   "outputs": [],
   "source": [
    "rows = [{cols[0]: 0, cols[1]: 0.75}]"
   ]
  },
  {
   "cell_type": "code",
   "execution_count": 56,
   "id": "5d0086e0",
   "metadata": {},
   "outputs": [
    {
     "data": {
      "text/html": [
       "<div>\n",
       "<style scoped>\n",
       "    .dataframe tbody tr th:only-of-type {\n",
       "        vertical-align: middle;\n",
       "    }\n",
       "\n",
       "    .dataframe tbody tr th {\n",
       "        vertical-align: top;\n",
       "    }\n",
       "\n",
       "    .dataframe thead th {\n",
       "        text-align: right;\n",
       "    }\n",
       "</style>\n",
       "<table border=\"1\" class=\"dataframe\">\n",
       "  <thead>\n",
       "    <tr style=\"text-align: right;\">\n",
       "      <th></th>\n",
       "      <th>Valence</th>\n",
       "      <th>Arousal</th>\n",
       "    </tr>\n",
       "  </thead>\n",
       "  <tbody>\n",
       "    <tr>\n",
       "      <th>0</th>\n",
       "      <td>0</td>\n",
       "      <td>0.75</td>\n",
       "    </tr>\n",
       "  </tbody>\n",
       "</table>\n",
       "</div>"
      ],
      "text/plain": [
       "   Valence  Arousal\n",
       "0        0     0.75"
      ]
     },
     "execution_count": 56,
     "metadata": {},
     "output_type": "execute_result"
    }
   ],
   "source": [
    "df = pd.DataFrame(rows, columns=cols)\n",
    "df"
   ]
  },
  {
   "cell_type": "code",
   "execution_count": 57,
   "id": "312026e6",
   "metadata": {},
   "outputs": [
    {
     "data": {
      "text/plain": [
       "array([[0.  , 0.75]])"
      ]
     },
     "execution_count": 57,
     "metadata": {},
     "output_type": "execute_result"
    }
   ],
   "source": [
    "df.values"
   ]
  },
  {
   "cell_type": "code",
   "execution_count": 58,
   "id": "18e50eb9",
   "metadata": {},
   "outputs": [
    {
     "data": {
      "text/html": [
       "<div>\n",
       "<style scoped>\n",
       "    .dataframe tbody tr th:only-of-type {\n",
       "        vertical-align: middle;\n",
       "    }\n",
       "\n",
       "    .dataframe tbody tr th {\n",
       "        vertical-align: top;\n",
       "    }\n",
       "\n",
       "    .dataframe thead th {\n",
       "        text-align: right;\n",
       "    }\n",
       "</style>\n",
       "<table border=\"1\" class=\"dataframe\">\n",
       "  <thead>\n",
       "    <tr style=\"text-align: right;\">\n",
       "      <th></th>\n",
       "      <th>Valence</th>\n",
       "      <th>Arousal</th>\n",
       "    </tr>\n",
       "  </thead>\n",
       "  <tbody>\n",
       "    <tr>\n",
       "      <th>0</th>\n",
       "      <td>0.0</td>\n",
       "      <td>0.75</td>\n",
       "    </tr>\n",
       "  </tbody>\n",
       "</table>\n",
       "</div>"
      ],
      "text/plain": [
       "   Valence  Arousal\n",
       "0      0.0     0.75"
      ]
     },
     "execution_count": 58,
     "metadata": {},
     "output_type": "execute_result"
    }
   ],
   "source": [
    "df = pd.DataFrame(df.values, columns=cols)\n",
    "df"
   ]
  },
  {
   "cell_type": "code",
   "execution_count": 88,
   "id": "72d02f9b",
   "metadata": {},
   "outputs": [
    {
     "data": {
      "text/html": [
       "<div>\n",
       "<style scoped>\n",
       "    .dataframe tbody tr th:only-of-type {\n",
       "        vertical-align: middle;\n",
       "    }\n",
       "\n",
       "    .dataframe tbody tr th {\n",
       "        vertical-align: top;\n",
       "    }\n",
       "\n",
       "    .dataframe thead th {\n",
       "        text-align: right;\n",
       "    }\n",
       "</style>\n",
       "<table border=\"1\" class=\"dataframe\">\n",
       "  <thead>\n",
       "    <tr style=\"text-align: right;\">\n",
       "      <th></th>\n",
       "      <th>Valence</th>\n",
       "      <th>Arousal</th>\n",
       "    </tr>\n",
       "  </thead>\n",
       "  <tbody>\n",
       "    <tr>\n",
       "      <th>0</th>\n",
       "      <td>0.0</td>\n",
       "      <td>0.75</td>\n",
       "    </tr>\n",
       "  </tbody>\n",
       "</table>\n",
       "</div>"
      ],
      "text/plain": [
       "   Valence  Arousal\n",
       "0      0.0     0.75"
      ]
     },
     "execution_count": 88,
     "metadata": {},
     "output_type": "execute_result"
    }
   ],
   "source": []
  },
  {
   "cell_type": "code",
   "execution_count": null,
   "id": "39b7fb9c",
   "metadata": {},
   "outputs": [],
   "source": [
    "class ModelVAClearStat()"
   ]
  }
 ],
 "metadata": {
  "kernelspec": {
   "display_name": "Python 3 (ipykernel)",
   "language": "python",
   "name": "python3"
  },
  "language_info": {
   "codemirror_mode": {
    "name": "ipython",
    "version": 3
   },
   "file_extension": ".py",
   "mimetype": "text/x-python",
   "name": "python",
   "nbconvert_exporter": "python",
   "pygments_lexer": "ipython3",
   "version": "3.9.1"
  }
 },
 "nbformat": 4,
 "nbformat_minor": 5
}
