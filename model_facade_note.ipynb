{
 "cells": [
  {
   "cell_type": "code",
   "execution_count": 81,
   "id": "f022e7a9",
   "metadata": {},
   "outputs": [],
   "source": [
    "type_model_dict = {\n",
    "    '2_7': 'model_va_clear',\n",
    "    '7_2': 'model_clear_va',\n",
    "    '7_42': 'model_clear_facs',\n",
    "    '42_7': 'model_facs_clear',\n",
    "    '2_42': 'model_va_facs',\n",
    "    '42_2': 'model_facs_va'\n",
    "}"
   ]
  },
  {
   "cell_type": "code",
   "execution_count": 91,
   "id": "8bf531f7",
   "metadata": {},
   "outputs": [],
   "source": [
    "class ModelFacade:\n",
    "    def __init__(self):\n",
    "        self.model_va_clear = None\n",
    "        self.model_clear_va = None\n",
    "        self.model_clear_facs = None\n",
    "        self.model_facs_clear = None\n",
    "        self.model_va_facs = None\n",
    "        self.model_facs_va = None\n",
    "    \n",
    "    @property\n",
    "    def model_va_clear(self):\n",
    "        return self._model_va_clear\n",
    "    \n",
    "    @model_va_clear.setter\n",
    "    def model_va_clear(self, model):\n",
    "        self._model_va_clear = model\n",
    "        \n",
    "    @property\n",
    "    def model_clear_va(self):\n",
    "        return self._model_clear_va\n",
    "    \n",
    "    @model_clear_va.setter\n",
    "    def model_clear_va(self, model):\n",
    "        self._model_clear_va = model\n",
    "        \n",
    "    @property\n",
    "    def model_clear_facs(self):\n",
    "        return self._model_clear_facs\n",
    "    \n",
    "    @model_clear_facs.setter\n",
    "    def model_clear_facs(self, model):\n",
    "        self._model_clear_facs = model\n",
    "    \n",
    "    @property\n",
    "    def model_facs_clear(self):\n",
    "        return self._model_facs_clear\n",
    "    \n",
    "    @model_facs_clear.setter\n",
    "    def model_facs_clear(self, model):\n",
    "        self._model_facs_clear = model\n",
    "        \n",
    "    @property\n",
    "    def model_va_facs(self):\n",
    "        return self._model_va_facs\n",
    "    \n",
    "    @model_va_facs.setter\n",
    "    def model_va_facs(self, model):\n",
    "        self._model_va_facs = model\n",
    "        \n",
    "    @property\n",
    "    def model_facs_va(self):\n",
    "        return self._model_facs_va\n",
    "    \n",
    "    @model_facs_va.setter\n",
    "    def model_facs_va(self, model):\n",
    "        self._model_facs_va = model\n",
    "    \n",
    "    def predict(self, type_, input_df):\n",
    "        return getattr(self, type_model_dict[type_]).predict(input_df)"
   ]
  },
  {
   "cell_type": "code",
   "execution_count": 92,
   "id": "969cfdcb",
   "metadata": {},
   "outputs": [],
   "source": [
    "m = ModelFacade()"
   ]
  },
  {
   "cell_type": "code",
   "execution_count": 93,
   "id": "5460e590",
   "metadata": {},
   "outputs": [
    {
     "data": {
      "text/plain": [
       "True"
      ]
     },
     "execution_count": 93,
     "metadata": {},
     "output_type": "execute_result"
    }
   ],
   "source": [
    "m.model_va_clear is None"
   ]
  },
  {
   "cell_type": "code",
   "execution_count": 94,
   "id": "61e565f3",
   "metadata": {},
   "outputs": [],
   "source": [
    "m.model_va_clear = ModelVAClearNeural(path)"
   ]
  },
  {
   "cell_type": "code",
   "execution_count": 95,
   "id": "457dadf8",
   "metadata": {},
   "outputs": [
    {
     "data": {
      "text/plain": [
       "<__main__.ModelVAClearNeural at 0x7fc9444517c0>"
      ]
     },
     "execution_count": 95,
     "metadata": {},
     "output_type": "execute_result"
    }
   ],
   "source": [
    "m.model_va_clear"
   ]
  },
  {
   "cell_type": "code",
   "execution_count": 96,
   "id": "083848bc",
   "metadata": {},
   "outputs": [
    {
     "data": {
      "text/html": [
       "<div>\n",
       "<style scoped>\n",
       "    .dataframe tbody tr th:only-of-type {\n",
       "        vertical-align: middle;\n",
       "    }\n",
       "\n",
       "    .dataframe tbody tr th {\n",
       "        vertical-align: top;\n",
       "    }\n",
       "\n",
       "    .dataframe thead th {\n",
       "        text-align: right;\n",
       "    }\n",
       "</style>\n",
       "<table border=\"1\" class=\"dataframe\">\n",
       "  <thead>\n",
       "    <tr style=\"text-align: right;\">\n",
       "      <th></th>\n",
       "      <th>Neutral</th>\n",
       "      <th>Happy</th>\n",
       "      <th>Sad</th>\n",
       "      <th>Angry</th>\n",
       "      <th>Surprised</th>\n",
       "      <th>Scared</th>\n",
       "      <th>Disgusted</th>\n",
       "    </tr>\n",
       "  </thead>\n",
       "  <tbody>\n",
       "    <tr>\n",
       "      <th>0</th>\n",
       "      <td>0.362294</td>\n",
       "      <td>0.009952</td>\n",
       "      <td>0.01659</td>\n",
       "      <td>0.002694</td>\n",
       "      <td>0.694171</td>\n",
       "      <td>0.011894</td>\n",
       "      <td>0.000502</td>\n",
       "    </tr>\n",
       "  </tbody>\n",
       "</table>\n",
       "</div>"
      ],
      "text/plain": [
       "    Neutral     Happy      Sad     Angry  Surprised    Scared  Disgusted\n",
       "0  0.362294  0.009952  0.01659  0.002694   0.694171  0.011894   0.000502"
      ]
     },
     "execution_count": 96,
     "metadata": {},
     "output_type": "execute_result"
    }
   ],
   "source": [
    "m.predict('2_7', df)"
   ]
  },
  {
   "cell_type": "code",
   "execution_count": 97,
   "id": "41576a5f",
   "metadata": {},
   "outputs": [
    {
     "data": {
      "text/plain": [
       "True"
      ]
     },
     "execution_count": 97,
     "metadata": {},
     "output_type": "execute_result"
    }
   ],
   "source": [
    "m.model_facs_clear is None"
   ]
  },
  {
   "cell_type": "code",
   "execution_count": null,
   "id": "4ec3ca1d",
   "metadata": {},
   "outputs": [],
   "source": []
  },
  {
   "cell_type": "code",
   "execution_count": 1,
   "id": "9853671c",
   "metadata": {},
   "outputs": [],
   "source": [
    "from abc import ABC, abstractmethod"
   ]
  },
  {
   "cell_type": "code",
   "execution_count": 40,
   "id": "cc37f2ef",
   "metadata": {},
   "outputs": [],
   "source": [
    "class AbstractModel(ABC):\n",
    "    _model = None\n",
    "    \n",
    "    @property\n",
    "    @abstractmethod\n",
    "    def type_(self):\n",
    "        pass\n",
    "\n",
    "    @abstractmethod\n",
    "    def loadmodel(self, path):\n",
    "        pass\n",
    "    \n",
    "    @abstractmethod\n",
    "    def predict(self, input_):\n",
    "        pass"
   ]
  },
  {
   "cell_type": "code",
   "execution_count": 41,
   "id": "28984d13",
   "metadata": {},
   "outputs": [],
   "source": [
    "seven_fields = [\n",
    "    'Neutral', \n",
    "    'Happy', \n",
    "    'Sad', \n",
    "    'Angry', \n",
    "    'Surprised', \n",
    "    'Scared', \n",
    "    'Disgusted'\n",
    "]"
   ]
  },
  {
   "cell_type": "code",
   "execution_count": 42,
   "id": "5acf3326",
   "metadata": {},
   "outputs": [],
   "source": [
    "class ModelVAClearNeural(AbstractModel):\n",
    "    def __init__(self, path):\n",
    "        self.loadmodel(path)\n",
    "    \n",
    "    @property\n",
    "    def type_(self):\n",
    "        return '2->7 (Neutral)'\n",
    "    \n",
    "    def loadmodel(self, path):\n",
    "        from tensorflow.keras.models import load_model\n",
    "        self._model = load_model(path)\n",
    "    \n",
    "    def predict(self, df_VA):\n",
    "        neural_vals = self._model.predict(df_VA.values)\n",
    "        df_Neural = pd.DataFrame(neural_vals, columns=seven_fields)\n",
    "        return df_Neural"
   ]
  },
  {
   "cell_type": "code",
   "execution_count": 43,
   "id": "cb38881b",
   "metadata": {},
   "outputs": [
    {
     "data": {
      "text/plain": [
       "'2->7 (Neutral)'"
      ]
     },
     "execution_count": 43,
     "metadata": {},
     "output_type": "execute_result"
    }
   ],
   "source": [
    "path = '/home/ivan/Рабочий стол/Учёба/Git/NIR_1_sem_magistracy/saved_models/third/_2/model_third_7.9.8_2'\n",
    "m = ModelVAClearNeural(path)\n",
    "m.type_"
   ]
  },
  {
   "cell_type": "code",
   "execution_count": 59,
   "id": "bab42e24",
   "metadata": {},
   "outputs": [
    {
     "data": {
      "text/html": [
       "<div>\n",
       "<style scoped>\n",
       "    .dataframe tbody tr th:only-of-type {\n",
       "        vertical-align: middle;\n",
       "    }\n",
       "\n",
       "    .dataframe tbody tr th {\n",
       "        vertical-align: top;\n",
       "    }\n",
       "\n",
       "    .dataframe thead th {\n",
       "        text-align: right;\n",
       "    }\n",
       "</style>\n",
       "<table border=\"1\" class=\"dataframe\">\n",
       "  <thead>\n",
       "    <tr style=\"text-align: right;\">\n",
       "      <th></th>\n",
       "      <th>Neutral</th>\n",
       "      <th>Happy</th>\n",
       "      <th>Sad</th>\n",
       "      <th>Angry</th>\n",
       "      <th>Surprised</th>\n",
       "      <th>Scared</th>\n",
       "      <th>Disgusted</th>\n",
       "    </tr>\n",
       "  </thead>\n",
       "  <tbody>\n",
       "    <tr>\n",
       "      <th>0</th>\n",
       "      <td>0.362294</td>\n",
       "      <td>0.009952</td>\n",
       "      <td>0.01659</td>\n",
       "      <td>0.002694</td>\n",
       "      <td>0.694171</td>\n",
       "      <td>0.011894</td>\n",
       "      <td>0.000502</td>\n",
       "    </tr>\n",
       "  </tbody>\n",
       "</table>\n",
       "</div>"
      ],
      "text/plain": [
       "    Neutral     Happy      Sad     Angry  Surprised    Scared  Disgusted\n",
       "0  0.362294  0.009952  0.01659  0.002694   0.694171  0.011894   0.000502"
      ]
     },
     "execution_count": 59,
     "metadata": {},
     "output_type": "execute_result"
    }
   ],
   "source": [
    "m.predict(df)"
   ]
  },
  {
   "cell_type": "code",
   "execution_count": 18,
   "id": "2a4edf05",
   "metadata": {},
   "outputs": [],
   "source": [
    "import pandas as pd"
   ]
  },
  {
   "cell_type": "code",
   "execution_count": 19,
   "id": "d3e1e0a7",
   "metadata": {},
   "outputs": [],
   "source": [
    "cols = ['Valence', 'Arousal']"
   ]
  },
  {
   "cell_type": "code",
   "execution_count": 55,
   "id": "040585e1",
   "metadata": {},
   "outputs": [],
   "source": [
    "rows = [{cols[0]: 0, cols[1]: 0.75}]"
   ]
  },
  {
   "cell_type": "code",
   "execution_count": 56,
   "id": "5d0086e0",
   "metadata": {},
   "outputs": [
    {
     "data": {
      "text/html": [
       "<div>\n",
       "<style scoped>\n",
       "    .dataframe tbody tr th:only-of-type {\n",
       "        vertical-align: middle;\n",
       "    }\n",
       "\n",
       "    .dataframe tbody tr th {\n",
       "        vertical-align: top;\n",
       "    }\n",
       "\n",
       "    .dataframe thead th {\n",
       "        text-align: right;\n",
       "    }\n",
       "</style>\n",
       "<table border=\"1\" class=\"dataframe\">\n",
       "  <thead>\n",
       "    <tr style=\"text-align: right;\">\n",
       "      <th></th>\n",
       "      <th>Valence</th>\n",
       "      <th>Arousal</th>\n",
       "    </tr>\n",
       "  </thead>\n",
       "  <tbody>\n",
       "    <tr>\n",
       "      <th>0</th>\n",
       "      <td>0</td>\n",
       "      <td>0.75</td>\n",
       "    </tr>\n",
       "  </tbody>\n",
       "</table>\n",
       "</div>"
      ],
      "text/plain": [
       "   Valence  Arousal\n",
       "0        0     0.75"
      ]
     },
     "execution_count": 56,
     "metadata": {},
     "output_type": "execute_result"
    }
   ],
   "source": [
    "df = pd.DataFrame(rows, columns=cols)\n",
    "df"
   ]
  },
  {
   "cell_type": "code",
   "execution_count": 57,
   "id": "312026e6",
   "metadata": {},
   "outputs": [
    {
     "data": {
      "text/plain": [
       "array([[0.  , 0.75]])"
      ]
     },
     "execution_count": 57,
     "metadata": {},
     "output_type": "execute_result"
    }
   ],
   "source": [
    "df.values"
   ]
  },
  {
   "cell_type": "code",
   "execution_count": 58,
   "id": "18e50eb9",
   "metadata": {},
   "outputs": [
    {
     "data": {
      "text/html": [
       "<div>\n",
       "<style scoped>\n",
       "    .dataframe tbody tr th:only-of-type {\n",
       "        vertical-align: middle;\n",
       "    }\n",
       "\n",
       "    .dataframe tbody tr th {\n",
       "        vertical-align: top;\n",
       "    }\n",
       "\n",
       "    .dataframe thead th {\n",
       "        text-align: right;\n",
       "    }\n",
       "</style>\n",
       "<table border=\"1\" class=\"dataframe\">\n",
       "  <thead>\n",
       "    <tr style=\"text-align: right;\">\n",
       "      <th></th>\n",
       "      <th>Valence</th>\n",
       "      <th>Arousal</th>\n",
       "    </tr>\n",
       "  </thead>\n",
       "  <tbody>\n",
       "    <tr>\n",
       "      <th>0</th>\n",
       "      <td>0.0</td>\n",
       "      <td>0.75</td>\n",
       "    </tr>\n",
       "  </tbody>\n",
       "</table>\n",
       "</div>"
      ],
      "text/plain": [
       "   Valence  Arousal\n",
       "0      0.0     0.75"
      ]
     },
     "execution_count": 58,
     "metadata": {},
     "output_type": "execute_result"
    }
   ],
   "source": [
    "df = pd.DataFrame(df.values, columns=cols)\n",
    "df"
   ]
  },
  {
   "cell_type": "code",
   "execution_count": 88,
   "id": "72d02f9b",
   "metadata": {},
   "outputs": [
    {
     "data": {
      "text/html": [
       "<div>\n",
       "<style scoped>\n",
       "    .dataframe tbody tr th:only-of-type {\n",
       "        vertical-align: middle;\n",
       "    }\n",
       "\n",
       "    .dataframe tbody tr th {\n",
       "        vertical-align: top;\n",
       "    }\n",
       "\n",
       "    .dataframe thead th {\n",
       "        text-align: right;\n",
       "    }\n",
       "</style>\n",
       "<table border=\"1\" class=\"dataframe\">\n",
       "  <thead>\n",
       "    <tr style=\"text-align: right;\">\n",
       "      <th></th>\n",
       "      <th>Valence</th>\n",
       "      <th>Arousal</th>\n",
       "    </tr>\n",
       "  </thead>\n",
       "  <tbody>\n",
       "    <tr>\n",
       "      <th>0</th>\n",
       "      <td>0.0</td>\n",
       "      <td>0.75</td>\n",
       "    </tr>\n",
       "  </tbody>\n",
       "</table>\n",
       "</div>"
      ],
      "text/plain": [
       "   Valence  Arousal\n",
       "0      0.0     0.75"
      ]
     },
     "execution_count": 88,
     "metadata": {},
     "output_type": "execute_result"
    }
   ],
   "source": []
  },
  {
   "cell_type": "code",
   "execution_count": null,
   "id": "39b7fb9c",
   "metadata": {},
   "outputs": [],
   "source": [
    "class ModelVAClearStat()"
   ]
  },
  {
   "cell_type": "code",
   "execution_count": null,
   "id": "4779787b",
   "metadata": {},
   "outputs": [],
   "source": []
  },
  {
   "cell_type": "code",
   "execution_count": 1,
   "id": "e13081ee",
   "metadata": {},
   "outputs": [],
   "source": [
    "import os"
   ]
  },
  {
   "cell_type": "code",
   "execution_count": 5,
   "id": "dee165ea",
   "metadata": {},
   "outputs": [],
   "source": [
    "filename, file_extension = os.path.splitext('/path/to/somefile.tar.gz')"
   ]
  },
  {
   "cell_type": "code",
   "execution_count": 6,
   "id": "8f9f4a85",
   "metadata": {},
   "outputs": [
    {
     "data": {
      "text/plain": [
       "'.gz'"
      ]
     },
     "execution_count": 6,
     "metadata": {},
     "output_type": "execute_result"
    }
   ],
   "source": [
    "file_extension"
   ]
  },
  {
   "cell_type": "code",
   "execution_count": 4,
   "id": "deb51429",
   "metadata": {},
   "outputs": [
    {
     "data": {
      "text/plain": [
       "'/home/ivan/Рабочий стол/Учёба/Git/2_sem/NIR_2_sem_magistracy'"
      ]
     },
     "execution_count": 4,
     "metadata": {},
     "output_type": "execute_result"
    }
   ],
   "source": [
    "os.getcwd()"
   ]
  },
  {
   "cell_type": "code",
   "execution_count": 7,
   "id": "7ccb6589",
   "metadata": {},
   "outputs": [],
   "source": [
    "import tarfile"
   ]
  },
  {
   "cell_type": "code",
   "execution_count": 8,
   "id": "efb62365",
   "metadata": {},
   "outputs": [
    {
     "data": {
      "text/plain": [
       "'6.4.9_3'"
      ]
     },
     "execution_count": 8,
     "metadata": {},
     "output_type": "execute_result"
    }
   ],
   "source": [
    "os.path.basename(\"6.4.9_3\")"
   ]
  },
  {
   "cell_type": "code",
   "execution_count": 19,
   "id": "9bd33bb5",
   "metadata": {},
   "outputs": [],
   "source": [
    "with tarfile.open(\"save.tar.gz\",'w:gz') as tar:\n",
    "    for file in [\"type\",\"6.4.9_3\"]:\n",
    "        tar.add(file)"
   ]
  },
  {
   "cell_type": "code",
   "execution_count": 31,
   "id": "1d2e57f8",
   "metadata": {},
   "outputs": [
    {
     "name": "stdout",
     "output_type": "stream",
     "text": [
      "2->7 (Neural)\n",
      "\n"
     ]
    }
   ],
   "source": [
    "with tarfile.open(\"save.tar.gz\",'r:gz') as tar:\n",
    "    for file in tar:\n",
    "        if file.name == 'type':\n",
    "            f = file\n",
    "            #print(file.tobuf())\n",
    "    print(tar.extractfile('type').read().decode())"
   ]
  },
  {
   "cell_type": "code",
   "execution_count": 37,
   "id": "6f704b21",
   "metadata": {},
   "outputs": [],
   "source": [
    "type_model_interface_dict = {\n",
    "    '2->7 (Neural)': 'ModelVAClearNeural',\n",
    "    '2->7 (Stat)': 'ModelVAClearStat',\n",
    "    '7->2 (Neural)': 'ModelClearVANeural',\n",
    "    '7->2 (Stat)': 'ModelClearVAStat',\n",
    "    '7->42 (Stat)': 'ModelClearFACSStat',\n",
    "    '42->7 (Stat)': 'ModelFACSClearStat',\n",
    "    '2->42 (Stat)': 'ModelVAFACSStat',\n",
    "    '42->2 (Stat)': 'ModelFACSVAStat'\n",
    "}"
   ]
  },
  {
   "cell_type": "code",
   "execution_count": 38,
   "id": "c6acbbf2",
   "metadata": {},
   "outputs": [
    {
     "ename": "IndentationError",
     "evalue": "expected an indented block (588957787.py, line 6)",
     "output_type": "error",
     "traceback": [
      "\u001b[0;36m  Input \u001b[0;32mIn [38]\u001b[0;36m\u001b[0m\n\u001b[0;31m    with tarfile.open(path, 'r:gz') as tar:\u001b[0m\n\u001b[0m    ^\u001b[0m\n\u001b[0;31mIndentationError\u001b[0m\u001b[0;31m:\u001b[0m expected an indented block\n"
     ]
    }
   ],
   "source": [
    "def check_model_format(path):\n",
    "    filename, file_extension = os.path.splitext(path)\n",
    "    if file_extension != '.gz':\n",
    "        return False\n",
    "    try:\n",
    "        with tarfile.open(path, 'r:gz') as tar:\n",
    "            type_filename = 'type'\n",
    "            model_type = tar.extractfile(type_filename).read().decode()\n",
    "            if model_type not in type_model_interface_dict:\n",
    "                return False\n",
    "    except :\n",
    "        return False\n",
    "    return True"
   ]
  },
  {
   "cell_type": "code",
   "execution_count": 73,
   "id": "a5267ce0",
   "metadata": {},
   "outputs": [],
   "source": [
    "def check_model_format(path):\n",
    "    filename, file_extension = os.path.splitext(path)\n",
    "    if file_extension != '.gz':\n",
    "        return False\n",
    "    with tarfile.open(path, 'r:gz') as tar:\n",
    "        type_filename = 'type'\n",
    "        model_type = tar.extractfile(type_filename).read().decode().strip()\n",
    "        if model_type not in type_model_interface_dict:\n",
    "            return False\n",
    "        print(tar.fileobj)\n",
    "    return True"
   ]
  },
  {
   "cell_type": "code",
   "execution_count": 74,
   "id": "b34e4247",
   "metadata": {
    "scrolled": true
   },
   "outputs": [
    {
     "name": "stdout",
     "output_type": "stream",
     "text": [
      "<gzip _io.BufferedReader name='/home/ivan/Рабочий стол/Учёба/Git/2_sem/NIR_2_sem_magistracy/save.tar.gz' 0x7f3971d02e80>\n"
     ]
    },
    {
     "data": {
      "text/plain": [
       "True"
      ]
     },
     "execution_count": 74,
     "metadata": {},
     "output_type": "execute_result"
    }
   ],
   "source": [
    "path = '/home/ivan/Рабочий стол/Учёба/Git/2_sem/NIR_2_sem_magistracy/save.tar.gz'\n",
    "\n",
    "check_model_format(path)"
   ]
  },
  {
   "cell_type": "code",
   "execution_count": 53,
   "id": "2a23f170",
   "metadata": {},
   "outputs": [],
   "source": [
    "class MyClass:\n",
    "    pass"
   ]
  },
  {
   "cell_type": "code",
   "execution_count": 55,
   "id": "70bb3443",
   "metadata": {},
   "outputs": [
    {
     "data": {
      "text/plain": [
       "str"
      ]
     },
     "execution_count": 55,
     "metadata": {},
     "output_type": "execute_result"
    }
   ],
   "source": [
    "type('MyClass')"
   ]
  },
  {
   "cell_type": "code",
   "execution_count": 62,
   "id": "b62c25c0",
   "metadata": {},
   "outputs": [
    {
     "data": {
      "text/plain": [
       "'__main__'"
      ]
     },
     "execution_count": 62,
     "metadata": {},
     "output_type": "execute_result"
    }
   ],
   "source": [
    "__name__"
   ]
  },
  {
   "cell_type": "code",
   "execution_count": 61,
   "id": "a040fb0f",
   "metadata": {},
   "outputs": [
    {
     "data": {
      "text/plain": [
       "<module '__main__'>"
      ]
     },
     "execution_count": 61,
     "metadata": {},
     "output_type": "execute_result"
    }
   ],
   "source": [
    "sys.modules[__name__]"
   ]
  },
  {
   "cell_type": "code",
   "execution_count": 63,
   "id": "53f80116",
   "metadata": {},
   "outputs": [
    {
     "data": {
      "text/plain": [
       "['In',\n",
       " 'MyClass',\n",
       " 'Out',\n",
       " '_',\n",
       " '_3',\n",
       " '_34',\n",
       " '_4',\n",
       " '_40',\n",
       " '_41',\n",
       " '_43',\n",
       " '_44',\n",
       " '_46',\n",
       " '_48',\n",
       " '_52',\n",
       " '_55',\n",
       " '_56',\n",
       " '_57',\n",
       " '_58',\n",
       " '_6',\n",
       " '_60',\n",
       " '_61',\n",
       " '_62',\n",
       " '_8',\n",
       " '__',\n",
       " '___',\n",
       " '__builtin__',\n",
       " '__builtins__',\n",
       " '__doc__',\n",
       " '__loader__',\n",
       " '__name__',\n",
       " '__package__',\n",
       " '__spec__',\n",
       " '_dh',\n",
       " '_i',\n",
       " '_i1',\n",
       " '_i10',\n",
       " '_i11',\n",
       " '_i12',\n",
       " '_i13',\n",
       " '_i14',\n",
       " '_i15',\n",
       " '_i16',\n",
       " '_i17',\n",
       " '_i18',\n",
       " '_i19',\n",
       " '_i2',\n",
       " '_i20',\n",
       " '_i21',\n",
       " '_i22',\n",
       " '_i23',\n",
       " '_i24',\n",
       " '_i25',\n",
       " '_i26',\n",
       " '_i27',\n",
       " '_i28',\n",
       " '_i29',\n",
       " '_i3',\n",
       " '_i30',\n",
       " '_i31',\n",
       " '_i32',\n",
       " '_i33',\n",
       " '_i34',\n",
       " '_i35',\n",
       " '_i36',\n",
       " '_i37',\n",
       " '_i38',\n",
       " '_i39',\n",
       " '_i4',\n",
       " '_i40',\n",
       " '_i41',\n",
       " '_i42',\n",
       " '_i43',\n",
       " '_i44',\n",
       " '_i45',\n",
       " '_i46',\n",
       " '_i47',\n",
       " '_i48',\n",
       " '_i49',\n",
       " '_i5',\n",
       " '_i50',\n",
       " '_i51',\n",
       " '_i52',\n",
       " '_i53',\n",
       " '_i54',\n",
       " '_i55',\n",
       " '_i56',\n",
       " '_i57',\n",
       " '_i58',\n",
       " '_i59',\n",
       " '_i6',\n",
       " '_i60',\n",
       " '_i61',\n",
       " '_i62',\n",
       " '_i63',\n",
       " '_i7',\n",
       " '_i8',\n",
       " '_i9',\n",
       " '_ih',\n",
       " '_ii',\n",
       " '_iii',\n",
       " '_oh',\n",
       " 'check_model_format',\n",
       " 'exit',\n",
       " 'f',\n",
       " 'file',\n",
       " 'file_extension',\n",
       " 'filename',\n",
       " 'get_ipython',\n",
       " 'os',\n",
       " 'path',\n",
       " 'quit',\n",
       " 'sys',\n",
       " 'tar',\n",
       " 'tarfile',\n",
       " 'type_model_interface_dict']"
      ]
     },
     "execution_count": 63,
     "metadata": {},
     "output_type": "execute_result"
    }
   ],
   "source": [
    "dir(sys.modules[__name__])"
   ]
  },
  {
   "cell_type": "code",
   "execution_count": 95,
   "id": "578dd3fb",
   "metadata": {},
   "outputs": [
    {
     "data": {
      "text/plain": [
       "<__main__.MyClass at 0x7f3970cc2df0>"
      ]
     },
     "execution_count": 95,
     "metadata": {},
     "output_type": "execute_result"
    }
   ],
   "source": [
    "import sys\n",
    "\n",
    "getattr(sys.modules[__name__], 'MyClass')()"
   ]
  },
  {
   "cell_type": "code",
   "execution_count": 84,
   "id": "e4844f4a",
   "metadata": {},
   "outputs": [],
   "source": [
    "data = b'H4sICJu64WIC/3NhdmUudGFyAO3VsQrCMBQF0Mx+RUYdTF/SJK2D4ugk/oEEzFCwIrWV+ve2dFAoVRxakNyzvJAE3nS5IhLR9uDqnXcnX7BRUGdoEin7Orf3kpSMGa/ZBKpb6YpmPQuTUjwvs9yvpTWpSXWsSdCMQSDKx9WPvaMNtbW6nTIx9D47spd/HVvGacr8Z3d3+fTv2/u/5n+5Sfh876vCnRfIfXAE+h/93/V/0/3KUGrQ/wGxQovVMY7G7v/EmOH+J+r3f5N/g/4HAAAAAAAAAAAAAAAA+MkTIcIR/AAoAAA='"
   ]
  },
  {
   "cell_type": "code",
   "execution_count": 75,
   "id": "77985430",
   "metadata": {},
   "outputs": [
    {
     "ename": "AttributeError",
     "evalue": "'bytes' object has no attribute 'readable'",
     "output_type": "error",
     "traceback": [
      "\u001b[0;31m---------------------------------------------------------------------------\u001b[0m",
      "\u001b[0;31mAttributeError\u001b[0m                            Traceback (most recent call last)",
      "Input \u001b[0;32mIn [75]\u001b[0m, in \u001b[0;36m<cell line: 2>\u001b[0;34m()\u001b[0m\n\u001b[1;32m      1\u001b[0m \u001b[38;5;28;01mimport\u001b[39;00m \u001b[38;5;21;01mio\u001b[39;00m\n\u001b[0;32m----> 2\u001b[0m \u001b[43mio\u001b[49m\u001b[38;5;241;43m.\u001b[39;49m\u001b[43mBufferedReader\u001b[49m\u001b[43m(\u001b[49m\u001b[43mdata\u001b[49m\u001b[43m)\u001b[49m\n",
      "\u001b[0;31mAttributeError\u001b[0m: 'bytes' object has no attribute 'readable'"
     ]
    }
   ],
   "source": [
    "import io\n",
    "io.BufferedReader(data)"
   ]
  },
  {
   "cell_type": "code",
   "execution_count": 65,
   "id": "f745cf05",
   "metadata": {},
   "outputs": [],
   "source": [
    "path = '/home/ivan/Рабочий стол/Учёба/Магистратура/2 семестр/НИР/Прогресс/Practice/July/23.07.22/format/Neuro/f.tar.gz'"
   ]
  },
  {
   "cell_type": "code",
   "execution_count": 68,
   "id": "200a4f55",
   "metadata": {},
   "outputs": [
    {
     "ename": "AttributeError",
     "evalue": "'str' object has no attribute 'tell'",
     "output_type": "error",
     "traceback": [
      "\u001b[0;31m---------------------------------------------------------------------------\u001b[0m",
      "\u001b[0;31mAttributeError\u001b[0m                            Traceback (most recent call last)",
      "Input \u001b[0;32mIn [68]\u001b[0m, in \u001b[0;36m<cell line: 1>\u001b[0;34m()\u001b[0m\n\u001b[1;32m      1\u001b[0m \u001b[38;5;28;01mwith\u001b[39;00m \u001b[38;5;28mopen\u001b[39m(path, \u001b[38;5;124m'\u001b[39m\u001b[38;5;124mr\u001b[39m\u001b[38;5;124m'\u001b[39m) \u001b[38;5;28;01mas\u001b[39;00m f:\n\u001b[0;32m----> 2\u001b[0m     \u001b[43mtarfile\u001b[49m\u001b[38;5;241;43m.\u001b[39;49m\u001b[43mTarFile\u001b[49m\u001b[43m(\u001b[49m\u001b[43mfileobj\u001b[49m\u001b[38;5;241;43m=\u001b[39;49m\u001b[43mpath\u001b[49m\u001b[43m)\u001b[49m\n",
      "File \u001b[0;32m~/.pyenv/versions/3.9.1/lib/python3.9/tarfile.py:1514\u001b[0m, in \u001b[0;36mTarFile.__init__\u001b[0;34m(self, name, mode, fileobj, format, tarinfo, dereference, ignore_zeros, encoding, errors, pax_headers, debug, errorlevel, copybufsize)\u001b[0m\n\u001b[1;32m   1512\u001b[0m \u001b[38;5;28mself\u001b[39m\u001b[38;5;241m.\u001b[39mmembers \u001b[38;5;241m=\u001b[39m []       \u001b[38;5;66;03m# list of members as TarInfo objects\u001b[39;00m\n\u001b[1;32m   1513\u001b[0m \u001b[38;5;28mself\u001b[39m\u001b[38;5;241m.\u001b[39m_loaded \u001b[38;5;241m=\u001b[39m \u001b[38;5;28;01mFalse\u001b[39;00m    \u001b[38;5;66;03m# flag if all members have been read\u001b[39;00m\n\u001b[0;32m-> 1514\u001b[0m \u001b[38;5;28mself\u001b[39m\u001b[38;5;241m.\u001b[39moffset \u001b[38;5;241m=\u001b[39m \u001b[38;5;28;43mself\u001b[39;49m\u001b[38;5;241;43m.\u001b[39;49m\u001b[43mfileobj\u001b[49m\u001b[38;5;241;43m.\u001b[39;49m\u001b[43mtell\u001b[49m()\n\u001b[1;32m   1515\u001b[0m                         \u001b[38;5;66;03m# current position in the archive file\u001b[39;00m\n\u001b[1;32m   1516\u001b[0m \u001b[38;5;28mself\u001b[39m\u001b[38;5;241m.\u001b[39minodes \u001b[38;5;241m=\u001b[39m {}        \u001b[38;5;66;03m# dictionary caching the inodes of\u001b[39;00m\n",
      "\u001b[0;31mAttributeError\u001b[0m: 'str' object has no attribute 'tell'"
     ]
    }
   ],
   "source": [
    "with open(path, 'r') as f:\n",
    "    tarfile.TarFile(fileobj=path)"
   ]
  },
  {
   "cell_type": "code",
   "execution_count": null,
   "id": "f65e3594",
   "metadata": {},
   "outputs": [],
   "source": []
  },
  {
   "cell_type": "code",
   "execution_count": 93,
   "id": "61558aa3",
   "metadata": {},
   "outputs": [
    {
     "name": "stdout",
     "output_type": "stream",
     "text": [
      "/tmp/tmpav797e44\n"
     ]
    }
   ],
   "source": [
    "import tempfile\n",
    "import base64\n",
    "\n",
    "with tempfile.NamedTemporaryFile(delete=False) as f:\n",
    "    f.write(base64.decodebytes(data))\n",
    "    print(f.name)"
   ]
  },
  {
   "cell_type": "code",
   "execution_count": 94,
   "id": "6287292b",
   "metadata": {
    "scrolled": true
   },
   "outputs": [
    {
     "name": "stdout",
     "output_type": "stream",
     "text": [
      "2->7 (Neural)\n",
      "<gzip _io.BufferedReader name='/tmp/tmpav797e44' 0x7f3970cc2f40>\n"
     ]
    }
   ],
   "source": [
    "path = '/tmp/tmpav797e44'\n",
    "\n",
    "with tarfile.open(path, 'r:gz') as tar:\n",
    "    type_filename = 'type'\n",
    "    model_type = tar.extractfile(type_filename).read().decode().strip()\n",
    "    print(model_type)\n",
    "    print(tar.fileobj)"
   ]
  },
  {
   "cell_type": "code",
   "execution_count": 90,
   "id": "02ca52c7",
   "metadata": {},
   "outputs": [
    {
     "data": {
      "text/plain": [
       "'/tmp/tmpw2a_u6_9'"
      ]
     },
     "execution_count": 90,
     "metadata": {},
     "output_type": "execute_result"
    }
   ],
   "source": [
    "path"
   ]
  },
  {
   "cell_type": "code",
   "execution_count": 91,
   "id": "7fa3cab6",
   "metadata": {},
   "outputs": [],
   "source": [
    "os.remove(path)"
   ]
  },
  {
   "cell_type": "code",
   "execution_count": null,
   "id": "8fab0664",
   "metadata": {},
   "outputs": [],
   "source": []
  },
  {
   "cell_type": "code",
   "execution_count": 87,
   "id": "7c49e631",
   "metadata": {},
   "outputs": [],
   "source": [
    "path = '/home/ivan/Рабочий стол/Учёба/Git/2_sem/NIR_2_sem_magistracy/save.tar.gz'"
   ]
  },
  {
   "cell_type": "code",
   "execution_count": 88,
   "id": "bce364b9",
   "metadata": {},
   "outputs": [
    {
     "name": "stdout",
     "output_type": "stream",
     "text": [
      "2->7 (Neural)\n",
      "<gzip _io.BufferedReader name='/home/ivan/Рабочий стол/Учёба/Git/2_sem/NIR_2_sem_magistracy/save.tar.gz' 0x7f39713820a0>\n"
     ]
    }
   ],
   "source": [
    "with tarfile.open(path, 'r:gz') as tar:\n",
    "    type_filename = 'type'\n",
    "    model_type = tar.extractfile(type_filename).read().decode().strip()\n",
    "    print(model_type)\n",
    "    print(tar.fileobj)"
   ]
  },
  {
   "cell_type": "code",
   "execution_count": null,
   "id": "a7feabc6",
   "metadata": {},
   "outputs": [],
   "source": []
  },
  {
   "cell_type": "code",
   "execution_count": null,
   "id": "3b473687",
   "metadata": {},
   "outputs": [],
   "source": [
    "print(uploaded_file_contents)\n",
    "data = uploaded_file_contents[0].encode(\"utf8\").split(b\";base64,\")[1]\n",
    "print(data)"
   ]
  },
  {
   "cell_type": "code",
   "execution_count": null,
   "id": "00c6d14e",
   "metadata": {},
   "outputs": [],
   "source": []
  },
  {
   "cell_type": "code",
   "execution_count": 96,
   "id": "14507417",
   "metadata": {},
   "outputs": [],
   "source": [
    "l = [(1, '2'), (2, '3')]"
   ]
  },
  {
   "cell_type": "code",
   "execution_count": 97,
   "id": "7d89660e",
   "metadata": {},
   "outputs": [
    {
     "data": {
      "text/plain": [
       "['2', '3']"
      ]
     },
     "execution_count": 97,
     "metadata": {},
     "output_type": "execute_result"
    }
   ],
   "source": [
    "list(map(lambda x: x[1], l))"
   ]
  },
  {
   "cell_type": "code",
   "execution_count": 99,
   "id": "9c6cb5f3",
   "metadata": {},
   "outputs": [
    {
     "data": {
      "text/plain": [
       "3"
      ]
     },
     "execution_count": 99,
     "metadata": {},
     "output_type": "execute_result"
    }
   ],
   "source": [
    "len({1, 2, 3})"
   ]
  },
  {
   "cell_type": "code",
   "execution_count": 113,
   "id": "635cdbc3",
   "metadata": {},
   "outputs": [],
   "source": [
    "l = [(1, '2', 3), (1, '1', 3), (1, '3', 3), (1, '1', 3), (1, '1', 3), (1, '2', 3)]"
   ]
  },
  {
   "cell_type": "code",
   "execution_count": 114,
   "id": "98a14d54",
   "metadata": {},
   "outputs": [],
   "source": [
    "d = {}"
   ]
  },
  {
   "cell_type": "code",
   "execution_count": 115,
   "id": "9725a1b9",
   "metadata": {},
   "outputs": [],
   "source": [
    "for t in l:\n",
    "    if t[1] not in d:\n",
    "        d[t[1]] = 0\n",
    "    d[t[1]] += 1"
   ]
  },
  {
   "cell_type": "code",
   "execution_count": 116,
   "id": "7f5c1ced",
   "metadata": {},
   "outputs": [
    {
     "data": {
      "text/plain": [
       "{'2': 2, '1': 3, '3': 1}"
      ]
     },
     "execution_count": 116,
     "metadata": {},
     "output_type": "execute_result"
    }
   ],
   "source": [
    "d"
   ]
  },
  {
   "cell_type": "code",
   "execution_count": 118,
   "id": "8f789e3f",
   "metadata": {},
   "outputs": [
    {
     "data": {
      "text/plain": [
       "('1', 3)"
      ]
     },
     "execution_count": 118,
     "metadata": {},
     "output_type": "execute_result"
    }
   ],
   "source": [
    "sorted(list(d.items()), key=lambda x: x[1])[-1]"
   ]
  },
  {
   "cell_type": "code",
   "execution_count": 119,
   "id": "efcac3a2",
   "metadata": {},
   "outputs": [],
   "source": [
    "a = 1\n",
    "b = 2"
   ]
  },
  {
   "cell_type": "code",
   "execution_count": 122,
   "id": "831a7b57",
   "metadata": {},
   "outputs": [
    {
     "data": {
      "text/plain": [
       "'Вы выбрали несколько моделей одинакового типа. Модель типа 1 встречается 2 раз.'"
      ]
     },
     "execution_count": 122,
     "metadata": {},
     "output_type": "execute_result"
    }
   ],
   "source": [
    "f'Вы выбрали несколько моделей одинакового типа. \\\n",
    "Модель типа {a} встречается {b} раз.'"
   ]
  },
  {
   "cell_type": "code",
   "execution_count": null,
   "id": "ed477082",
   "metadata": {},
   "outputs": [],
   "source": []
  },
  {
   "cell_type": "code",
   "execution_count": 1,
   "id": "5d60462e",
   "metadata": {},
   "outputs": [],
   "source": [
    "type_model_dict = {\n",
    "    '2_7': 'model_va_clear',\n",
    "    '7_2': 'model_clear_va',\n",
    "    '7_42': 'model_clear_facs',\n",
    "    '42_7': 'model_facs_clear',\n",
    "    '2_42': 'model_va_facs',\n",
    "    '42_2': 'model_facs_va'\n",
    "}"
   ]
  },
  {
   "cell_type": "code",
   "execution_count": 5,
   "id": "71f3058c",
   "metadata": {},
   "outputs": [],
   "source": [
    "cur_values_from_model_facade = {}"
   ]
  },
  {
   "cell_type": "code",
   "execution_count": 4,
   "id": "a24c8b05",
   "metadata": {},
   "outputs": [
    {
     "name": "stdout",
     "output_type": "stream",
     "text": [
      "model_va_clear\n",
      "model_clear_va\n",
      "model_clear_facs\n",
      "model_facs_clear\n",
      "model_va_facs\n",
      "model_facs_va\n"
     ]
    }
   ],
   "source": [
    "for model_attr in type_model_dict.values():\n",
    "    cur_values_from_model_facade[model_attr] = getattr(model_facade, model_attr)"
   ]
  },
  {
   "cell_type": "code",
   "execution_count": null,
   "id": "7c03cd27",
   "metadata": {},
   "outputs": [],
   "source": [
    "getattr(model_facade, )"
   ]
  },
  {
   "cell_type": "code",
   "execution_count": null,
   "id": "93b1dd76",
   "metadata": {},
   "outputs": [],
   "source": [
    "getattr(model_facade, type_model_dict[model_type])"
   ]
  },
  {
   "cell_type": "code",
   "execution_count": null,
   "id": "8fb9face",
   "metadata": {},
   "outputs": [],
   "source": []
  },
  {
   "cell_type": "code",
   "execution_count": 6,
   "id": "5636d2b7",
   "metadata": {},
   "outputs": [],
   "source": [
    "type_model_interface_dict = {\n",
    "    '2->7 (Neural)': 'ModelVAClearNeural',\n",
    "    '2->7 (Stat)': 'ModelVAClearStat',\n",
    "    '7->2 (Neural)': 'ModelClearVANeural',\n",
    "    '7->2 (Stat)': 'ModelClearVAStat',\n",
    "    '7->42 (Stat)': 'ModelClearFACSStat',\n",
    "    '42->7 (Stat)': 'ModelFACSClearStat',\n",
    "    '2->42 (Stat)': 'ModelVAFACSStat',\n",
    "    '42->2 (Stat)': 'ModelFACSVAStat'\n",
    "}"
   ]
  },
  {
   "cell_type": "code",
   "execution_count": 13,
   "id": "b3dfaf16",
   "metadata": {},
   "outputs": [
    {
     "data": {
      "text/plain": [
       "dict_items([('2->7 (Neural)', 'ModelVAClearNeural'), ('2->7 (Stat)', 'ModelVAClearStat'), ('7->2 (Neural)', 'ModelClearVANeural'), ('7->2 (Stat)', 'ModelClearVAStat'), ('7->42 (Stat)', 'ModelClearFACSStat'), ('42->7 (Stat)', 'ModelFACSClearStat'), ('2->42 (Stat)', 'ModelVAFACSStat'), ('42->2 (Stat)', 'ModelFACSVAStat')])"
      ]
     },
     "execution_count": 13,
     "metadata": {},
     "output_type": "execute_result"
    }
   ],
   "source": [
    "type_model_interface_dict.items()"
   ]
  },
  {
   "cell_type": "code",
   "execution_count": 12,
   "id": "2204bf99",
   "metadata": {},
   "outputs": [
    {
     "name": "stdout",
     "output_type": "stream",
     "text": [
      "2_7\n",
      "2_7\n",
      "7_2\n",
      "7_2\n",
      "7_42\n",
      "42_7\n",
      "2_42\n",
      "42_2\n"
     ]
    }
   ],
   "source": [
    "for key in type_model_interface_dict.keys():\n",
    "    print('_'.join(key.split(' ')[0].split('->')))"
   ]
  },
  {
   "cell_type": "code",
   "execution_count": null,
   "id": "b2ca6768",
   "metadata": {},
   "outputs": [],
   "source": [
    "type_model_interface_key_to_type_model_key"
   ]
  }
 ],
 "metadata": {
  "kernelspec": {
   "display_name": "Python 3 (ipykernel)",
   "language": "python",
   "name": "python3"
  },
  "language_info": {
   "codemirror_mode": {
    "name": "ipython",
    "version": 3
   },
   "file_extension": ".py",
   "mimetype": "text/x-python",
   "name": "python",
   "nbconvert_exporter": "python",
   "pygments_lexer": "ipython3",
   "version": "3.9.1"
  }
 },
 "nbformat": 4,
 "nbformat_minor": 5
}
